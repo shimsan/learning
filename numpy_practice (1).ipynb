{
  "nbformat": 4,
  "nbformat_minor": 0,
  "metadata": {
    "colab": {
      "name": "numpy_practice.ipynb",
      "provenance": []
    },
    "kernelspec": {
      "name": "python3",
      "display_name": "Python 3"
    },
    "accelerator": "GPU"
  },
  "cells": [
    {
      "cell_type": "markdown",
      "metadata": {
        "id": "lCVIoVR2oPU-",
        "colab_type": "text"
      },
      "source": [
        "# NumPy Colab Practice"
      ]
    },
    {
      "cell_type": "markdown",
      "metadata": {
        "id": "S6lE1qSgmZXS",
        "colab_type": "text"
      },
      "source": [
        "* Adapted from material created by Alex Chabot-Leclerc for use in Google Colab  \n",
        "* Video Tutorial: https://www.youtube.com/watch?v=ZB7BZMhfPgk\n",
        "* Tutorial git repo: https://github.com/enthought/Numpy-Tutorial-SciPyConf-2019"
      ]
    },
    {
      "cell_type": "markdown",
      "metadata": {
        "id": "QclHTqs3iLzQ",
        "colab_type": "text"
      },
      "source": [
        "## Setup"
      ]
    },
    {
      "cell_type": "markdown",
      "metadata": {
        "id": "Z07C2BT5vIe_",
        "colab_type": "text"
      },
      "source": [
        "Setup Drive for file storage/retrieval, imports"
      ]
    },
    {
      "cell_type": "code",
      "metadata": {
        "id": "_fA1JinkihWB",
        "colab_type": "code",
        "outputId": "2d7d3624-370d-4f8b-c420-dcc8fd4bd096",
        "colab": {
          "base_uri": "https://localhost:8080/",
          "height": 122
        }
      },
      "source": [
        "from google.colab import drive\n",
        "import os\n",
        "import numpy as np\n",
        "\n",
        "drive.mount('/content/gdrive')\n",
        "root_path = '/content/gdrive/My Drive/shimsan/numpy_practice'  #change dir to your project folder"
      ],
      "execution_count": 1,
      "outputs": [
        {
          "output_type": "stream",
          "text": [
            "Go to this URL in a browser: https://accounts.google.com/o/oauth2/auth?client_id=947318989803-6bn6qk8qdgf4n4g3pfee6491hc0brc4i.apps.googleusercontent.com&redirect_uri=urn%3aietf%3awg%3aoauth%3a2.0%3aoob&response_type=code&scope=email%20https%3a%2f%2fwww.googleapis.com%2fauth%2fdocs.test%20https%3a%2f%2fwww.googleapis.com%2fauth%2fdrive%20https%3a%2f%2fwww.googleapis.com%2fauth%2fdrive.photos.readonly%20https%3a%2f%2fwww.googleapis.com%2fauth%2fpeopleapi.readonly\n",
            "\n",
            "Enter your authorization code:\n",
            "··········\n",
            "Mounted at /content/gdrive\n"
          ],
          "name": "stdout"
        }
      ]
    },
    {
      "cell_type": "code",
      "metadata": {
        "id": "Sfn0CtFVkamK",
        "colab_type": "code",
        "colab": {
          "base_uri": "https://localhost:8080/",
          "height": 68
        },
        "outputId": "e2d2fa23-5a01-48b8-e705-3fc190aa94d8"
      },
      "source": [
        "! ls\n",
        "print(root_path)\n",
        "os.chdir(root_path)\n",
        "! pwd"
      ],
      "execution_count": 2,
      "outputs": [
        {
          "output_type": "stream",
          "text": [
            "gdrive\tsample_data\n",
            "/content/gdrive/My Drive/shimsan/numpy_practice\n",
            "/content/gdrive/My Drive/shimsan/numpy_practice\n"
          ],
          "name": "stdout"
        }
      ]
    },
    {
      "cell_type": "code",
      "metadata": {
        "id": "Q_rc57JbmLaB",
        "colab_type": "code",
        "colab": {
          "base_uri": "https://localhost:8080/",
          "height": 153
        },
        "outputId": "b25c08a1-cb1a-41be-a1fd-2d6cf6b0a615"
      },
      "source": [
        "## Getting data for Enthought Numpy Tutorial Repo. (Run only once)\n",
        "#! git clone https://github.com/enthought/Numpy-Tutorial-SciPyConf-2019\n",
        "#! pwd\n",
        "#! ls"
      ],
      "execution_count": 11,
      "outputs": [
        {
          "output_type": "stream",
          "text": [
            "Cloning into 'Numpy-Tutorial-SciPyConf-2019'...\n",
            "remote: Enumerating objects: 38, done.\u001b[K\n",
            "remote: Counting objects: 100% (38/38), done.\u001b[K\n",
            "remote: Compressing objects: 100% (31/31), done.\u001b[K\n",
            "remote: Total 38 (delta 7), reused 33 (delta 6), pack-reused 0\u001b[K\n",
            "Unpacking objects: 100% (38/38), done.\n",
            "/content/gdrive/My Drive/shimsan/numpy_practice\n",
            "Numpy-Tutorial-SciPyConf-2019\n"
          ],
          "name": "stdout"
        }
      ]
    },
    {
      "cell_type": "code",
      "metadata": {
        "id": "EIOvzrr6o1a0",
        "colab_type": "code",
        "colab": {}
      },
      "source": [
        "tut_path = root_path + \"/Numpy-Tutorial-SciPyConf-2019\""
      ],
      "execution_count": 0,
      "outputs": []
    },
    {
      "cell_type": "markdown",
      "metadata": {
        "id": "9A3P87Enxmc-",
        "colab_type": "text"
      },
      "source": [
        "## NumPy Practice"
      ]
    },
    {
      "cell_type": "code",
      "metadata": {
        "id": "dI0UNEoux9FD",
        "colab_type": "code",
        "colab": {}
      },
      "source": [
        "import numpy as np\n",
        "#print(f\"NumPy Version: {np.__version__}\")\n",
        "#print(\"NumPy Configuration:\")\n",
        "#np.show_config()\n"
      ],
      "execution_count": 0,
      "outputs": []
    },
    {
      "cell_type": "code",
      "metadata": {
        "id": "Lm9x26XU1FBq",
        "colab_type": "code",
        "outputId": "0b451aac-6988-43a8-c52f-9e0279cac73e",
        "colab": {
          "base_uri": "https://localhost:8080/",
          "height": 34
        }
      },
      "source": [
        "a = [1, 2, 3, 4, 5]\n",
        "b = [10, 11, 12, 13, 14]\n",
        "a+b"
      ],
      "execution_count": 0,
      "outputs": [
        {
          "output_type": "execute_result",
          "data": {
            "text/plain": [
              "[1, 2, 3, 4, 5, 10, 11, 12, 13, 14]"
            ]
          },
          "metadata": {
            "tags": []
          },
          "execution_count": 2
        }
      ]
    },
    {
      "cell_type": "markdown",
      "metadata": {
        "id": "1_J3fl6M1x31",
        "colab_type": "text"
      },
      "source": [
        "Using + returns concatenated list instead of addition which was what was intended. Other option is for-loops (Ew!). So, enter NumPy"
      ]
    },
    {
      "cell_type": "code",
      "metadata": {
        "id": "dsd4fw5F1avz",
        "colab_type": "code",
        "outputId": "27110e64-e797-4a9b-e613-944259ca6b35",
        "colab": {
          "base_uri": "https://localhost:8080/",
          "height": 34
        }
      },
      "source": [
        "a1 = np.array(a)\n",
        "a1"
      ],
      "execution_count": 0,
      "outputs": [
        {
          "output_type": "execute_result",
          "data": {
            "text/plain": [
              "array([1, 2, 3, 4, 5])"
            ]
          },
          "metadata": {
            "tags": []
          },
          "execution_count": 3
        }
      ]
    },
    {
      "cell_type": "code",
      "metadata": {
        "id": "aOjwMGwJ2WA-",
        "colab_type": "code",
        "outputId": "1a93f58b-dee1-4dfb-f506-ac60ca2b5e36",
        "colab": {
          "base_uri": "https://localhost:8080/",
          "height": 34
        }
      },
      "source": [
        "a1.dtype"
      ],
      "execution_count": 0,
      "outputs": [
        {
          "output_type": "execute_result",
          "data": {
            "text/plain": [
              "dtype('int64')"
            ]
          },
          "metadata": {
            "tags": []
          },
          "execution_count": 4
        }
      ]
    },
    {
      "cell_type": "code",
      "metadata": {
        "id": "0G3RMpJ41cXl",
        "colab_type": "code",
        "outputId": "e8a760c0-cbc3-42ab-c011-64a782eeb244",
        "colab": {
          "base_uri": "https://localhost:8080/",
          "height": 34
        }
      },
      "source": [
        "a1.ndim"
      ],
      "execution_count": 0,
      "outputs": [
        {
          "output_type": "execute_result",
          "data": {
            "text/plain": [
              "1"
            ]
          },
          "metadata": {
            "tags": []
          },
          "execution_count": 5
        }
      ]
    },
    {
      "cell_type": "code",
      "metadata": {
        "id": "2BT5aqSK2Zq-",
        "colab_type": "code",
        "outputId": "bd63f8cc-ede0-455d-e884-4197f67a9086",
        "colab": {
          "base_uri": "https://localhost:8080/",
          "height": 34
        }
      },
      "source": [
        "a1.shape"
      ],
      "execution_count": 0,
      "outputs": [
        {
          "output_type": "execute_result",
          "data": {
            "text/plain": [
              "(5,)"
            ]
          },
          "metadata": {
            "tags": []
          },
          "execution_count": 6
        }
      ]
    },
    {
      "cell_type": "code",
      "metadata": {
        "id": "TDEFJIl45QDt",
        "colab_type": "code",
        "colab": {}
      },
      "source": [
        "f = np.array([1.2, 2.3, 3.4, 4.5, 5.6])"
      ],
      "execution_count": 0,
      "outputs": []
    },
    {
      "cell_type": "code",
      "metadata": {
        "id": "go0qH-y05X2i",
        "colab_type": "code",
        "outputId": "b0296b6f-c6bf-47a1-b1b9-ed49f58f2ac9",
        "colab": {
          "base_uri": "https://localhost:8080/",
          "height": 34
        }
      },
      "source": [
        "a1 + f"
      ],
      "execution_count": 0,
      "outputs": [
        {
          "output_type": "execute_result",
          "data": {
            "text/plain": [
              "array([ 2.2,  4.3,  6.4,  8.5, 10.6])"
            ]
          },
          "metadata": {
            "tags": []
          },
          "execution_count": 13
        }
      ]
    },
    {
      "cell_type": "code",
      "metadata": {
        "id": "e6r6LQe35Y1a",
        "colab_type": "code",
        "outputId": "034cd3ca-c28e-4144-c361-05def2edb588",
        "colab": {
          "base_uri": "https://localhost:8080/",
          "height": 34
        }
      },
      "source": [
        "a / f"
      ],
      "execution_count": 0,
      "outputs": [
        {
          "output_type": "execute_result",
          "data": {
            "text/plain": [
              "array([0.83333333, 0.86956522, 0.88235294, 0.88888889, 0.89285714])"
            ]
          },
          "metadata": {
            "tags": []
          },
          "execution_count": 9
        }
      ]
    },
    {
      "cell_type": "code",
      "metadata": {
        "id": "POYJqAaL5Zu1",
        "colab_type": "code",
        "outputId": "6aeadd99-ddf3-4057-b944-bd4f1754313f",
        "colab": {
          "base_uri": "https://localhost:8080/",
          "height": 34
        }
      },
      "source": [
        "a * f"
      ],
      "execution_count": 0,
      "outputs": [
        {
          "output_type": "execute_result",
          "data": {
            "text/plain": [
              "array([ 1.2,  4.6, 10.2, 18. , 28. ])"
            ]
          },
          "metadata": {
            "tags": []
          },
          "execution_count": 10
        }
      ]
    },
    {
      "cell_type": "code",
      "metadata": {
        "id": "7sGbRPqY5aef",
        "colab_type": "code",
        "outputId": "237f238c-81b6-421a-ad32-3d6b56b58255",
        "colab": {
          "base_uri": "https://localhost:8080/",
          "height": 51
        }
      },
      "source": [
        "a1 ** f"
      ],
      "execution_count": 0,
      "outputs": [
        {
          "output_type": "execute_result",
          "data": {
            "text/plain": [
              "array([1.00000000e+00, 4.92457765e+00, 4.18998305e+01, 5.12000000e+02,\n",
              "       8.20789939e+03])"
            ]
          },
          "metadata": {
            "tags": []
          },
          "execution_count": 11
        }
      ]
    },
    {
      "cell_type": "code",
      "metadata": {
        "id": "HqdFRLT15bVX",
        "colab_type": "code",
        "outputId": "f2e82eef-9315-449b-90c4-3c302007ecbe",
        "colab": {
          "base_uri": "https://localhost:8080/",
          "height": 34
        }
      },
      "source": [
        "a1 * 10"
      ],
      "execution_count": 0,
      "outputs": [
        {
          "output_type": "execute_result",
          "data": {
            "text/plain": [
              "array([10, 20, 30, 40, 50])"
            ]
          },
          "metadata": {
            "tags": []
          },
          "execution_count": 14
        }
      ]
    },
    {
      "cell_type": "code",
      "metadata": {
        "id": "_yjbUzds671I",
        "colab_type": "code",
        "outputId": "6f3ca8fd-d02c-420b-f406-6c5b6ec5949f",
        "colab": {
          "base_uri": "https://localhost:8080/",
          "height": 34
        }
      },
      "source": [
        "# Universal Functions - ufuncs\n",
        "np.sin(a1)"
      ],
      "execution_count": 0,
      "outputs": [
        {
          "output_type": "execute_result",
          "data": {
            "text/plain": [
              "array([ 0.84147098,  0.90929743,  0.14112001, -0.7568025 , -0.95892427])"
            ]
          },
          "metadata": {
            "tags": []
          },
          "execution_count": 15
        }
      ]
    },
    {
      "cell_type": "markdown",
      "metadata": {
        "id": "3_7CG1rLUWCw",
        "colab_type": "text"
      },
      "source": [
        "## Slicing and Indexing"
      ]
    },
    {
      "cell_type": "code",
      "metadata": {
        "id": "s7qXS7ls41HY",
        "colab_type": "code",
        "colab": {}
      },
      "source": [
        "arr = np.arange(25).reshape(5,5)\n",
        "print(arr)"
      ],
      "execution_count": 0,
      "outputs": []
    },
    {
      "cell_type": "markdown",
      "metadata": {
        "id": "68MNa3_pVy0k",
        "colab_type": "text"
      },
      "source": [
        "Get the slices below"
      ]
    },
    {
      "cell_type": "markdown",
      "metadata": {
        "id": "pr4H5OAdVlih",
        "colab_type": "text"
      },
      "source": [
        "![image.png](data:image/png;base64,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)"
      ]
    },
    {
      "cell_type": "code",
      "metadata": {
        "id": "n_zLjA0F7BMK",
        "colab_type": "code",
        "colab": {}
      },
      "source": [
        "yellow = arr[-1]\n",
        "print(yellow)"
      ],
      "execution_count": 0,
      "outputs": []
    },
    {
      "cell_type": "code",
      "metadata": {
        "id": "fy9OOYTMWIb7",
        "colab_type": "code",
        "colab": {}
      },
      "source": [
        "red = arr[:, 1::2]\n",
        "print(red)"
      ],
      "execution_count": 0,
      "outputs": []
    },
    {
      "cell_type": "code",
      "metadata": {
        "id": "HfGlI9-CWIm5",
        "colab_type": "code",
        "colab": {}
      },
      "source": [
        "blue = arr[1::2, :-2:2]\n",
        "print(blue)"
      ],
      "execution_count": 0,
      "outputs": []
    },
    {
      "cell_type": "code",
      "metadata": {
        "id": "lVTJfwH2UefG",
        "colab_type": "code",
        "colab": {}
      },
      "source": [
        "a = np.array([1, 2, 3, 4, 5])\n",
        "b = a[:2] #This is shallow copy, so WILL change a if b changes. For deepcopy use --> b = a.copy()\n",
        "b"
      ],
      "execution_count": 0,
      "outputs": []
    },
    {
      "cell_type": "code",
      "metadata": {
        "id": "hIh73hCAWPaz",
        "colab_type": "code",
        "colab": {}
      },
      "source": [
        "b[0] = -1\n",
        "print(b)\n",
        "print(a)"
      ],
      "execution_count": 0,
      "outputs": []
    },
    {
      "cell_type": "markdown",
      "metadata": {
        "id": "jbKzqMBZhOQR",
        "colab_type": "text"
      },
      "source": [
        "## Filter Image Exercise"
      ]
    },
    {
      "cell_type": "markdown",
      "metadata": {
        "id": "UeBv5EYbqJpt",
        "colab_type": "text"
      },
      "source": [
        "### Exercise Starting Code"
      ]
    },
    {
      "cell_type": "code",
      "metadata": {
        "id": "2BXlvArKqD3b",
        "colab_type": "code",
        "colab": {}
      },
      "source": [
        "\"\"\"\n",
        "Filter Image\n",
        "------------\n",
        "\n",
        "Read in the \"dc_metro\" image and use an averaging filter\n",
        "to \"smooth\" the image.  Use a \"5 point stencil\" where\n",
        "you average the current pixel with its neighboring pixels::\n",
        "\n",
        "              0 0 0 0 0 0 0\n",
        "              0 0 0 x 0 0 0\n",
        "              0 0 x x x 0 0\n",
        "              0 0 0 x 0 0 0\n",
        "              0 0 0 0 0 0 0\n",
        "\n",
        "Plot the image, the smoothed image, and the difference between the\n",
        "two.\n",
        "\n",
        "Bonus\n",
        "~~~~~\n",
        "\n",
        "Re-filter the image by passing the result image through the filter again. Do\n",
        "this 50 times and plot the resulting image.\n",
        "\n",
        "See :ref:`filter-image-solution`.\n",
        "\"\"\"\n",
        "\n",
        "import matplotlib.pyplot as plt\n",
        "\n",
        "img_path = tut_path + '/exercises/filter_image/dc_metro.png'\n",
        "img = plt.imread(img_path)\n",
        "\n",
        "plt.imshow(img, cmap=plt.cm.hot)\n",
        "plt.show()"
      ],
      "execution_count": 0,
      "outputs": []
    },
    {
      "cell_type": "markdown",
      "metadata": {
        "id": "jqmrbaoEuqrD",
        "colab_type": "text"
      },
      "source": [
        "### Exercise Solution"
      ]
    },
    {
      "cell_type": "code",
      "metadata": {
        "id": "uIwgXmp7sWn7",
        "colab_type": "code",
        "colab": {
          "base_uri": "https://localhost:8080/",
          "height": 119
        },
        "outputId": "0ab3d904-cd73-44d3-f154-4d4d8e43708b"
      },
      "source": [
        "## Getting the slices figured out using an example array\n",
        "x = np.arange(36).reshape(6,6)\n",
        "print(x)\n"
      ],
      "execution_count": 45,
      "outputs": [
        {
          "output_type": "stream",
          "text": [
            "[[ 0  1  2  3  4  5]\n",
            " [ 6  7  8  9 10 11]\n",
            " [12 13 14 15 16 17]\n",
            " [18 19 20 21 22 23]\n",
            " [24 25 26 27 28 29]\n",
            " [30 31 32 33 34 35]]\n"
          ],
          "name": "stdout"
        }
      ]
    },
    {
      "cell_type": "code",
      "metadata": {
        "id": "DVB18X5TwX14",
        "colab_type": "code",
        "colab": {}
      },
      "source": [
        "top = x[:-2, 1:-1] ## Get rid of 2 bottom rows, and one column to the left, and one column to the right\n",
        "print(top)\n",
        "\n",
        "bottom = x[2:, 1:-1]\n",
        "print(bottom)\n",
        "\n",
        "left = x[1:-1, :-2] ## get rid of top and bottom rows, and two at the right\n",
        "print(left)\n",
        "\n",
        "right = x[1:-1, 2:]\n",
        "print(right)\n",
        "\n",
        "center = x[1:-1, 1:-1]\n",
        "print(center)"
      ],
      "execution_count": 0,
      "outputs": []
    },
    {
      "cell_type": "markdown",
      "metadata": {
        "id": "RiWVvWL7x4Nt",
        "colab_type": "text"
      },
      "source": [
        "Completed Solution"
      ]
    },
    {
      "cell_type": "code",
      "metadata": {
        "id": "sjfkihfVx1eq",
        "colab_type": "code",
        "colab": {
          "base_uri": "https://localhost:8080/",
          "height": 299
        },
        "outputId": "273c1ebb-5302-4412-9077-bb07cb0f1107"
      },
      "source": [
        "import numpy as np\n",
        "import matplotlib.pyplot as plt\n",
        "\n",
        "def smooth(img):\n",
        "    avg_img =(    img[1:-1 ,1:-1]  # center\n",
        "                + img[ :-2 ,1:-1]  # top\n",
        "                + img[2:   ,1:-1]  # bottom\n",
        "                + img[1:-1 , :-2]  # left\n",
        "                + img[1:-1 ,2:  ]  # right\n",
        "                ) / 5.0\n",
        "    return avg_img\n",
        "\n",
        "\n",
        "def smooth_loop(img):\n",
        "    smoothed = np.zeros((img.shape[0]-2, img.shape[1]-2))\n",
        "    for r in range(0, img.shape[0]-2):\n",
        "        for c in range(0, img.shape[1]-2):\n",
        "            smoothed[r, c] = (  img[r+1, c+1]  # center\n",
        "                              + img[r  , c+1]  # top\n",
        "                              + img[r+2, c+1]  # bottom\n",
        "                              + img[r+1, c  ]  # left\n",
        "                              + img[r+1, c+2]  # right\n",
        "                             ) / 5.0\n",
        "    return smoothed\n",
        "\n",
        "img_path = tut_path + '/exercises/filter_image/dc_metro.png'\n",
        "img = plt.imread(img_path)\n",
        "avg_img = smooth(img)\n",
        "\n",
        "plt.figure()\n",
        "# Set colormap so that images are plotted in gray scale.\n",
        "plt.gray()\n",
        "# Plot the original image first\n",
        "plt.subplot(1,3,1)\n",
        "plt.imshow(img)\n",
        "plt.title('original')\n",
        "\n",
        "# Now the filtered image.\n",
        "plt.subplot(1,3,2)\n",
        "plt.imshow(avg_img)\n",
        "plt.title('smoothed once')\n",
        "\n",
        "# And finally the difference between the two.\n",
        "plt.subplot(1,3,3)\n",
        "plt.imshow(img[1:-1,1:-1] - avg_img)\n",
        "plt.title('difference')\n",
        "\n",
        "\n",
        "# Bonus: Re-filter the image by passing the result image\n",
        "#        through the filter again.  Do this 50 times and plot\n",
        "#        the resulting image.\n",
        "\n",
        "for num in range(50):\n",
        "    avg_img = smooth(avg_img)\n",
        "\n",
        "# Plot the original image first\n",
        "plt.figure()\n",
        "plt.subplot(1,2,1)\n",
        "plt.imshow(img)\n",
        "plt.title('original')\n",
        "\n",
        "# Now the filtered image.\n",
        "plt.subplot(1,2,2)\n",
        "plt.imshow(avg_img)\n",
        "plt.title('smoothed 50 times')\n",
        "\n",
        "assert np.allclose(smooth(img), smooth_loop(img))\n",
        "\n",
        "plt.show()"
      ],
      "execution_count": 53,
      "outputs": [
        {
          "output_type": "display_data",
          "data": {
            "image/png": "[encoded data removed]",
            "text/plain": [
              "<Figure size 432x288 with 3 Axes>"
            ]
          },
          "metadata": {
            "tags": []
          }
        },
        {
          "output_type": "display_data",
          "data": {
            "image/png": "[encoded data removed]",
            "text/plain": [
              "<Figure size 432x288 with 2 Axes>"
            ]
          },
          "metadata": {
            "tags": []
          }
        }
      ]
    },
    {
      "cell_type": "code",
      "metadata": {
        "id": "HCJCkxId50-Q",
        "colab_type": "code",
        "colab": {
          "base_uri": "https://localhost:8080/",
          "height": 34
        },
        "outputId": "7e6b8382-0a81-4f90-a6df-28025a103496"
      },
      "source": [
        "%timeit(smooth(img))"
      ],
      "execution_count": 54,
      "outputs": [
        {
          "output_type": "stream",
          "text": [
            "1000 loops, best of 3: 711 µs per loop\n"
          ],
          "name": "stdout"
        }
      ]
    },
    {
      "cell_type": "code",
      "metadata": {
        "id": "4h2tc4ti586d",
        "colab_type": "code",
        "colab": {
          "base_uri": "https://localhost:8080/",
          "height": 34
        },
        "outputId": "dfa01dbd-9973-408e-a0ca-20a08ce3a0f8"
      },
      "source": [
        "%timeit(smooth_loop(img))"
      ],
      "execution_count": 55,
      "outputs": [
        {
          "output_type": "stream",
          "text": [
            "1 loop, best of 3: 1.01 s per loop\n"
          ],
          "name": "stdout"
        }
      ]
    },
    {
      "cell_type": "markdown",
      "metadata": {
        "id": "BfeqrCzzU4yC",
        "colab_type": "text"
      },
      "source": [
        "## Fancy Indexing"
      ]
    },
    {
      "cell_type": "code",
      "metadata": {
        "id": "WC1izMUVU6_8",
        "colab_type": "code",
        "colab": {
          "base_uri": "https://localhost:8080/",
          "height": 51
        },
        "outputId": "86e730ea-da9f-4224-f5e6-ee2dd4596999"
      },
      "source": [
        "fa = np.arange(0, 80, 10)\n",
        "print(fa)\n",
        "indices = [1, 2, -3]\n",
        "y = fa[indices]\n",
        "print(y)"
      ],
      "execution_count": 11,
      "outputs": [
        {
          "output_type": "stream",
          "text": [
            "[ 0 10 20 30 40 50 60 70]\n",
            "[10 20 50]\n"
          ],
          "name": "stdout"
        }
      ]
    },
    {
      "cell_type": "code",
      "metadata": {
        "id": "JYptXDc5U7do",
        "colab_type": "code",
        "colab": {
          "base_uri": "https://localhost:8080/",
          "height": 34
        },
        "outputId": "f881ef5f-0f43-4872-e995-5bdaedfdbb07"
      },
      "source": [
        "fa[indices] = 99\n",
        "print(fa)"
      ],
      "execution_count": 7,
      "outputs": [
        {
          "output_type": "stream",
          "text": [
            "[ 0 99 99 30 40 99 60 70]\n"
          ],
          "name": "stdout"
        }
      ]
    },
    {
      "cell_type": "code",
      "metadata": {
        "id": "hAcx2GX9U7pj",
        "colab_type": "code",
        "colab": {
          "base_uri": "https://localhost:8080/",
          "height": 34
        },
        "outputId": "48565dbe-e6cc-436f-fbe5-fc860ab8f8e2"
      },
      "source": [
        "mask = np.array([0, 1, 0, 1, 1, 0, 0, 1], dtype=bool)\n",
        "y = fa[mask]\n",
        "print(y)\n"
      ],
      "execution_count": 12,
      "outputs": [
        {
          "output_type": "stream",
          "text": [
            "[10 30 40 70]\n"
          ],
          "name": "stdout"
        }
      ]
    },
    {
      "cell_type": "code",
      "metadata": {
        "id": "0VWTniALW5oU",
        "colab_type": "code",
        "colab": {
          "base_uri": "https://localhost:8080/",
          "height": 102
        },
        "outputId": "d3e82234-751f-43bb-e5bf-e1e1a7f602e3"
      },
      "source": [
        "a = np.array([-1, -3, 1, 4, -6, 9, 3])\n",
        "neg = a<0\n",
        "print(neg)\n",
        "b = a[neg]\n",
        "print(a)\n",
        "print(f\"after mask:\\n{b}\")\n",
        "a[neg] = 0\n",
        "print(f\"After ReLU:{a}\")"
      ],
      "execution_count": 15,
      "outputs": [
        {
          "output_type": "stream",
          "text": [
            "[ True  True False False  True False False]\n",
            "[-1 -3  1  4 -6  9  3]\n",
            "after mask:\n",
            "[-1 -3 -6]\n",
            "After ReLU:[0 0 1 4 0 9 3]\n"
          ],
          "name": "stdout"
        }
      ]
    },
    {
      "cell_type": "markdown",
      "metadata": {
        "id": "xtLsXZ03ZC_b",
        "colab_type": "text"
      },
      "source": [
        "Fancy Indexing in 2-D"
      ]
    },
    {
      "cell_type": "markdown",
      "metadata": {
        "id": "oxDRKdt3d_4A",
        "colab_type": "text"
      },
      "source": [
        "![image.png](data:image/png;base64,iVBORw0KGgoAAAANSUhEUgAAAToAAADxCAYAAABbGnufAAAgAElEQVR4Aex9BXhVx9Z2bm9bJAlOizskQQsUJwKlLVWqlAptsWBJkBpQL+4aPydC8ABtkToW9+ASNHZOFG7l+597v9v2/Z93TlbYnEbOCTH6kTzrWbP3nj2zzsi716yZWWOTm5uLu3S3DO62gbtt4O/cBmzu5B+Xl5cHLdWm31Jb5ZIyonz5+fm1tvwop7YMtfLKb6iNXGSuzbLV9nqvirK7I4GOjYmFYTAYbqGqKCBr08zJyVGyGY1GZGdng9zaNKoyPuWT8qN8WhLZqzL/stI2BwnKI/KxHLOysqCVUX5HWWlW5zPKwzZJmbXlXJ0ylJQX5aI80iZZjkK1rX2WJH9l3LvjgE4aE3/89evXlVZCfuPGjeIOXBkFY20a0gGlMWllYuOX9Gqyc0rnowwFBQX47bffFOc1y0++9CJrdXPKIeVDTnkop9z7+eef1bX2d1S3jNr8RF6Rj3X/r3/9SxFlJ2nj12SY5cg6JrHef/nlF7A8a7rfVFeZ3JFAxwbExh4dHY2wsDDs2LEDCQkJ6msqgFNdBch8mGdhYWFxw2bDv3z5Mo4cOYIvv/wS586dU3FqQjZtOTB/yiaNOyUlBVu3boVOp8N3332H9PT0GgU7yiZ1y/K8du0afvzxR4SEhMDPzw8//PADMjMzFdjx41HT5Ul5KQMBjvIS5OLj43HgwAHFqdlpy78mw5SF/WXfvn04ePAg9u/fj71799Zov6nO8rijgE4aNhvY999/j9mzZ+PNN9/EG2+8ocI//fSTGjZUZwFKXmzoBBB2zoCAAMycOROvvfaakouNX2SX+DXFpXMSgGfMmIG33noLEydOVNzHxwdXrlypsQ+GgBzLhqDLcpw8eTImTZqk6pj17O3tjYyMjFoBICxLyiplmpqaigULFmDs2LFYt26dKks+r6m6F7nYNjlUXb58OV599VVVlq+//rpqn6zzq1evKhlrSs7q6At3HNCxM1BD+vTTT1VH/frrrxEeHq4667Jly3D27Nlqb1jSoCgbO2hgYCBWrVqFd955B++99x5iYmKKbXU11ZhERoLxmTNnMGfOHEyfPl194SMiIrB48WJMmzYNhw8fLgY6vlMdjVCbB8uHGhI14qCgIAVskZGRIH300Ufw8PBAXFzcLUNa7fvVGWZ9i1mCGhNBg2D84osvqvpPS0urUQCROuewlR+wjz/+GLNmzcK3336LqKgoRadPny7+DVJ2NVHvkndV8TsO6FhpbPRz585VQy5WChsZQY6gkpiYWDyErKpCKy9dfj2l4c+bN69WAR1thwQRvV6vhjBiV9qyZQumTp2q7hFsahqQKZcYzMlPnDiBL774QgE0PxwEmZrukJSB9cwyJXBQi+fHgqOMtWvXKgARsCmvzVTFc8lbPsCff/45vLy8sH37duzatUu1S7ElV0X+tSnNOw7oWGm01VAjoY2BwEfiMIf3jh07Vqw91URBEyCkA3KYVVuAjmVB2Vh+HPrxC8+wlCeHsSw/2u1YnjVRdpInZaKsNJqfOnVKAZy7uzs43KKmTPMA40j8muCsY7HNsTwpF4fYbIfUOlevXq2AWsCmpmRkviwryrhixQqlbXL4yuE1tU/aP1me/C019XGrjrK544COXyDa5/hlItCxkNiYaFB/9913cfTo0WJVXACnOgpS8mBjYaPhl55A9/7776uvvQxxakNjYrmw8VNGliE1EQIJDdXUnmra0E/5WIaUkUMrX19fVd/snJ988om6x+dS5jXBRUbyb775BhMmTFD1zQkots1Nmzap8uXzmq5z5s9+wyErh9diCvjwww+V+SI5OVnJWNNyVmU93pFAx0kH2hp27typGjsbPRvW/Pnz1SwSG1dVFlp5adP4S62IM4XU6DgZQZlqQ6On7AQQzl5yxpUA5+npiUOHDqnJFMrO5+X9xqp8zg7HsmLnJHE2k7ZPdlJOTtAuS5CuShnKSlvqkZxmgM8++wzPP/+80oipFY8fP17Zj7X2zrLSq+pnlJNlSA2ZRDvtf/7zH3z11VdKC2V5Mg7LlPVf1fLURPp3HNARQI4fP64AhMZVznTRZkOb3cqVK0EDMDsqK666C5R5spOSOFTYuHGj0uj4ledQkYBcE3KxHFgmbMjMn2VE0OCMKzsmv/QXLlxQmhI1upqSUVtfBBAOoykr5aH8XEZEOyLtS5RTG786w5SHdUyZKCdHE7QfLlq0SGlztNFRS+bHo6a1Y5YL5eUEFEc7rGf2IbYFjjjefvttNUKS31Sd5Vided1xQMfCYSOnMZ0dlRrJlClT1KwrjazUVKob6NhI+CXkV5NT9QQR2mn4ZacdhDJ+8MEHyrYoYMd3qrOipSGzbLjOi/akF154QZUh7XOcgWXn5Lq16paN5SB5sny4kJUgwTKkbFyyQQ2e5clhITss41Vn+ZWWF8uTYMb6Z7lSPg6xqXnWNNBJnVN2jn643InlydlrKga01XHEQfDTxi3tt97J9+8ooGNBi8bEL1RwcDBoZ6Ddhl/7S5cuqQYnnaY6K4YNnl9KgvDmzZuxcOFCtWRj6dKlamhDQzBtIzLkqm4ZJT/KyRnC9evXq5lqykdthMt1uMSEwy0BEXmnusqRsjFPliOXENGwzw8E10vS1kmNndoxgYVD2uqWr7RyYHlRdn4kWIYsT64C4DXbA9tsae9W5X0pH8rGZVfUPFme/KBxhQLX+tWGVQpVWQaS9h0HdBScFUjtiQ2IQ5uLFy/WWOeUgiSnPNK4GGYHIEmYXBu/OsOUS+QjULADEnSpATNMYliAuDplk7woo5Sf3KOGzE7KjxjLkvXOZzVZliIbucgrtk2WrZQj5dXGrYmwyEewI7EcWZ7sN5RPhrE1IVt15nlHAp0UECuRlSeVyfvasMSrbs4GRGJnJEmYctRkB9WWjchmzqu7rLT5UT6SlJFwkVtklWvtuzUZFplFPuE1KVNJeZdUnoxX28qzJNlv994dC3SsHG0FacO3Wyi3+77IZs5vN93KfN9cNrmuzDwqkhblkPe0MklY+1zi1RaulbG2yamVTcpL7sn135nfsUAnlVLbGpTIdZdXniPLu3VceWXJdvl/sTzveKC7CyiV2wnulufd8vw7toG7QHfXlXzxUPHv2MDv/qa7wM028LcAuv+LqvjdDny3A99tA5a3gbtAd1eju6vR3W0Df/s28LcBurtaneVft7uawN2y+r/WBu5ooCO4cR0dNymTGK5tFahdQ1fbZBN5uL6Kcsp1beQio6wFq40yUqY7Tc7aWo6VLdcdDXRsVNwVQVc+XNHPVd6VXUC3mx7BtzYCsPZ3UT6WnWjFwrVxaiIscrCeGaaMd1pZ1kS5WZKn1Lklcf8Oce5IoOM2GxY+PYLQDz73QnJDdW2qEHZMdlA6NaSLodqm2Ql4UE5uWeJWK9n+JQBT0+WplYOysb7pFaam5Sopf5YniVvpWJbkJcWrDfdYrpSP5cm+xGttWdcGGStbhjsW6Fgx3NjPcxnohYEblrXDr5qsODZ47n3knkI6HKCHCJ5SJuBS2ZVYenrcW8sh6a2Ul8cOmYGCglxkZqZj48b1mDaNjje/Qnr6VfB56WlWn32LWoeU2e7du5WXGnrypRbP+7VBRsrAtsa2xw8GverwsCE6dhBQrk2yUl6CHF000YMNndiKNi99prbJWxn1fMcCHX88h6z0KkwX2/Rkoq0gqbTKKCRr06Ac9K5Bh5t0ajlu3Dh17CHTkUZlbZrWxS8Z4LSARzD7+ZcbOH36JOYv+ACvvvoKQjcHIz3jKvLyTZ23JsuQv5dARxmodbBjsp7pdePkyZO1BuRETmqcrHd6g3n66aeVNxhuoOdzbbu0rh4r76PCcqQcbH9UEOj66plnnlHAzPtak0BtkLeyy+lvAXT0s1WbgI5fd3rZoENQAh395tGbK7+k1QMeZQMdQS4nx4AbN6h1nsaCD+fhlVdeRkhIUK0BOpYTOyWJnZDu1OmPjtrx+fPna8wdV0kdkLIS6Fjv1DhfeeUV8CAaDmEFYEp6rybu8QNMjZhOawl0PBf5LtDV0vVFYqMTja62Ah39vtGhJT3O0obIRi9UtY28fKAzGLOQX5CLU6dOKI1u3LixCA7W1wqgYxkR3NgpCXQEETozZT3TLx1NAlozRdWWZflaFWUVoKMfOh53SG/DBDrKVhs0JGl3LFNqmvTj+NRTT4Gnv1HGuxpdLQS72g50bNjU6Dh0pcdZehmmRidyV33HtAzoaKOToSs1utoEdOyYos2xPKnRsRzpOJJOOQVAagOIaIGODlZffvll5YCztmh0LCMBOi7Dovt3Ah01OgKdPJeyFF717bT8j0hlyXB36FoFQM6GwgYVGxurhq4ccvEAEnMtJI9f0pySKA/5OfnIzyEv6XnZ9/Jyywa6fA5dDVkoyDfZORd8OB8mjS5IzRBLp8jLY0PkRAbTy4XIS25qgHSpxLWLlU95eRyympa88ANREtBRzsrqCLeTDuWozRqdABnlZLukRkd36s8++6yy0VF2/n7G+zuCHH/b3xropMPeTiOuyLtsLBwiEOhEo1MnVxkMJrDjjKExB3lGE2fYRLnINeZpiNfyrHyuTc/UaOn804CcHBrKyU2Ul2tQQFeYX4DTp89iwYKP8Mor45Sdk0th8qlN5eYhvwjoGD8/14h8Gq01wJuXUzVAl5Obj5y8AuQWFCI3vxAGgxH+vn54643x+HD+fGWjy8nPQ17BrU5XK1JX8o60FUu5vEcuGh0BozYOXdkW5HcR6Gijo+t8nlzGSR7Wufb3MC6v5Z07gYv8pnZv+jDLPfK/NdCxAXL4IxXF66omyY/HytEfP4GOkxGyzk/JlJ+PwhKpAIV5hSjMu27i+QWlxCvtfdP9guLfSVsXO+KtVFiQB6MhCz8XFuLC6XP4dMHHGD/uNWwNCUVOVjb+VViI6wUFuFGQjxt5ucV0nYcAaeS+nleAG3mFt03X1W/mMYsmYMstvA5SwY2fkcd7xlz4bvLGm6+/gY8WLMDVy1fUh6TwegGuX6ctj/w6rheajkdU4aKjEi0Js84qQkyb7xE8pFPJIdG00clB22x/Vd3uykpffhvl/eWXX5TtkBrd6NGj1bkc1JjlfYl7J3HKzjKmzP9ngU77w/nF5cwn1ztVJckXkqdV8dQlDl0JdLzPfClDyUT5eJ4D17mRTGc7lBy3tDSykJmVhYzsLKRnZyI9OwPXDBmKM5yRnYFMQyaupl9BVlYmTp04hU8WfIxXXxoHvX8gLqWlITsrG9nZRhizc5CTaVDgZ8jKRHZWhlp/xzV4pOysTBh44PVtUnZReVDmDEM2rmVn4WoWZc/C1Yx0XLl6RR0dSRvd+/PmIfVEKtKz0ospIzPjtuuTa96sJWlDrB8uvqXti4fjcDKCs648XYtpst6tTbsy44uc5DSf0MZJoOMyGH9/fyV3ZeZXU2nJB4W/kWH5+PztNTr5sWyIRH0e2vvHH39UOf33v//Fn3/+qc6fFY0uOjoa//73v/H777+rZ39A+/8n/gD+Qr8D+O9t0P/iT/wv/sB/8Ecx/zd+x3/xB/79x3/wx59/IttYgI8+XoSXx47Hjl178euvvyk5mC/z//1P0p/qrf/iP/hf9S/8d0ge/wuGK5f+8ydlBf79x+/Qh4Zg3PjX8MFH85BTkIv//vFf/F70/8eff6gyZZlXlCraLpgf/4RzKEigo2ZH7ak2/lED5UllnIzgGblsl3+Hv19//bVUG+PfdugqaE6wo8rOg675tSXwcG0bzwwlrwriGaRMV7Q5Odu1OC8vD3h4zYTnLE94Mq6iOfDyegezvN7HLK95mOX1Aby83oPnrLmaOF6asLxXEmc8T3jM9sDM2Z6YMdsT0zU0c64H3D3cMd3TA9M8ZuO1N93x6vipmDxtFtxnemKGpxeme5j4NA8PTPWchmmekzHDazI8PN0x02MqZnhOx3TPmSoNpnM7NMPTA1pi3ZBmenlh+uxZmDrbE+PdJ2LcW6/hrYnjMWvWdMzycMdcr2mY6zUDc7w8MdtrFmZ5zVLbAbklkHVgDRXXjZVtgnnJcYyUmdo7lxPJIdZsA1xiZE68L8+mTZv2l+fm8W/nWvLiMYf8nSIn2yXz5j0+k3jkvC6uh6Jn5nG08WsyTPm5Q4orGzh8vW2NToaB5AIkNcFlmYb5OjreJ7Dxx5LzB/PrxYW7nPLv27evUtc528TDm8n5VaMKT15R4vukJ554Ak8++aQKc43Sc889p7ancf0XDb98TrsI+eOPP45HH3scj4x6DMOHu2DIoKFwGeKMx1xG4km3UXjSdSSeHOGK0SOcMXrkMIweOdQKGoLH3AbiEZf+cHPuB1fnfnBx7gdnkks/DB/+ENxc+2LY0H545JERGPvya3jt1Ql44onnMHTocDgP6Qu3QQ4YNrAzBgzugoFDHTFkSA/069kRQ3p2g1u/3nDt2weuffvBte/DcO07AC4P9Vfk3KcfyqPhvftCaFivhzCs50MgH9zrIQzobeK8HtirN3p0d0SPvj0x4slHMPa15/HqS09hxMM94Nq9M1y7dYSrUxcM7u6AXg5d0btXL3Tt2hXt27eHo6MjevXqhZ49eyrOcGnEONZSjx49QOrevbvKi2GmwXolyLEdODk5qXvdunWDEO9RviZNmuCBBx5Ap06dVDp83qVLFyU/f0NVkOTx0EMPqbY+YQLr/AklJ/NjmcnvoVyNGzeGvb09OnbsqJ5RPsrPeLWB+HsoZ926dfGPf/xDrbGkVschOkdwWmyySqOr7UCnBWACHU98J8i99NJLGDVqFLZt26YWm3ILEUGStorbJdphSJyy50LWEydOqLQ5s7Vv3z71ZWTDDw8PV7OF3H5DOn78JM6cOY9jx6KwbvVabFq5Esf27cG5yG9xMXIfLkV/ibSYPTivaDfOx4RbTrHhOBO9Eycjt+F45JZiSokIQ0rUFqRGhyE1dgsSo7bhxwNB+Pg9d7w97hlsXLEQsYf24eTRbbgWp8OlRB1OJG1GxJFgBHl/jg2fvYN93msQHRqI6BB/xIQEICpErygmNAhCsWHBiNsSCnKS9r7c4/P4rZsVJWwLQ+L2LYjbHobobZuRuDUMKWGbEbctFId3hmD/Tj0++2QO3n79GcyfPh4HfdcgMcQfx0N0iNf5IXLrZuzfvhXr16zGB++/D/+AANBUkJKSYhElJycjKSkJ5NYS32M+XDPJdzkk5EeUNjAets0JKVJcXJyK99NPP2HJkiVqZBEaGqr2QPN97oVmHKZTVcT0KQsP1qYGxI8vD7Gm3HwWERGh5GAc9hVqkTyInTKzH/F+VclmTbpczUB52Y+5BbRFixYK7Bgm0ImpqkJApwU5CTMhAoo2weoIm2t0steVGpzMHsmCXX61uOl///79ymDMRZwk8SoihmJyS8jc0Crv8z4LmJz3GOap91Sr3xw/Ht8cOICMq9eQcc1EhoxMHE9Mgs7PBz5rliLiwHZcSzqAvNQ9KDy+FQXHQ5F/IgR5JzYj98Rm5FhFocg5EQLDiSBkntTfQhm8Pq3HtVMByDwbhtRIXyz64CVMfmUoQjfNx5XUr5GdshmFqT4oPKvHuaQAHNi5GLqV7+Kg3wqc3h2Ga19vRebXIcj6OhhZX4cWU/a+zRAy7A8rDksceWbOMyWNr0KR/VUo8vaG4vqXm5G/LwzpB8Nw+rut2LRoNma89gQWe0xEyvZQXAvfibx9X8Pw1Zc4u+8rfBUajJXLlmLbju04d+E8MqyYcDKvU0uvxcjPSS7WOSckaB7hyICTETwkmvc5ScE0+SHklisuQfnyyy/VMg+2ZWk32nwl7crmzItyyIJh7jhhvuw7fEbOSbS1a9eqxcT8YLNPUw4+52+tSaKslINlShkffvhhuLq6onnz5uo3EegonzkulavR8QUSAUSmnOVU8uoAtZLyMAc6Dg1DQkLUzgMZrnL7lbu7u7JBfPvtt0qbYuEQ4GSGjJVYGURtjukIgF69dk01jKNHDmOW50y8/eYb2BO+E5fT0nDp/AVkpF1FcnQidOvXQbd+EWK/C8WVpHBkJYcgL8UbBSkrUJCyCPkpi5Gfugp5qauRd3w1co+bOMMl0xrkHV+LvNS1iuekroYxdRWMqSsVN6SuRnbqGhhOrEZG6jIYz2zEiWPLsHzeU5jxSn/s2DALmYlhMCR7o+DUGlyJX4Ydvu7w+WISDvotQ+r2QFwND0HObj3yd/ujcLcfCjSUH+4LEu8Jl7D2Om+nD4Rueb7LF9d3+uKXHb74fzv88MsuP+R9GYizu33gPW8SZr/yKFbMeAsJej9kbt+JnB3hyNixC0f8/bFh4RfYEhKMEydP4vLVq6qOWc+WENtFRYntSeqfoEYNiCYRrlM7fvy4ahdMm2GCCoGQIMeRBO/zHb5PslYGS36bNo7kR3s19wxz2MpJE45u+Du4h5jaHh0TbNy4Udm1+Q7bNjnTYryKEN/lb60oye9gOXEERY25Q4cOykzw2WefoVmzZuoeJ4AIdFYPXQlyBDZyqoqHDh1SaiMzFhDSanhyryq5OdBRowsKClJAR5scVVvuieRX6+DBg+oLpirq6hVcuXYZl65ewsUrF2+hy1cvQYhxrqZfVUswGL589WZHkEZZEmeZMB8CHr+Ahw/9BC+P6Zj01uvYtzccGZcvIuPiZSRHJSBgjTf8Vy1B3PehyDq5F8ZT22E4roMxZROMCqBWmEAqZT2MKRthTNlgBTH+JhhSvJGd6oPsVPJNRdwHhuObkJG8GlknfZFydC0Wvvci3MeOwJZ185GetANZp8JwIdkPO/VzsPHTKdi7fhESwoJwYVcY0neHIis8CMZwvaLscD2yd+uhOMPhemTt0inS3tOG5Tm5ul/0viFcD8MuHYw7dcjZqYNhlx7ZX27GmT3B2Dh/BjxfeQJLPCYinrLs2IFz27fh2w1r4PPph9iq80dyUgIuXkzDlStXrQYN1ltFScCOHZBAxiEhvYPQjEGQ4LDMz89PDWvpboqmC77D/EpqR1Vxj3lRFrbRxKQEvPf+O3juuWcREOCHC2nncOlSGn788XssWboI3j4bkZgUr+6dO38Gly9fVOFLZn3GvA+Vd83+xf5kDfGd9Ix0JTs1uVOnTqlJppYtW6q9zzt27FDlSqBjf6e5in3PaqDjC1QXOfTjPkPOKnEBLLfksGJF46tKYDNP2xzoOHsk/uho72Bj4xeVIMeCYcNRjfiKqZClwliIrBwBOHNOQDTdu9kJymqE0lHY0VjYRw79qGYH335jLHbv2IKMSxdxPDYeIZu8EbR6ORK+3YKslF3IOxmG/OOByCWgpa6FQWlhJqDLSVmPnJSNyEnZYAVtQk6KD4xFZCgO+6r7eambYEhajZwTfjh5dB0WvT8Wb73ohpB185Cesh3nE4KwXf8eNnwxHQf9N+DEjp24vHMXssK3IitcB8PuwCJgC7oF4ATMtEB2O+HsXXoY927Gmd1B2DiPQPckFs6chJitIUjdvhX7N66F98KPsDM0ACnJ8bh4+YLqyFIP1cEJHAJ0HKpyoTAnotjpCGhsj/SsQ7vc9u3b1T2x6bItEXxKorLaWUWesSy0QPfBB+9hzJin4e29EVevXcbRo4ewZMki6PQBSE1NxlW2fQG4S2mmcCUAnXkfK+ua/Y8KR9rFNDWkpvxcNcFhKkdxAQEByvZNDZSTO/y4VAjoqKkR6CIjI5XxktP11JzoTHLKlCnK2M4OTeBhXHNAkmutxifAeDtc5GJDmjt3rnKLs3XrVtWI1q9frxoVVXA2CMqXfi0dVy5fUQtPtV8TFiKvTdqbKax9LuGr1ywbAhWr9OnpyDYYcOzoIcz2mIoJ48fh4Nd7cDIpASG+3tCtW4zYb0OQnroHhpPbkHMiGPnHA5Cfugn5qeuQn7paUUHqWhSmbEBhyiYUpmy0mApSNiI/lbQJ+SneGvJR4cLUTShIXofCU/44dXQVFr7/PMa/5IwQv0+QGhmKr3QfIvCTyfgpYAVOhW/FpfDtyNm9DXnhwSjY7Y+83QHI2a1TQ1gTZ/h2SF/0fiBy9gQgJ9wfuYoCkP91CNL26uGzYDpmjn0cn3tOwg+bddjvux4+X3yI7Zt9cfxEHK5lXlEaOOuAHxoCUEWouA4tGKIJyFERYJjtTTQ6chrM2RnZEffu3auGhozLPAg88n5F5LT2HVO5mIaPqakpEKDTBwXi2LHDWLN2Ffz9fXHmzCnljJUOWQXorgjoFSkF0i/IywIqeaaNL33NEn4t85pSRK6lX1PD68mTJ6shKkGOOMSypUbHj0vTpk1vD+ho8+KXiOtkOBNDgOJME2c4NmzYoGwNlgAdQY8AxfEzVVBrie8JCbhSWyPQUaOjHzDaQGgE3rNnj9Lk+AXgV5b2EBpgz5w7g7Pnz+DM+TM4d+HsX4jPtMR4puuz6n2mUR6ZZnHPq0b/4w/fY+bUyXj79XHQ+3hj46qVWL/sCxz6WoeTEYE4F7MBF+PW4ErMcqTHLEFGzCJkxHyOjJgvkBGzEJkxi5Eds9RqyopdiszYpciIWYqM6GV/oayYJciMWghjymqkHl6MT+c9j3FjH8GSJe/Bb+On8P3IA0fWLMKFkABcDNUhPcQPuZs3IW/zWuRuXgXj5nUwbPZGVpgvssJ8KoG06WxCdthGGMI2wBi2HsZt3ji/zQe+86Zj2stP4oOZk+GzcjFWfjYfer03IlKjcDr9Ak5fPo8Ll03aEevcWqKWVVFiO2O9sz1y1pWOVukglDOatB/xI0zNjvGYB2Uzz8vUbm6uAjB/bn5tHr+8a77Ptsu84+Pj8MEH76uh6/LlS7Fw0efYuGm9Gq6mpZ0Hh6sXL15QnP4KL7CvnD+D8xfOFvcf9ovT505bRNo+xTD7nvk97bX0zfMXzylFhDthaJ7iUheOKIlD9LpCsJOha4WAjmAm2hgBie6huSiSRn3eZ4XR6Ep1nHY7bXx5T8tFo6Otj8ZCzpwImdsAACAASURBVIxYS9w7ynf4PmdUeU3DJm1xHErTuEqE5zQ4AZEATdLKYcwxwphrhDHvJuXk54CkvWcezsk1eXWQ31EWZ358zkXKXOLg5eGBt8e/hU8XfIIAbx/EHP0BGWnRyE47iJyL4chL24qCtFAUpgXjelowClWY16G4fmEz/pW2BT+nbVGcYUtI4l+/EIbCEuhGWhiunw/Fr+nhOJ3gj08WvI433nge78+bizUrF+G70EBkHPwKOfv3IO/AbhTs244b+8Lw874Q/GtfCK7v24aCfbuRv28P8veFI29fuOIMkwr4ToWI7+5C4YEduL7fRLlfbcOl/Tvg/dEcTHllDGZMGo91y5fg4N5wXL6ShuwbOcgoMCIrNwfZRXVuNJjqXtpAWdy8LrXtxdIwRz3S5qjJjR07VikGnBX87rvvbrEZMa70F+ZdlmzlPZMPvyWcaTEe8zx37izmz/8Azz8/Bp6eM7F1axhOnT4BgyETGRnXYDRy9rUEyjEg25hVTOb9pLKu2R+Zz/V/FSIhKR4vvvSiGpoS5DjpKERcItBVeOiqrQgWDm0M1JzEvzyN7QQ6HkzDGRuJX1bDYBwaZ2mMFUGt4ZSBP4y2uMDAQBXmdhuu1ibac0qfSznYuDZt2qSIGh7jkKuwrzd8/LyxyXdTMW3w3oCNPhuLr/mMcXz9feDtZ4rvzfckDW9vlSbTLYmYNzVd740bsWLpMkx3n4bXX3sbz7/wOmbP+UAtLVix/GOsWTEX65bPxPrl07F++VSsX+6O9cunYf3yGdiwbCY2LpuJTcs84LPMy2ryXu6FTcu9sHGZpxl5qGvvZbOxYckcrF3ihcWfT8XU6ePw2tuvY8wr4zD29fF4z2sOFnrMxgrPWVjp6YHVntOwxnMK1npOwRrPqVjtMR2rPDyw0tNT0YoiLtervLxgHXlilZcHVs6aiRWzZiha7jUdy71mYKnXTHw2xwPTJ72JKRPH45UXx2Dim29gxbIl6qyLNRvWYu2Gddi4aWNxvUv9W8s500iy9j3G53vU4Gje4bpJbgOjeWfNmjWmtlfUDqU9StuRNirXVcUlH/L169dh+oypGD/+dUyc+LaagOC5ISQOX339vOHv76M4w0LsFyTpF3Jd2Zx9j33SX+eP5158Dk2aNQGXiXFfLrU44gbXIBIPONqkwlUhG50AF9Gfw0SCCyvwm2++URoSbRFU0ZkBwas8gOPQloDJmSc2AE5rc+U4dwlYQ/Iejb2cwufOg0ceeQR9+vRBmzZtlJGSszGtWrVSiwi58vzBBx8spgdaPIAHW5qoRasWMCd5Zs7Ve0XpMM2SiPlo73MWqHPHTnh0xCN41M0Znds0RZsm/0TrRjbo0NQG7ZvYoGNTG3RqauK8JyT3OzexQddmNuja1ETdmtnAEpL4fL9TSdSY6d6jZGnX0gauw5ww5vGRGOjoiK6NG8OpYUM42dmhu2199LCth57166F3/XroU8R71a+LnrZ10JO8vum5lve2qw+LyFbi1UNvu7roZVcHPWzvQy+7+9HT9j70sL0fjvZ10aFhXfTv1Q0vPjcabkMfRsfWLdC2ZUu0fqAFWj/wIDq0aYuWDz6Ili1aqHpv0bKIy3UZXNoHF51KuCKc77P+ua6Lu2S4+4DtsHXr1qptMqxNl/FJvG9OfKc8Mn/H0mvm2aZNawwaNBBPPjkaffv2xoMPNkebNq3QouUDirdu3RKkVq0o303ic+kz5n2kKq4bNWmI+nb1MfaVsQqDeOCQgByBToauFQY6AS5R62lIpebEjKh6c3g4Z84c9eWjUZT35J2SOIGTaXGnANe/cBjM92WfoKWc78h7HLLSDjJkyBD07t1bTZBwISZ/NFVZchopSRxO8HrxksVYvHQxFi+zjhYtXQTSwsUL8cWiz7FwyRcmvmhhcR6SD/NatHgJli9fiRXLVuBxt+F4clBnLJ/uhg0z+8J/dncEzHGE3xxH+M52gu/sHvCZ1R3eXk7w9uwBb89e8PbsrbiPZ094e3SHj0d3xRm2hHw9e4DE9328esPHqxd8vCTcB75evVS+q2Y5YeW8QRj/WDuMaNMYs/o9jBUDh2JV//5Y2q8XlvTrqWhpv55YRurb20TqujuW9ethui/Pi/jy/r1gGfVW8Vb074WV/XpgZf/uWNnfCav6mYjhRf0c8N6g7hj7UEf0bt0Yb70+FmvXrMbqZSuxevFyrF2yDGuXLcfyxUuwdPESVc+sa2uJ9VZRkrpnngQ5Ah77C9eosU2SpE1q5Spul2wzRW2VnEpEZZGkK/mvXLkSn332Kdq1a4PnXxiDZcvYXxZj5cplWL5iqSLeK4mWLl+CJVVMy1YsVf1s5ZqVeOLpJ9CqTSvMmz9PaXDEHxJBrtKBjsDF2aP58+eryuOwjAAzdepUZbOjtiYaYEkgx3t8TjBkXM42cWFiecbTsp7TqCoTDRyuOjs7q6Uk1C65MJPERZFCcp1yPAXJx5ORlJpkMTG+UOoJ0/tyLZzpFueRkoKk5FQkp55AbHQ03nzhSUwY2Q5Jfs8hI8wNxrA+MG7ugczQnkgP7YWrIb1wOag7LgU54qLeCRf1PXBR3xOXgni/J64GW0/pIb3Ue1eCe4LEPMgvF12nhzggPbgTToV2wckvXbHq7daY1K4+trk44/jjjyPtMVece2wQzj72MM4+NsBqOvf4QFhD5x8biAuPDURaEV16dCBM9DDOPNYPR54djOUuThjcrA4+mDsLkTGxiI9NQGJsApKiY5EYE4sEbp+Ki1Ntle3VUpKtR7K9idxakjQ44cDhasOGDZVZg+2P98zbobat8JlsO+MkH8na/C2Jz3y4zYwTJkePHoGTkwOmT5+KhIRYJCTGIT4hFomJ3CJ2KyUlJah7ijOckngLWdOXLI0blxCr+qfnbE+079Qe73/wntpREhJsss9VOtAJcHH4yjVpXBvEKV7OwDIzAhYnK7QGVnlHy6nNCeBxQoKG+tsh7tCQSQkC8NChQ7Fz507VuLlYmEStU0ucGIiKjkJUTBQioiMQEXXMIoqMiYRQVGwUSqLomGiVl+QdHRuP2PhEHP7xR7w95nFMdXsQyWuGwxDgiBzfhjD610Wmf12k+9Uppmu+9+Oab11c86mPaz62SPezRYZvfWT53aTsADuURQbN80z/+sj4C9mqewa/OsjxuxcX/Ori3NYuCHjTFu+2/Qf2D+qBKy4PIW+4IwqdOyHfuT3ynDsg17mD4gxbQvkuHWENFbh0QqFzZxQ6d0OhsyOuDy8i524wuHRB0qNO8B3WEc6N78O7XjNxJDIaEUejEHssGvERUYiLiER0ZBSiSFFRiIwycYbLI+7vJB07dqyYM2wN8X3mQ3ClAkB7EW12XJYl6ZaUD7da8Tm5OVmTf3lxJW0uuaJMBw7sh4NDV0yePBEEsJgYltMxxRmOjo78C6k40Tf7gvSJyubsX4ePHQbBbs47s9GuYzul0VGT41BVQK7SNDpqYaKpkXPWxjQ1Ha++UFyXI0NbbVwtwElYgI5c7HWWzBSVFofgyrQpE4FuxIgRaklJSQBHsBMAiomNQXRcNGLiY6wiviNUFtAJsEZFx4Jgd/THQ3j72dHwfKQjTq0fjSyfnsgPaIbcgLowBt6P7ID7FDfq6yBbdz8MOt63VZSjswPJdF0fxsB6MAbyObmQ6doQyOe2yAmsj5zAesjV1UcOKcgWxhIoT1cPhTo7pOub4trO3gh+qwFmt/oH9g7sivMuPWBw7oICl3YodGmLQpf2VU4FLh0UMOa5dEKuS2fkuXRFvks3FLh2RZZrJyQ97gjf4e0xrOF9eH/2TEREx+DwT0cReSQSsUePIfroMUQSqKwEKC1AEKgEjKzl/IiyjVGzotsjOzs7ZdYhqAiYafOScFnPrJWhvPj8fXQyQDm/+fagAjr3qZMVoMXG8kNNoI4pk2I0fUf6gzXckn5HgKMSkpicAI9ZHmjVpiXmL5ivhqxVAnQCUlpOQKP2Zq7BCSBq42rDAnRyTwCyopxgSa2OctDmxwkJ7h/kEEKGLAJut/C4WPWlsKTAzeOUVaEEUOZTDHQxcUqjO3boKCaMeQazHnHE2fXPw+j9MAr82yDf3w45gXUUcOXobBWgmYCtAXJ0jYopV9cQOQH2yA2wV5xhS4jx8wIbIFfH9BogV9/wFsrXNUC+rhEuBT2Ii7v6IXBiU3i1uQe7BnfHSde+yHDpjhyXLhDgIfhUB+W4dobRtbPK25RfR2S4dkDC493gPbwthjW+Vw1dj0bGICoiFrERMbet0YnGVx5QlPWcQMd2x2Engc7W1lYNXZk2Qa2sd7XPRJaq4GyblIXDVwG6Ke6TEBNrAjhLgC5WoyAQkKqC4hPj1AiKQ+SZnjMU0C34cEH1AZ05KBG0ygM4LbBJuDK4Fug4nB45cmQx0N0CbEXD2OJ7cbFWaXJasLME6CSf6Lh4xCYkIuLwUUx67lnMGuWEs+tfgtFnMAr82qEgoAFyA03anNLadA1g0DWAkcBmBnQErLzAhsgLbIT8IjJd834D5JdApneYhymOXGt5rr4J0oJa4kL4w/Cf2Bwebe7BzsE9cdK1PzJdeyPHxUFpVrku3WBOOS7dYHTtBnLtM7lPjdCczOPnOHeBORmdO8Pg0gk5zqahb55Le2S4tUPC410V0A1tdC/en+OJo5HRVQJ0FQUYgogW6KjRcZlIbQc6anSxcQRpmnnK1+i0QKftGwwT9OSeNiz3JE554KgFuhrT6MxBylKgM3/vdq+rCuhYCSxoklSIVJRVQFdkozt26AgmPP80PB/tipPrn0ambz/kBrSGkbY0XR1k6eoiS2+PLH2DImqELH0TZOuawqBrAqMCPRMAGhjWN0ZeUBPk6hsXASKB0aS1mfitQKkFTW2YQJmva4JLQS2RFv4wAiY2x6y292DP4J4449oPma49YXR1QI5LVwVoBCktGVy7Idu1G8hvvd8FhhFdke3aWVGWSycI8Z7BtUtxfC0QGotAj5z3CYAcuua5dEaGayckmg1dD0dE3hbQUQMT7ZthEkGJ2lVFwK4soNNqbOZhS/Ni+lo5LX1PG49piEZ38OABdO3WGVqg4/C1vKFraUAn/UY4+4/0Gy2XPlUW1wKdaHTVPnS9XYCqjPepWVYF0Ekl0QZHAyuBTVtJFQG6iMNHMPH5JzFjVAccXz8a6b59YCTQBTZElq4+MkhB9sgIamAifSNk6JsgU98EWfpGMCgNrwHydHYoDCLVR76uDnID7wftbNQGGYcgaKLGCiANOvJGRUB5cygsYCdAdzGoJc4XaXQEur2De+Kcaz9kufSA0bULcjTApAU0Cd8EPAJiZ+S7dsZ1l064MaQdfhnSFr8ObYefh7dHvnMH5Lh2gtH1JnBaB3RO8HHugKGN7sP7c2biSBHQxUTEIDYyCrGRlk9GEGwE2MRWJoBQEaCT9LQaHYeuXERMG505uGmvJd/SuMhJkCotjqX3qxLotH2F/Yf9RntP+lFZACfP7gJd0aHJtwN0MhlhDlpSEQnJCYhPildT21xKwu0nrAB5XhqPjTd5PBX7YEx8AuISkxB55CgmvfAUZjzSEanrnsA134eQo2uDXIKY3hbZelul0WXr7WHQE7Q4hCVAmTQ1GZoW+NvhOsEu2B55mxuicEsTFAQ3Bm14N0GOYGcCOqOuCXIUieZ3K9gR6NTQNbglzu5+GL6TmsOzSKO74NoP2cVAR3Ay2c1u2s44XHVArosjjC4OSrPLcuuKLDfTDGmhqwN+du6GX4d1xv+4dMUvrpzYoI2vqxrqCkjeygUAHWB0cVTp57k6IM+tCzJGdEbCEyagG9LoPrw7ZyYOR0YhIjIW0ZHWAR2Bg0BDEwMnDmjTleUcBCVLQUMbT4BO0uSsqznQaeNbE2aaBCgBUcpbUc3uVqA7qFy1018j82D6Js5w6RMSJWl0BCYus5KlV3JtSb8x70985y7QVRHQSWFLxfxw6AeE7w3HgW8PKICjUZSFL/FK4uUB3fSR7ZG6brQCOmNgGxgDCXR2RUBHblcK0DVEYUAj5Ps3Rp7uQRjDOuFsYDukrnsQFza0gEHXqgjo7Is0Ow55H4BB1xwGXVMYdWUD3YXglji9+2F4T2oOjyKN7qJrPxiLgM6otLC/Al2OArnuyHZ1VAAnQHdlhCMuPNoLSW49EDHMEbGDu+LMUAdkOPeAcXgP5Ll0V0NirWZnAjwT0BlcCZyOJvugBUAXFRmjlpXEWKDRsaNrgY5LLXgCFjfc8yhKAh01PGuAiHHLA7qKAqhWDs7OcrE9981SRuapfW5J2DKgk/WHJQOeOdCxzxyNPIoD3+zHDz99j0NHD+GnIz/hWORRxCfGl9lnSupHd4GuCOQ49K1MjU4KmxoeK2z1utUYPGwwHmz1ILr36o7357+vKq8ygC55LYGuD0xA1wAGfX0LNDp7FOoaISugNSIWP4DVb92Lt51tMLaHDUKntsYl/57ICmwOg74BsvW07zVFlu4BZBcBnQxhb9X6GiGnSKOzFug4nCUwZbs6IIsgR+7WDRkjuuHSKCckPvEQ9APawr3pvXje1gav17XB4tZN8MOAnkhz7guDWy+T7U8zhC0Z6ByR5+oEanVMO2F0T/g4d0JFNDoZ/lFjYZhAwYkCHmLDQ1/o9YJbCD/++GMFJFrwsgRAygI6PqsIKEm+BCeCHPeZ89Aaeun54Ycfiofe8tskflncMqArGeBEy9MCnYBSoD4QA4cMhGMPR3Rz7Ir2HdvBbaQrdoTvQFxCnBrCihIh/a00LmnSdKSddb1ro8vPV4uYLZ111Q5dpbCPRR0Dh6xh28IwcPAAOPV0wrjXXoFjdwd0ceiC9ZvWgxUcW8YQ1hKNzjqg41CTM6Z1UaC3RWZoV2yaXA/D2tqA+1cdG9pg+Zs9cdrXFVmB7dUw1QR0TZCla67ALkvXDNm6JmZDW5Mt73aBTjQv2ugIdBdGdkXSUz2x2bkTXmt8H55q8g+82aMlXu/cDOMa3oslbZoidshDSB/RHwZXLl2RSQwZspq4AKjRtXKBTjQ5ch70Qi8Ybdu2VV5GuFmcJ2DxhDA6jiAwEVwsBZGqADqmyfNGOKTkTiTue+UpV8OGDVOONXifmqKlMhIAqwLoCEZr16+FfSN7DB46GK++8SqeHvM0JrtPxlf7v1L9ikrEXaDTaGqWTlRUlkYnQMfFicmpyfj080/Q1aErPv7sY2VvWL5qudp+Mtl9Eg4d+UkBXUkGVqZTVUCnFgjr6yIjtAMOLXdA8CdD8eG0oRjVww6rJ/fHmYAnkeXvgJzAB5Gtb4wskq5pkUbXrGhiQiYqbvKKA50AEzU7Dmm7INutG8494ojYp3ohuH9LvNP0Xqwe0Bnbx7rBe8xQvNXGFrMb34ufBvXG1ZEPK6DjkhStJidDWQFQDo0rS6MTLUc0OoIIV9XTAw63Z3GrIbcREky4D5QAUlNAR9lEiyOY0VsQF8PTDxv3z9KpBe8xDn9XTQGdaF60zfn4+yhNjvtgae7hroYLly4oO7elACd9UdK9q9FVwdA1rsj+NnHyBAwYPAD+gX5ITE7E7i93o9+AfnjqmSex7+C+agU600wqh7d2yOasbEhznNF1wNndTyDo82F4qrstVk8YgNN+zyHT/yEYA9siK7CpWppi0uQE5Eyzr5U7dCXAdYTRtT1yXNvD4NYRl0Z2xalHe+L4qD6IH94dhx7tjV3PPITPh3XBc03vxzutGuOI6wBccOuLLGdH5Lo61AjQCdhxTzSBhBvn6eKL54MOHDhQLUol0BFwBCDL44xLwGHanODQTkbwmTVpcVjNtMgJZtz1Q48nbm5u6uxXLoyvDUBHYJJJh43eG2Df0B4PtGiOpg80RaeunTBrjhdo65YZWAGy8vhdoNNofpWp0UVGR6ilJNTq3njzdWWf04fo1SwSv06Dhg7C6KdGKzWclVRdGp0AXXagPbIC7JClr4OLgf/AuS3tsPnDZnipxz+x7s3eOOU9GukB3WEIaoUMfWNkqiUpHK6WDHACeNZrdKLBcRa2IwyuHZDt1l5xE+h1hsHNETkjeiD3sYeQ9EQv+A1uiQmN78XkhrbY3P8hnBw1DNdGPARqbdx1YdLobtXsqlKjI2ARQKitcfaSgPHYY4+pGVIOC+nPkAZ/ASZLtaXKBDqmRfko69dff62G03T3xPNZeKQfNTpOoohswssDYz6vrKErwYj9QIAuKDRImXiGDh+Ktya+BYfuDgrwODKKiolUYGepZncX6CoZ6PilYWVp18xNmjJJaXQEuqSURBwsAronn3my2oHOtLzEXu1ZzdPVRU7QPbgWZIMr21tjx8eNFdCteMMJp/wfRVZwJ2TpGiBTZ4ssnR2yA01LVATUSuK3DXRuJqAjyHGrVoFzJ1x37YTMEV1w6nEnhPRvjkn2/8T0ejbY2rMnTo0aiXS3QTC69rZw1rXyh64y3BOtiaBCJ7AcrtI3Yvv27ZUzWd7nnlBLQaQygY55EuiobdJDEIesdFjBA2F69OiBAQMGFNsRCV6WylhVQEcbHZWEvV/txfc/foeTZ06CwNe2Q1s8M+YZNfvK53eBTgNg1W2jE+2MWh3Xzs15dw46d+uMVWtX4eyFs8r2wJmkca+Pw3c/fqcmJOQdcxW88m10XOdmjzx9feQH10NOmB0uhzXFpa9dsHnRAIzuVR+LpozA8eA3kBnUBzn6B5Cpq4csfT0YdFxqQntc6Zpd5QJdVxhdOuPqyC449JgDPunXDE82+yeeb90Qq4Y9jCOPP4Lzo1yQ5dYfBmcnGJy7Fm8Pu6nVmS8vqVygIyCQZHhJl0X0jM0hLA9Y4mZxnhHKk+kJiIcOHar2oSvlIwiTKCc1zPr16yuXT5wZ5rYyekWh70bGqcnJCPYDghcVBbpeOlN0dgRP1KOZhx5H3Ea6qSUntLexv1gCdnc1Og0gVubQlfY5zrpSg/MN8FUzrsNdh+OjTz/CiFEj0KFTe+VokEBWvbOuDWEMtEe2zg5XAuyRFtwKh9a0xNo5bTDhuQ7o2aE+nnfui1VvuSJiwUAY/PvAoOcsa30YdfZqRwTX0Znor8PY2wU6o2sHZaPLdekEo3NXXBrhhJjHemKeU0P0aHAP2jetg5G9nDB98CB87tgNW5064NTQHsgsAjrZ6lVdQEeNhpoXQYwHJ3l4eCiNiW7OeRzACy+8oE6X4oFPBJyamowQQKacX331lVrjxx0WnCXmZImTk5Nyy06Nk7OyjM/fZgkxTQIkN/XT5Rpnmiu6YJhAR02Na+Yef/JxPPvcM1izfo06fmDM82Nga2+LKdxHGx8DKhKWgJyAIYfEdycjKnEyQgqWrmcIYpxZfff9dxS4cbq8eYvmyubAISwrrDRtjulUhUbH5SUGvT0yg5vgUnAH+E+tC5dWNnBobIPOjW3g2MgGQ21tsHJUI5xf1QfZQW3VLgsCndrqFcgFwwS7ygA606JhehfRejGhO6VsF866dsePj3bH3K72GNzwH+jV4H70b2AL5zr3Ysw/bPB54zqI7t8FWSN7w0hb3l/20Fbd8hIBAenkPGOAti663G/UqBEaNGigXPAT7MLDw5WmJMNRebcsLnFFW7ydyQiCEfNiWgzTISePMejcubMCYh4XwCMNCHSSb1myaZ9VJtCxzROMvvn+G4wd9zJatG6hlpjQ7Tndn495YQy+PvC10vZE++M75ZGlGp14GdaeGSGngPEAe/rPpGcj7SjRRntRVpiaFJ+TS7is+FX1rDI1OhY8K0Jpa0Vfqd17w7Fuw1oEhwarL5YlFVVVQJerfNI1QGZgMxxf1xyHlrXD/uW98NXyQfh66SAcWzEEp9cNwFW/7sjQtUIWd1wEEuhMm/vpFKBybHTmQNdVeS3Jc+F+2M64MqILUkd1xY+POGLnqN7Y/OjDCBk1ENtHDcL+kQMQM6IfLozog0zX7kWTEbJMpfomIwgMAg4ECh60QjfjdHPO5SY8D4XPCQgy88prLViUFJY0KwPoqKFJeuQk7obg8X6UkSde8SS+kuQo715lA53MqFKz4xrUZSuXqQX3O8N3qH5TnnJQEuhZCnQsC54dQZMDHe7ySEme0VLhA6y1YCXgRk6vJTXluaSygE40NHIJs/JY2DxHMqXIbTpV6fJUb+uBrrwtYLJg2A4FAfVwXWePguCmMAY/gKzQ1rga1AYXAlrhYkA7XAloj3RdG7VQmHY508Z9ejSxg7Fo76w52Fk/dC0COpcuRW6ZTHtdTQt/uZauM9JHdMYVt6646NYd50f0xJmRvXB6ZE+cHdkDF9y646pbd2S6OiqPJznVuDNCAICgIWFyDuG4jo5aE8OiRfGZgIz5O9r3Jcw4BKjKAjptukybmiiHqRxOyzVBy5phK9OsbKCTPkMbHYen5AlJCWqHkTwrCczKulcW0IWFhd3iYZhHm/JsV3py5gFb3F/MM53/53/+BzwknP4qtfhlsUZHYKP7c6qGNQVyFLw0oOMBPlw2wAZXGml3RkhlmHNtRfCZPNfeNw9XHOi4dITbt0z+6MQTick9UyPlODM/qIFyvW7wux85AfVh9LeHIaAZsnStkKFrjXR9S2Tom6vFwhymmjbzm4CSs7fmIMdr+qmj482LQQ+qTf3ekx7AzHb/xJ7BvZBmwV7Xv2zq5w4JV0dkujkhw607rrl1x5URJCdcG+GIDDdx60QXTn9171TSguF8VycUFG0xS7yNLWACHOacoKElea69x7DcL4trgY5nRmg39VM7LOvd0p5p5WD6BCqJay3I8b3KBjrpA+wfAlDlKQTyTmlc0inJRidAx2ErtTmCHI9uHDVqFOrVq4e6desqJ7w8YoEeyK0GOgE1vsxV5FT79+/fr2artIhZXWFzoKO6qnWlTpDj9HxJYKcFOilsATLhvK+tMO19ececC9DJ4Sz0XhKbmISII0cxkd5LuKl/zWik+/RBzi2b+ssGOg5B84IIWrbgMpMb31VX0gAAIABJREFU+nr4WV8fN3R2yuEm97iKiycFmOXMtgroKaDTN8SloOY4H94fPpMexPR2/8TuwX2Q5vowjC49le84g2unYt9yJh9zXRRQcasWN9+bOIefJg0vz8VB+ZHLd6E/ObpEN9n0xHMw/dER6MzJUKzhmbyX5Dk7otDFCdddHGBw64Ykc6CLikREZDSiI6OtdtMkYFES14KLhEuKZ36PIELwYbujgb+ygU7yo3YnYWt5VQGdti9w9KO9tjZcHtDRJkeQI+gR5Li2kEtwevbsqWytxAIqYsQqi210AnB8gScHcSM0j3B7+eWX1ZGDLGiCjlB1AR3z0fqjE6CjRifgVhrQxVroYVgLdNZUFu0SjB8VH4eYxAQcO3IIE194AjNGtkPqmseR4dMHuYFtkENbmo6aXEPld477VE0gxIkDLgsRagyjvjGyAxsqEqDK1nG7l8lv3U3/dXTYKe+Vxk0OPeliPV9vj0tBzZAW3h++E1tgerv7ED74IZx3fRjZLr0UiBGAzEGpKq4F6OjVmO6f8nlAjosTCl0c1BYzLdDNnTMdP0Udw9GoaERGRiE68hiiI02alzWH4lgLFGXFZ7uj5kYw4WSEeBjmvYpqdGXlV5FnlJFAyb5x4JuD6NKtK6ZMdUeM6hPcfE93ZOW7JCurP1S030iaZQEdNThOzBDkOFwlyNWpU0dNLHG2nDa6Tz/9FL/99puajLBKoyOIcbjKdUdMnGdD0pMCz1RlYQvIkdcE0BGMBei4bKAiQGeJxiYVUR4vBjp6baC94ujhYqA7vnZ0EdC1Ut5DbgG6Ij9yNwHOBFQEruygpsjUN0WGvpkaopLzmkBXGpUOeEVAF2iPAp0truqb4vLO/vCb2BLT2t2PnYP74YLrIBic+xT5nBOb3K0u07Xu0ysjXHwYjrND8SlgN5ydcMPFtFUs5fEe8CtyvPnOnOn4MfIojkZFIjIqAtGRRxAdZdJ0ahLoqAFSq6NGJ0DHPkKg4/3SqCKgVZF3RKMrDeiieGrebQJdef2jvOelAZ2cGcHjDtetW6dGcJwtpzMP2uo4ocQ1hgS6X3/9tWJAR2QUIKNKyO0oPJCmIkAnWiK5tSRAyvcoD49NZJhAx72AAnSsUAIeuYQFAEWjI7hpiRVQ3tdIG7+8cBQbjEajm+bWRml0mb59kBvQErnKuaZGoysD6EoDs7Lulwd0OTp75OttcaUI6HwntsLU9nWwY0hfXHAbAINzL+Qrzcp0GhfdmlclFTh3LTrq0EFpcnLcYYlA9850/BR9RAFdROQxREUcRlQEt00R+CxbU1YRoCjtHQKYaEsMa5eX8J2ygK60NCvrPuWRtEoDOpMmZ9Lo6FaJ/aAsErAqrw9IPGu4Fug4sUFX6m3atVHHHVKjW7t2rdLk7rvvPgVy69evB5cLcc8yl5fQ1ZZVGp1oajxOUMIElvT0dKXZEeho+OewlnEEhMrjAph8z1oSYOR7zIcAzHuURYCOMvGLZU68r6iEirSmIsqLKxpddGIcYpMTEUGN7vnRmDGiHc55P4sc3cPI17VBPs99CG4EY3BjGIObwBjcDDlBzf9CxuDmIBmKuFwLzwl5AOZU/CyoOfJCHkBuCZQf1Eh5K74W0hxXdw9EwKTWmNahrgK6tJGDkT/iIRS6OeG6mwMK3RyrnK67OeKGK8kJN1y7K/qXWw/8y80JOW4OSB3dE/4uHTGs8X2YNWuKAjoarHkWaWz0McSoc0hvngMhH7nq4mxvBDQCHoGO2gUVAvngFn9oiybKGN/8XlXLyjwJfJxl5tC1c9cucJ82DYkpyUhISkJcQjwSkhLVzGlCMsMJtxDtb7ICoSwgNH8m71nCmSe3lRFEOYvLA6xbt22Fjz/5SJnORriNUDtFHn30UbU0iBMTXHrDZUICdFZrdAJwAl4EmCtXrijVcd68eQpMRNsTAJO4pXGmwXesBTnz+Eyf98h5Ctjw4cPVYk9WZkkNhhVMiqQRu+jganYUCVvCGb9cKjrg91h0pNLoIg4fwsTnHsc0l1Y4tf5R5AX2RoF/UxQE1kWe7n7k6OogR8dzWDnZYHcL5QSYznflea2GorNe5cxXLc8OqA+S9t4t8f05U3sr5Qfch8LAfyJdb4+0rd3h+2ZTTG97L/YM6YdrboNhGOKIHOfOyHHmiVxdqpxynbsgb3gX5A/vivzh3VAwzAF5Qxnugkznzkh41BEbh7bFkMb34p250/B95GFExFBbMQ1dqdFx6HjsmGk5BpdilE1HlFmBpgUT8bq8d0p/zry5BITakwAdd11o06R9TIj3GdY+5ySf9rqywkyXJPkRYAl0XR0cMHHKZGWji46NBYeu0XGmdaWlaWuyN1z6QXn9RuLxvdLSNL9PZcLkoTgOU2dMVa7SPL081XCVM6sEOWp29B3IdXRcW7hw4cKKA52AFbUmam0EFq5PoSNAAh0Ljvc5MVAe0PE502EajM+Vy0yrokTNku+SUxbOutIbxcWLF3HhwgV10Da50Llz59WM8ZlzZ3C6aF+eOT97/gwqg5juyfNncSrtPJIT4zHl+ccxd2QrZASMxn+39MafOx8Ewu2APfWBPbbAXobtgT0NgT2NgD2NTbS7If7c3RB/lEC/hzfAf3fZK/rfnXYgyTX577vs8cfOm/T7DjuQ/rvDXvE/d94P7LoXv+y0ReGB3tjs3kydGbF/UF8UjhyO31z74OdHHPHzqG745RGHKqdfH3HEb4844beR3fHbyB74bUR3/ObqhP8Z4YhCnon7TB+EjXbCiBb346OP5iDuRBKSUlORnJyI1OR4pKYkqTVxXBcnRLvyTUpBampyGcTn2vjWhU+ePKnOnuC+Wfq2444LzhDyPvfTcjKvNGKcqiLmybSPHz+u9vYyzEPojx47hm6OjvCaPRvHT57EqTNncOos2//ZMvuAeZ+x5PrU2VOl9rmS3mcfPH4yFefTzuPdD95V3r47d+2MuvXqYsjgIWpEyZlXanMEOrrCv22g0w4XOSlx+fJlrF69Gp988on6ghK0BBBL40yDz8j5leK4evHixYqoclaEOCbne+R0tUNXNhzCUjbuXTSnFctXqHvLVizDshVL1f7VJcuXKL542eJbruV+Rbik9cXSRVi0bCkWfvYpHhv8EJ7rZY/AiR2x070ewt1tsHuaDXZNt8FODe2aZoNw3tdw8zja+AzvmnFrGn95zjja9IrS38t8J9lg8zQbhLxji7kj7sHLzWywoktHfOXYCd87tcF+x6b42rERvnZsXOW0z7Ex9pMcmmC/Q1McIO/WCPu6NcQuh4YIGtAas3s0Qt/G92DMM49g0aqlWLxsGRYvXoiliz/H0iWLsGTJkuJ2xfCttBhLVBzGK4n43Pwdy685ScfOxjToM6558+bqIGtp52WlLXGqkrOviAyrVq3Cgg8/ROu2bfHY6NFYtGSJooWLF2PRUtKiEoltW8iSviFxJb2FixfCEmL8T7/4FMtXLldbyRo0boC69euqcqWSJctLCHKcha0UoMvOzlZGf36pqC5SLX/ttdfw6quvYuLEicp9DLfOUEMzH+oKuJFTk2NaXPsyduxYPPfcc4rGjBmDitCzzz6r3nv66aeVzy7aRDjTxYWDXMNE4rU51betj3q2dauU6tavgzr168C2gS0aNm6Apo1s0bLhPWhvb4MO9W3QydYGnW1t0MnORF3sbEDqWkTd7G3gYG+6lmd8p2PRuwxbSpKupMM8HOxs4GRrA8f6NmhfxwbtKY+9DRzr3ocB9/0TI/5hg+E2NnAuIlcbG1QXSZ4uNjZws7HBEBsbDLKxQa9/2qBDHRu0sLNBsyZ1YGt3Pxo2bojGTRqhSSN7NGpor2w3nIkj2dnbqfJnHVQlMZ+GDRuqdsb1XMxbrhnmPWmD0i5rklMWymTfoAHq29nB1t4edevX01BdsP2WRuw73M9q19DOKqpIHXC/OYnvPvHkE8qdliwW5hawSgM60cQ4CXHp0iW1foUaFIlbLTiVS82JY/6yJiSYDkGQtjnaMESjky9MRbh8/SgLDzlxcHBQ4Mt1fmXR9BnTMW3mtCoj2hSY/iT3SaAL9rcnT4Bjrx5w6NUH4yZMwetTZuK1yZ54ffIsvDF5NsZPnoW3ptykCe6zMXGKiSa5z8HEqXMwYeocTJw2t1Tic/M4vH7bfTbecp+N8VNmFdNbU7wwYbIn3p7sgYnuHnh7ojs8Znph5LDhcGrTAi+M7IVJzzti6gsdMeOlDphZbdQeM19qhxkvt8H0l1th+sstMGNsS0x58UFMfKENJo5zwlOPdUSblvdhpOsAuE+ZiClTp8B96hRMc5+Iae6T1bKOye7umOw+BZPcJ6vyZx1UBUn98mwE7oSY6j4VkydPVm6eaC8myPEjPGPGDPWccWoLcfkLz8lo3bYNBg4ZjAmTJuLtiRMxYfIkTJhMPqFEmjhlIkja8qSHksok92nuIDEPpsszXFq1bYUPP/5QDVVlwTBBrlKBjpqYaGrkBDRqZiReE8SEShu6yn3GkyUh2jQrEpb8ybm8hNtAuFuD9hme01kaJSQmqJkjS2aAKhqHM0d8l7NHdAHFw0KeGfO08s1Ft1CcmY3n+ZUJdL0dV0xJCXFISUwoptTkRKQkJyo7VIqyQdEOZRnRdkVKSkpQlCD5JMSD+SQnxSIlKRpJCbG4ev4cPp87E6N7tUDYJ2OQEvoSzm55FGlbh+Pi1qG4uHVYtdGFLUNxYeswnNs6GGe2DMK5bYNxImwoUsKfQeAiZ/TrWg/z35uFpJRURckpSTiekoDUlERlf0s5nqy8Q/Msg+qglOMm2x5tX2xztMcR3DjC8PPzU7Yxtsnbsf9V1ru001EWynrk6FH07N0L0z1mIjk1BUkpKUhMTkZSKon2z5oj1htnbk+cPoGZXjPRqk1LNetKbY5AJyBXqUBHkBIgIuiRqJmRrAE487hyXVFOmUQ2zrpylfSXX35Z6nS+TOVrt4CZz/ZU5jVnjpge/XXRV9dTzz6Fg98eVLO2yusDPabEmohHycXHxSChBIorisO4MTHcr2gZSdrkclSdKZ/YonwikZhwDNFRUTh78jw+n+WBp7s1wt4PBiIzqJ86GzZbdz+ydP9Epu4+ZOrrIFN3PzL19yuepbsffH67xHRUukU8Q18X6fp6xZQRVAdXg+rjTGgHbP60LQZ3vRfz352FYxH0cxaFqOgoxEZFIlbKRbM+srylQJXxXLb+8awIWS83adIkNRlBM43ck/ZXk1yWl9CBwf4DB9C9Zw8FdHEJCYiJj1OzruUtGNb2EbbjqiDWCw/YIdhyHR2PHuVxhxyu0iZX6UAnmpgAnVwLF7DhNQFL7lcHl0kQcmp0AnSyPkm4ecOqLqBjg2CF8UBfanN0x87DQqjN8Rn5LWAUG4342Oi/gB0BUAtU1oa1eSjQi41R+cTHRyA+4YjyOnHy1Hl8OmsWnunWBPveG4a8wEHIC2gNY2BD5Q/PUIpjANmOVplctrap08z0pnWGmcHNkBbWA2GfdsGALvfh/XdmITImHjEJXDNpAm75INC3oLYzVnVYC3Rc1sT2xiFq48aNlT2aS5p4n+2xJolySf7UEL/59hs49uh+C9BVxhawyvh4cDTE5SXUzgXouDOiyoGuNODSAl1pcarqfmUCnXnllNc5JH5p8eQ5OZ15lgV0AlylaXS3C3SSvvD4ImBITIhAfOJhHIs5gtTTp/DR7Jl4yqERDrw3FNcDBuGGf2vlNECt7wu0R14gz5j9K3HPLB2EVpT4vjZd8/Ty9A1g1DfB5RBHbP+kEwZ3vg8fvHsX6AS0LOUCdORlAx035ZNub8+rtg9YG+awtVYBXVWBmCXpVhToZAuYNYXPgmd84da8W6zRPf0EfvjpB3VyOdOhfU7Ah7w0oKOmIvHMh6FyX3h5z035mDSgxIQoxCccRUTMYaSeTsH8uVPwqFMD7P1gCHIDByM/oK1yPECfdreCmMmhp8nnXaMil+3ikICcbqHocqpk91Dm2p/pECAC5a2OQovdVOkbwhDUBBdDHbHt0y4Y3LVkoJMPQmkaHetMPkxlLV7VxpP4Jd2TZ6VpdLIzoiIanYCSOYjJrh/tc9nxYx7X/JrvMC457YjffvddtWh0LCdr+gvjCtDJ0JXei2tUo7MEkKoqTmUBnQKdoq0tsn1LWzHFDZpgV4FKKwnomI+ApgqXAnSJ8bEKAAlgMnkRS99fRcNZ3lPgVjS5wYmNeKZdxnBXADUxnmlGIiLmKFJPJ2PB3MkK6HbPGwKDbjBySwU6k/ZGd+08c7aYguyRVXTNHRq5OtEC7dVuj1xdfbW3tkBnj0JdI+QHNkZeIP3tEeCqB+ikrjlZVBJ4xSfGq3phnUv9cBglbaCkd6St8F3t0LWiQEdbHwGJExsCbAJavJbnvCdxzONJfOEENwHH2Pg4pJ44gYPfflthoGPZSFmWBGTyTOIJl7IqjzM+d1wQ6DxmeajJiGqx0VUVWN1OumUBHSu+tMpnRZtUc+7bS4QyxBa5qeFeP5I8Z5gG70iezhQZodRpgh0bPyujvArj8/KATtIQwNOClAKyeKrxEYiKjUFsQjy4VUf9hjg2NpMROTImWsnIZyJ7aUMPySc+gWAbjYiYCBw/nYqPZ7vjCYeG2PvBMBh0QywGOmOQHXKC7ZChq4v0IE4i1IUhqL7a0pYfSJ95dsodlNGvLow+dZDn1wCFAU1xPbCZAjv6xTNpjXT/3gDiKLSiGh1/n5SplvOUN2pyNHJr42hBjHUaHRulOhnj0r0+65phSUviC5f7Eo/3ufSkUdNG8PbzLj7XVOKVxZk/8+KwjXKYtzFecyafcnFrlYoXF632o5rH1eZDmeSa8Y6fPI5vvjsInnA33WN6cT7aeBL/r5xlYuo33DJm8nhys0+xz/DekYhjqt3+dPgwDnH7GV1YWTgkpowEOv5WAbp58+fVnI3udoDqdt+tDKAjgMXy65maojY1myrwJthJpaWePIETp04q9+psYNZodpYC3V8blOn0pMjoSCSnphZvulZAHMcTyUwNKiIqSi0NOHPunIrH+zfB7q+2lptAZ/oqR8REFgHdVDzh0Bh73x9eJtCZXLOLN+QGyAqoj2u+98IQWh8XdffgWui9uKa/B1lB98Ko5z5e0x7cG5ub4kZoU/y2rRWuhzRHToA9cgMJiPVUHHpT4XBYzrioTKATgKNnjuTU5GKwkDJnB2e9UoPg1iMub5CN5XzGjkdeEkkatwt0zIOHPYsmQzATzVPyYByGyZkft1YlJieqe5RX4pXEKbvcryjQmfKPVR9VOgI4c+6sUgTE+4m0O7ZRbic7n5am6OKVyzh97qzpQx1X8odIZCNnPlqg46b+u0BXwqxrWRpdTCwbrUkbOnHqFOISExAcGoplK1fgwDffmLSleGps8Wqzc/LxVOzYtQsLPv4QXyz+Alu2hYHgQx/5lgBeRYBOzpnlOqKklGSEhm3G5wu/wJ4vv0QMZ++KZEs5fhwnT5/GkWNH4ePvB19/f/x05LBqUOVrdBUFOpPtLSuwiTqwx7C5Awr29EHi+mbY6nUPfvjCBmlBDXAtxB7pQQ2QHtICFwLa4qfPG0A/8R4EvGmD5NVtYAzrhiz9A8jW0Xsy7YAcwjaBUTkONQEegS/XShudVltjh2EHT0hOwMXLaWpN40afjVi/ab3StAW4BDh4qMuCj+Zj9txZaksglwZJGtIBeS2dUgseFQU6psE0SQQugixPz+Ip91u2b1Gny0l+jEPQJqj9dPhHrF2/Vv0Waql8ppVH3hEu+fCas5k82U40OjXsLrJhSnzhIptc82Nw9vx5paUF6HT4/+y9d1hVx9o2vlUs9N57BylirzQ7INiSqLG3mGaJOcYSTewdxa5sNih2xBI1ibFXREVFQcXe6LaYnJzzftd3/a77d92z9+AWAQHR97zvlz+ea9ZaM2vW7D2z7vU887RZc2bj8NEjYk1KwNuzdy+WLIvDothYrFqzGnHLlyMhUYUjx49p3q+KwY7PFEB38bzg6P4GOk2k4dLmJW8DOoLFkWNHMW36j+jQuRMsrK3g6+eHtcp4ASTk7CgGnr+YgZWrVyOoSWMYGhsJd672HcPFAiTIcULkAiivrA7QcVFyoidNmYjwDuGwtbeHo7MzlsTFCbGBYyOXt2PXTvTp1w++/n4wMjFBZLduAgylaFvWmN6dozNEntIQj+JNcV/ljN1TzTAuug66eCkQbq/Aon71kRPvjbsJ9ritckCm0h/LR5qivXNtBJkrEGCgQE9PBVLGe+DmusZ4nOAiuLhiFRN2m6FIZa5J7kMArD7QcW4ICgS5XT/twsjPR6Jpi6ZCpOzQuYMAE4qH/K9JzGDl5eMlXI5MzExE2a9/X+z7ZV+JSRCNvbXnnPfJ/7g6QMe+2AdL0tJlS9ChU3t4+ngKF0KCrqjXhCdnGz6HNG78OOGK1bJNS+zas1MkYNcejxyXLFnH+9gHgW7/L/sqDXTyPoLcgUO/YeTnoxDYOAiWNtZo1aYN9v38s2AeKCGR01u0JBY2drbCvYwuZjr16sE/MBAbN2/C+YvqEEwchxxb6ZJ1EuhkmKa/OboqcnRnaNN0/jx+O3QQg4cORduQYDi7usCnYUMoE1Wi7tyF8+ILtXP3LoSEhYlJmjL1e9Ddx9HFEYOGDhIcAcULToo2F1F60qoDdHyhjp08hhGjRqBZy+ZwdHaCnYMDYpcu0XBz6bianQWlKgEh4WEIaNQIFlZWiOnRHbv27C7Zwys9Fp6/K9Cp0y8a4FG8Me4mOiNhnD56tKqF9gEEslqY388DOavb4d5aP9xPDMSuibaIcq2D7kH6mP5lJKaOiEKIkwE+a2OAM4tC8DChMYqUVngigM4URSom91GD3LsCHV9uvpzJm5PRsXNHtG7bCmaWZujUtRP27v9J7IOJrYhzaSJKRruQdpg4eSIWxS5EcFiwMFRdunypeCEF4GjmW/6v2sBCMCCw8lpl9+i4diiusj/eP37CeDRt3gSBjQNhbGaM76dNEXVcZ/KZFGcTEpUICApAHZ068Av0w9btW4UIqz0e2V6W2uOvCkcnx8bfxjH+evAAoqKj0axFCzi6OCMwKAg/7dsn9pAJdNwGmj5rJgzoAhcTgxmzZmHajz8Kru7g4cPguyXHIsdWuvwb6IqKSoySq7tHd+78ecGtEewOHTkiRD0GH2zcrKkAunMZ3Ow9B4qsFGfdmc3888/FF2v/r/sR1j4U/IpSrODkVwRynMDqAB37JR04dAAHjxzC519+AQ8vLyxeEis2ehkkkS475Oy46bttRwqat2yJ6B7dsXvvT2rRtZzcGO8KdGox0wAFicZ4kGCFy/HeOJXUGarpndG1oQEWDvDHjTWRuLe2NYq3hODwdGdMj9HBzumBuLCpJ05uGoN+4b7o5tcA+2eE4O66ZiiKtwbt5fITaUqiNlWpqT06vpzcCqB4R86HcxfZLUKIbpwfCXTcnD94+DdkXLogXujPPh8JK1srzJk3uwTAtAGH92oDS3WAjn3wPpZ8uWlQzvWyYPECODjZ47tJE0Cx8nzGOfEsKlT4Afzok95wcnWCrYMtGjVphO2p20v2FNlXWSTBhc+pKtCxP/k/MV4dNbZUMkR2i0KT5s2w/9dfXuPo5i1YIDi6gYMHCYlIlZQoJCWuW94vf3NZ4+S1v4GuBoBOWKmfZ+TUDAEUFFO//PprBAY1wtr4eLFnR6DLzLoKcnEEuklTpuDk6ZNiEQ4cMhBNmjfBWuVanDxzUmjAODHlTVpVgY590T9Wisb8go8eN1YESaToqo4GyyiwzKGZgavXsrHvl5/RolUr8aV930BHs5KCREMUJeqLvbWHKms82NIM++Y2QYxPA8zr64obayPwOKEVCpN8kJfkgrsqJ9zd4ILr672weowDWtnrYGSoOU4vDcPDxAAUq0xRnGSoBrlE5sqomT06zglfKr7kV69dxc8HfkaTZo2FeHjg4IGSOtYzj+/R40dEoEe2YdSZRo0biQ8aOWy2eR9Ax361x0lFweKli2FlY4nx//hGiKRUOPDDR+50zbo1MDEzRt/+fdHro56Co0vZmSKAToJEWWuRz+HaIlUF6Nie9/J/VPug8sOhFlG79+qJZi2avyG6zl+4UHB0FFkpujJKCrm7fT/vF6Ir+2K/ZY1T/oa/RVcN2FWXo+P+ldw0PckcA2fOYMSoz8SewzqlUmNuohYNp/7wA7x9ffH9D9OEAuLIsSPoP6g/gpo0QrwqXnzlSi/+0pNXVaDj/VzUcoHRvGX02DEi7DU5Oo6dQEyQo5aLqvwdO1OFKBERFSX26NS/j9qxk2KRao/pXTm6fJUhchkNeb0hniTqI3edKR4k+WDnZDdEutXDjF5OuLo6EndXB6AwgaHh9ZGbbI6cDX6IG2mIUMta6OWtg60TWiNrbRs8SnQTbYoS9YQHBL0gaGysNiR+tz06vix8ScmN8D/ds3ePEF87du6APXt3i+uynv/LgYO/YsjwIXB2dYJOvTqCW0retEF8dNhOzjWPJcn/li8vn8HrVRFdOc/8mPG+46eOi3mPjYsFjWQnT50szoVy6sI5weGHdwiDu5c7du7ZKfYdydERwKmgkOtGjkm7ZP98FqkqQMc+eK/si5prmovwvYmK7iYkob3794Paf17jukzetAlRMdEYMnwYYpcuxacD+os97nHfjke6xlaR/1fpvl894+89uncWXc9fuCA0mZwQmpZIjo5fpk1btghjSl7nHtjM2bPh5uGBCRO/Ex4Nx04cw8d9P4Z/I3+sU64VQMLFz8UjJ6l0WR2gIwdBzS430i9mXsI3344X+3ArVq0SC4maYo6bgMc9kV179gjRlXsn3BhmFIoTp9Uvd+nxvDPQKQ2F50NhvAGK441QmOiI3K0t8Mu85ojx0cWi/n64Gd8LD1WNcV9lgpsqY6SvdsSPffQQ4lALnwYa4efvO+JufCRur/CFF8scAAAgAElEQVRGXrylyFf7RKWHJwlURtQM0PF3c14uXDwvAIrcELcemrdqXsLRkXsiiPA/IccnzUp4bez4sTC1MMWYb8aIvTxy2HzhS5P8f6sDdOyL4qjsg+O9fOUSlq2IE3kSJn0/SQAYRVfWTf3hexHbztHZEaHtQ8GouxbWFvjsi89E8Ai2IdjJ/rRLPov1pKoAneyTOSTYH5kDrj1GJe71UW80bdEcBw4eFOtS1vHdomUA1yHNTI4eP46G/v6I6BYl7iewv0+gq1JynHe1c3vf91eXo6NGllwQ9+g4IdznoujKPS7uJfA6AYTW48tXrRQT9EnfPjh4+BC2pmxDq7atQK0dNXmceC4Evijai0r7uDpAp70oaSYyZtxYMQ6q6bnIqDWWY2eZsjNVxBXr0buXAD1ydPzyypdYezzvCnQFSgPQyLd4nSGexJsjN8kNOZtbY8eclujeSBfz+vng2uoY3FW1xM0NHjgY64AxkXXRzFyBPk2dsW/OANxM/Bh31rXG43gf5K+zxlMlvSVoWGwMal+1PSXe1byE88MXixzPnn170Ca4DTp16SQ4In5I+KEiJ0VzC87VxcsZuHv/LtYnJwnF06cDPi0xzC0NcjyX/211gI73yj55zD443oWLF4g8CeToOF8EawIYo/Ny/TVr2QwBjfxh72QvxNhPB34qxG45Bjkm7VJ7TVUF6LT74DE/GHx/uMZ6f/wxWrZuLcyyeI1rkVzdpq1bcODgbyVJd3b/9JNgGAiMco+upoGO8SmrnRznfYPVu/RfXaCjHR2BYu/P+wWnFN6hPVzc3GBsZiq0q10iIxC3fJloQ7ufTwcMgJWNDVq1aS1EGeF3N21Kyf6cFGdKLwh5Xl2g48KeMGkC2ndsDycXJzTQ04N3Q1906tIFC2MXi73EzVu34pN+fYXYamVjDScXZ/GF7dOvn9C+ar+IcjzvCnTFSkPh7F+8jlnEXPHLFBN80aE2Ovoq0NBUgXBHBQb4KrB8qBVOJoRgUn9TuBvXgou+AqHu9ujfwhYD/HXwY0cFMha6IV/pgufxZvhdaYRnCZUDOoZpOp2WLkAq/RwjvpzGOXIs6WqtMn8rAYMlX8wdO1PEnlbL1i3E3hvD/lBrGd0jWpiP0H6OHBIVFeTYe/buAU9vT1hrlBH8z7RNUSQ4af+/EmR4rSqiK+/jGAnEDB8e3jEcDQMaQtdAV4io7ULbYeoPU4USgrZz9IbYuGWj2J+ztrUWkbKpned+MX9zTXN0ct1Q/Gf/vxz4FYOGDBFmJVa2NsI0q0mzZuC2SequnThw6CBCw8MFsEVGd0P3nj3ER9rEzAzcCqLoyt9c00DHMPaMGMN0CjXC0ZWOH/cuYPUu91Yb6PjluZiBnw/8KqKqUtvKAIRUk9OWrlnLFsIOiC4rZL35Ner76adw9/IQdkeMekptKAHubSDHRVJdoKOxKqOsNm7WGH6B/kJZ0jDAH42bNsHUH6aJtHRKlQpdIiJEHcffqHFj8Rs6dOqEpA3r1SJXKa7hXYGOPqzkvPLjTfE40Qkp3+qjX+NaaO+mQLi7Ah1dFIh2VWDup7Y4srI95g2zRUxgHXTyUSDEXd0mwkOBUa0VODjDHQ+UXiiKt8BTpQmeJJijWGVWSfOSdKRRFHsL0PGFStqQhA6dOgguKKhpkPhPCSah4aHYuDlZmJqQK6IBLTWZjGjr3dAb33z7DY6dOCr26CSAaIPcuwKdBGRynAQRJoLhnpuvv68wMeEYaVNHNy25z0gj8r0/7xURcXz9fOAX0FDsG/92+DehoT3DuIVlSBgcK59BqgpHx/v4H8rfT6Dr9dFH8AsIEB9YmpnQvCmsfbiQiOiOOHHKZFFPkyjagNLO8+uxY3DwyGER2FP+7rLGKesqUkYw+KY2Ma+rBDra1P71118itQNjZ2pjjEL7pDLH2vHpPnQcOjm+6gId7ejIZh8/RS3qMWFiQrGUXyKWR08cFzZB9C0lG06wo3jLDf+U1O3iyypFHu2FXt6kVRXouBDl146mBEeOH8WhI4dBGySaw3DMHJvwjjiXjmMnToh6OX624284xUCUZSz4ioAu0scUuydW7AJG85IiFY2GjfE40R73NgTisrI10tcEI31NGNJXh+H82lBcUYXgiqoVMtY2R9qK5ji6rDkOrmiJAyvb4tDKYKSvbYVrygA8iHcRdnTFCeYooLFwpYHu9Xh0MnoJf5/27+b/SSA5ceqE+OgcOnJQ7GdxXoTWXMP9cS7pkZC0IRGJ61UCTLh/xrmgaCvnmqU2yWdJMGBdZTk67Xt5H19ujotmLsK06PBv4lwGGyDYyGdzbTCQ62+HfhMgxN8p+yur5H1sQ6oK0LEv2Tefzy0Rvjtci5L43pAxoDjLtUeTJyosKMKuT04W+8Zsy3XLvLFljU/7Gp9XEdAx8CYT5DA+HQEvJSVFpHSwtbXF5MmTBUdHfCiNTZUCOu2bGA6dJEFHu05ee99ldYGO5iUELmosud9F4t4CSZ5TGcFJ4cQR7Lhvx5DZFDHIxcmJ5+LRnqCyjqsDdK/3w+eplSZyfBLkWKoTDr85fukCJscq+3wr0E0KRl5CSxTFO5QTpslIuGUVKA1RwP209WYoSLZCfrIN8jfaibJwow3y11sgV2WCvEQz5G2wQu5mOzzY7IC7m+xxf7MDHibbIVdljfx4CxDkClXmyEsk2EmOTr1XVyTs69RhmjZP90ALr7qYMGEsTpYKvFkR0Mnfzv9CmwiADLPEegEEGjGS80yQk/MruRnZjtclyb6rC3Qcj+yLfXCPkAoJSdprTrbjeAh+FHdZz9/BOjmWskrWy99OoKuKZwSfR46SfdAKgOuODIAkKsR4Tb33rfYVl+8Ur7OebdV7e69/iMoaK8dZHtDJUOoEOgIewW7dunUiXwwT/5Cj++OPP0Sqh9K4VCHQyeCaLOWNTGLN3JC5ubkC7LQ5vPcNcLL/qgKdjFpC0CLIEcQkyXNprqGeELUZBycqLf2sZpLUpeyL9/OeiogcWHT3aGGkKuPRCbAp5wssFz4XgHphVty//A2yJBhyPFSosBTj1xrjWU2kWxpOs45JoDOzr2DauM+FU//uiWqgK1Y6aUTI0vHoNGGalAYoVunjeZIuXibp4OX6Wni5XoHf1yvwPEmBZyoFXiTWxhOlAoXrFChimaBAvlKB4vW1UZSoI8xTGHST2tZClYUAOtrQqaOYqAMHFCYaIi/RBLeSvbBxuiuaa4DuVNoFnDt/CenpF0Tk3PPnGG2Y+TgkZ/Nqbvg75UeCJc/l/yJLOYfy/6PhOD+I8n+V9fJclvI675PrZvhnI2FiboZVa9fgdJra+LusF1rOMZVGBBLtrRAJarIk2EiwYkkgkOfsh8flPUPWE0h5XFWOjvdIoKNng/o/VL9H/P0ENf4f8r+T/8nrpZyXqgEdo5do+7oqlUoBcAQ6hlVn2atXLxG6nsmtp02bVrJHV2nRVQIbgYw5IrKzs0XH06dPF8i5YsUKMP58RRnAJDDVVFlYVISCoiLkFuSjoLgIeQX5mPT9FASHhpb4eZIjky/663/266AhF7x2qZ5ENbhx8ni/dn3pF6Oi/lmnBrruwoq8MkCnvVjlF7h0Wbk2r1507TGWD3RfIMLbHHsmhSM/geHUnSsEOrVmVA161IyWJllf+rr2OdswHp2IS6eUbl9qTk5GSSmgHV6SIXI2umPDDBc09a6Lb78bg5Np5wXQnT93EefOZUACt/Zv1T7WnkNel+el23D+5Rqo7FyzHV/26gAd51LOr/axvCZL7TnnMUFL1rEsXV/6nEAogY7c4i8HGEq9OmGaXo1X+/mlx1BRXemxlT7nvQRycqraYZoIakyQQy5u48aNAvB69+4tQI55namMqDbQyYQ4t2/fxsqVKzF48GCR0o0pBZnflclwmfNVgmJNAVp5/dQk0Gkv8vd1/C5AV3oBVO28+kCXp2SUYUeNmQc9INSx4iR4vV4SmCRI0cD3TX9V4bMqAO1V2HQZMl2GUpfnsm8Z2LMoSRd5SfrI2eSGpJlOaOxTF+O/+xrHz/Jjlon0cxSbaLdFTo1G1KXDVL3+cXvbPEuupLIgx/7eFeiqNq9v54jK6q8mga6s/mvymjbQ0amfWcDo1J+UlCQAjpwcRdi+ffuKHLURERGYOHEibGxsBAP28uXLyisjCFyS9aPMe+LECXzzzTdYuHChiHJ648YNkKMbM2YMDh48CIqSH0KElUCXX1iIwifFYDn5+++rxdG9bdHXRP1/KtAJzk4jul7Nvopp415xdGqgqzxHJ8GpJksJdIWJaqC7tdUD62e7IMi7Lr55j0BX3TmnqFtdjq4mQaK8vv6nAR1FZXJ0BDoHJwcBdOTi1ietx5o1a/DJJ5/AysoKnTt3FiIsGS6ek6P7r//6LwF0lEK1GaYy9+gk0MnywYMHAuDIvRH42AETUY8ePRqHDh0qyfNKsNPuvCaPBdfIZNgagJNlVYCOIi2/wDVBlXkpygK60mw9z8tboLxeVvu3X5PimXovTnIo2qIruZdTZ9VeAT9886UQXfdODocEuqIEcmeGb4il2uLn+zouZFIc+tQm6QmO7tZWTyTOckYjn4qBjnuwNTG3Ve3jXUTXiua+pupqEujevvZeV/pU1F7798l2FLEJdFS20DNFAh05Oiog+vTpIzxEevToISTKbdu2Ye7cubC0tARTn1bLvESAS1GR2KN78eIFSHfu3BHJeZm/cvny5cjKyvogouv/GqAT+yuV32ORC6Bq5ZtAx5eXQEfvELrCqYHurHB/+vGbLxDlbYp9k0ORr2yOpwn2IgT6E5WuyPXwRKX/gUp16HUqOooSdfF0fT3kJ9XH3W3uWD/LEUE+Ovjmuy9w/CwVLhRdL78muv4NdGWLtv/TgE5quiVHx5wR3J/76KOPhAdESEiIYLS4X7d582ZhR0egk+YlVJRKiVQyW2VydLKS4EIip0alA0Ft1apVGDRoEGbOnCkyf1NsJb1vpYQ20FEhUfz0iVBMTJ5aedH1P4Wj41dLe0NZ+8tW+rhqACe/ppUEuvR0XLmehR++ZbpDU+yfHIxCZRM8T7DGM5Uunqnq4ZmqgeaY5x+K6uOZqi5erK+NwqTaeJDiig2zHSoBdFKrKj8kZf8PVeXY3ta+TI5uzTqcTqOmnhx7xVx76Tmv6fOygI5G0TRGrijCcFnjqN56lOvy9VK7f9kv3wsCHTk6Ah29kf7x3T+ECYmhoaEQV7ltRpAj+G3ZsgV0AbOwsBB7dNIzolJAJwGOjQlyz58/F2nSaIFMhURcXJxQQrCeAEeqjNjKfnlPdYgy95Nnaip6+gRPnz8HSwF0YaFgCGcuOHo+0G5HHGts5OSxtP2piVL2WVF5/ORJxPToISI90KaOkyftn2gDJc+5H1EeyTZVK9X/wRu/k7HsMjLEByrjUibSMjKQdesGpn43Gp18zZE6tRMeJIUjd703Hm2wwaNkCzxKtsSjZKt3oofJVnhQCdJud3+jFR5uMse9jRbI2RUE5Txv+PnUw9jJ3+DYhWykXbqHM5fu4fSlOzhz6TbSLt1C2qWbmpLH75NykHbpBs5euon0i7dw7tItnD6fjbQLWRg+ajSMTC2xNj4BZ89RlObc0l7zPOgcX948v6/r8qMqbe7oXUGDZALdl6O/FGtQBg6ozBiqtg7V6728e7SfJ9twnBwz83d88+04Ibo2a9EMxsbGaNeundANEORIFGXJ0RHoJEdH0bVKHJ0EO5YnT54UbCHl40mTJmH//v1CQXH48GFhU8c2BDpJkiPULlmXmZmJ1NRUoUGhzC3lbg64MkTHexKjAauSkpCQlIheH38kAgCuWL0KKan0YEgVngz0ZihN21N34EPQlm1bkZK6Q4SsoUtWh04dsWHjBmxN2YodO3cgdZea6IdJYvBE0rYd22qI2FdK+ZSSim0pu7A5JRV7ft2PLz8biDYepogbFYpjCzrj+PwAHJ5vi0PzLXF4gS2OLLTH4QV2b9Ch+TYl19imIjq8yB4H30K/LbLHgcVq+nWhHQ4stMHeeTbYvsgbU752hLubDgZ/MRKb9hzClj0nsHkX6Sg27z6CjTsPYeOuQ+qSx5rz5NSD2Eja8Rs2pfyGzRrasuMgSFtTD5WQvCbbyFJel+WmlAPYnPIrNm3/GZs1tGHzHmzcugu9+/SHoak5pkz9ASk7UkEXpe3bt2H7dpav07btW8Wa4Lp438S1tWXbFrG+EpIS4OXrhb6f9im5xvUn1+N/d8n/gu/IsBFDYW5phrr16iIqKgpLlywVGldycqR3BjoCF0GKJcVSdjpw4ECxEThkyBAhuvbr1w9Dhw7FL7/8UsLRlebqZD/SkyI+Pl6YpfTs2VMY+rHkpmJliU7CJIYN796zJ2J69kDjpk1hbWsLe0cH2DnYw1ZD9LWz4zUtou/d+yQbOzuQrG1tBFlaW8HI1AQmZqawd7QXUWsZuZaBFUl0HJfH5ZVsI8nGzgYVk7Wm3laMQ47nVam+38rWDraOLrBwcIClow3MTfTgol8HLU0UiDBTINpcgW6WCkRaKhCloQgLBbqaK8BSXtMueb08itTUdbVQoLOlAp0sFehYBnWwUqC9lQLhluqyk5UCpGBbBXwtFLDUV8DWyhQOdrZwsrOFi701XBws4OpoBhcHYzjaG8HJ0biEnB2M4cRrdoZwsTOCq60h3G0M4WFrVFJ62huL89Il25Qm2cbD1hAedgZwt9OHm50enK3rwcPRAC72RrAw14OxkR6sra1gaWkFW1s72NuTbN8gO3tb4V9LH9sPTUamRmBgAHMrc7G+Kl5Xb1t3NVfP/4Hr3dHZARZW5iJ/R1R0lNAHbNq0SdjyEo+kLd07c3QS6AheTIDLh9CGhUQLZYIWEZWikBRdSwOddh+s27t3r5Cjx40bh+rQ2HHjMGbcOIweO1ZTjkFo+3ARgZfAN2DwIDCEc3nUf9BAfAji84eNGI7+AweI4J2ePt7o278fBg8dpKHBGDxUTQz2WBbJepaDhgysIg3CoCG8b8hr5cAhgzBg6ED0HzIAA4cNQp/Bn2LQyMGICAlGGwtbDHV2xlQPW0x10MM0x/qY5lgXUx10MM2xnii/t6/z2rl2HY/fRt876GCKgw4mO+pg0mtUV5xPdKyN75wUmOBUCxOceKyDbx3rYrSnKT52M0YT49qIbOKEz2P88WWEDcZEGOKbiHoYF6mDsZF18XWEDr6MfEVfReqIa6Mj1PXjIuvimwg1jeuqg/JItpFl6XZ8pqiLqo2xUQp8FaXAlzF1MLy7OZo3rAMrfjC6dMSA/v0xYMCnGDiwPwYNHvCKBqmPBw4eANIATSnP30fJNcR+WZKTY7h2hnyib+6QYVwnA0vWpPba++84luNkQiOGo/px+o+gdpUSoDQcrhGOTgIUS3JjlHsl0U7l3//+dwlx/05ybmxfHhHoKDtTa5uTk1NCtMmrLF3PuYEbN3NEnsgbN2/iWs4NAXhh7dsLJ+Pbd+/izr17uHP/HphPsjTdunsH75vkM2/euS0CFPb5tJ8QrxnY8catGyKtXfaNbJCu51wTdOPmdUjKuZUDbbp55yaqTrdw8/btNyjnzi3cuHMTN+7cwI2715B58zLynz3C0qmT0c/FC5s6RyIjJgo53bridiXoVlSXknZ3oiPwJkXhTrSk8utvR0fhVnQEcmK64Eb3Tsjp3hm3unfF9W6dcbFrR6T3+wgrw1uhm0kDLBnSFre3j8CT1C74I6UZ/pUSgL9SAvAypRGepzTCsx2N8HRHIJ7tCMDzHQH4PTUQL1Ib4XlqEH7f2RgvUxvj9x1BGmqEFykBeJESiBcpPG5UUsd2kn7f0Uj0w75ILzX9/HNXAP7c6YPf93jhcaoPbuzuhMnD7OBkVhvbNipx985N5Ny8jpu3cnCrDOJ17bl+n8dcQ1xvTP1IdzPpGXHtRjZybvG9ul6NdVadtVnxPbfu3hLvxt37d0QmPLqATZw0UTBaMmoJQa7GgE4b7Ci+5uXlCSJY8ViWZXFx2mBXup6gSKqOQqKYioynT1FYXIznv/+Opy+eC4NhZsPalrJdRFFgJAVGO2WG+w9NMqQ0S9Jvhw6JyKpdIyPw076fRNif4yeZufx4pYnuMFVpr26rzpTO/+L1/0B9fvzUCRw7fQy/nvwNGdnn8eNXwzHAwRqbWjXC1fDGuBfii4fBXngU7ImHH4AeBXuJ59wLccedUFfcD3HFw2B33A/xwvUQb5yNao5VbT3Q3bgu5vf1x6W1XfBgnQfyVpugcLUeClYbIG+1KXJXm+HxajM8WmOGhx+AclcboWC1LnLX1cfNNbq4kNgQ4z/Vh51ZLSxfvggnuQZPHMPJUydw+vSbdOr0CeHuxDl+n8Q1Qds0mQOWLmDcoxs2cpi4zggtrGNUlLcR+6remnz7mme/HCfDlFFT/NXoL4XWlZ4RlCilU3+NA50ErIqAqTLcXOl+ZH/UpFaFCI7UtNK8hFrX4qdPBdAxHhZjx9E2jERNqDz+kCWfq63xpdY1unsMomK64bdDB0RsM+nUL9Xpbyul1qxqpdr5+m2//Vj6GWTfyca8cV9ghIM19rZphIftA/E81AMvQ5zxR4gjXoY4vUG/hzjhRagTWJZV/0eIE/4MdgJL1svzfwY7469gF/wlSif8Ffw68XkvQh3wZ7Aj/t3OCWxfEOyM69GNoWrnjN7GOojr74M7qnA8T7TDH6q6+FOlwB+qOnip0sUfKl38mdBAlC9VeuLaS1UD/K5qgBeJpPp4kVgPLxLr4nliPTxLbIDniXp4kairqee5bKsuef48UVe0Y1vSM035UlUPf6pqi4AGeSoFsja54dvBdWFtocCKdWtx9uIVpJ9Lx4ULZdN5jZlR1eZWbZpU1Xuo1aQ5B31djxw7LLSun33+mQjZLwMKvG0tsr6qz61qe2piaV7C4AMMaS/yZ0yZLMxIygI6mpdIg2Ha0VVZ6yrBqSZLCXDV4eZ4Dzm6oifFwqmfgEfOjlm6GNU0dfcuEWmksk79lfFsqE4b5nSg3RXvpWcEE4VERkfhl99+FV8rTiK/VpUlbVujyh+X7esqf8/Z9PNIS8/A0TNpuHrjGuZ8PRqD7Zywo1UL3ApvjoJQPxSFeKAoxA1FIe5vUGGoOwq0iOevt+O9vOaGolBXzbEnikM88STEXYvc8CTEtYQKQ11REOqK4hA3PA9mO0/cC/VERnQzrAl2Rw/julj6qR9uKjujKMENjH5SqNJFIRP2KI1F9OMnSgM8URqKOkZELmYMvQT67OqhMIFtWaqzmMn0jepzJujRQ75KXb7ermx/32I+N6EB8pN0cEtVDxmbGmLsICNYWNTCkrUJOHn+CtLOppVEQGYUZG0qHT+v8vNbtmFwRfcTcBgpheYbTK1I8xIGkmWMOa5FclLvd01WbswEU3J2DCEv7egq4ugk0NGO7j8G6AiaBLvqkLyXJUVpcoLshzGowqoJdBKQZKQSCQTVLdkfuSiWJCYGYaq3mgA6+bWtaDG/WScBTzq7qw1Xad+Vln4JR8+cQ1ZODuaOHofBdq7Y2bo17oS3RFGIvwboCFaeKArxElQc4iFAqlgDfgS73DB35Ie6ozBETbxWGKoGOgIWgYzneaHeyA/1RGGoC4pDXErAjfUEQwJcfqibANAnwe4C6IpDvHAn1BsXYlpiVYga6OL6qYGuIMFDBBTIV+mDvrGFCaYasNPHE6WeADgCoQDDBAJYPeSrdDVZxhj3jsSgBAYoUOkLgBP1qgYoUNVHoaqBBhBl4AJ1tBZtn14m9C5O0ENBYn3cSWiAixsDMXaQGSwsamPJ2nicOJ+J0wQ3uvJpgdyHBDi5Jgh0TJhNTuldgE72977KEqDTuICRoyPQEdC0OTppR/cfC3SSQ6wq2Mn7tIGOXB6BLjw8HLt27cJZpgOsQpgmbVCSoFca5CR4ybal67XPZVuWpHcBOi4kbVGBLD0XK6/JRSbBr/R1WV9eyf9IcnRZOdcxd/QYDLZzRmrrlrgd3hyFoQQ679dAjmD3JMQDz4Ld8SyYpZfg0AhsxaHueBbqhqc8FoCnBronIW54FuyKJ6FeKAhriIIwLxSEOqEw1BFFoc4oCnUpAbm8MFfkhbkhT/Thgeft2L+3ALqMmFZYE+yJnkZ1QaDLUXZGvgA6UwFURUqGezJHsdJMgN2raCiasE8qXRQk1UVhErk1ExSqLFGotBLgSG6OnBx9awuT9FG4vgEKE+uiUFVHw/3xGaRXQMcwUjwn9/hMqYcnqnq4r2yAzOQgjB9gBWvz2li2ZgVOnz+P00yVWCrycXnzoj3fFc2pbKe9FsrrU16vKaDjM+VaZJ8k+QyWcmyyjmVVxsm2gqOrAOi0DYapjZ03b57wjPiP4ui0Aau6x6U5uuoCHUGKUYS5l0blgQyqKcGLYMUAjKxjdAom1uE1WV+6ZJ0ExJoAOoq5cuOXYoU6rPbrC0eKHWyrveAqOn4FdGeQdTMbc8d8jcH2jkht3Qy3w5uiUIiuaqArIEhpqDDEQwDZ82BPvGzrgT/akdzwZxtn/LONE35v64ynwRQ91eIpQe5lOye8bOuCF2098awdOUI1R0cuToqq5OYkR1cW0F2IaYVVIZ7oaVwXy/v5CNE1N8EL+QkWGg7NFIVKSxQprVGstEKR0kIDTuT09FCcWA+FCbWQF69AHoOAquqhSEVOTs3pCe5NqYu8dXWRG19LBAgtUilQnKADir+Mm1c20BniGUVllS7uK/VwZUMT/KO/DWzNamPFmmU4oxEL3wZ0fLlJnEvON4mipASOsuaS812VOSfgvCtHJ8fDvigGUzHBMWgDGX+DHBt/gzwu6zeUde1voNMyXaEml2Yv5OgYsaCqQCcjxNJdjKGeRTRZTYh11tEnlpGFeXzh0kVcvZaNK1lZQtFAcJM+s+8D6Dj5crEQ2HjMPBXSNUYuDl7nJjLrmKP00pVL4lzWV6dDtI8AACAASURBVFS+Aro0qDm60RqgayE4uoJQfxSEeqMw1LME5NRg5yFES+6/PWnnhqJgiqS+yOvYCLmdmyC3YyPktW8o7mGbghBXIdo+7uCHR52bIbdzczxuH4jcUF8UhFGU9QA5OQKeWsQtm6MrATojAh1F1y54HehMUKg0R5HSBsXx9ihUWiM/wRT5iUZ4nKCPhwmGyEu2QtFWZxRudUFesg0eM9S7ygC5Kj08TDTH42R35G/xQ9FWPxRtckW+ygT5Sj0UJcr9vLI4Ogl0DV7j6GwE0K3AmfPqMOcVAZ0ECeawkHNNUyTON89J2nPJcwIN55yKBa6B0m2028vj6gId75cgLEGLa47KDT6X42QbOQZye3TfupJ1RRCPOU75O+V4yiv/BrpSQEf7Pe7TVRXoCF7kusjFxcYtxbARI/Bx3z74dsIE7PppDxhbjEBGgGOijwWLFmHgkMEY9cUXWLVmjUgOIsHufQAdFwyJX/VlK5cJY+JP+n6MbyeMR8rOFJHdixu1XCjMVbpi9QqhnWK6vF9++0UtJpV6OUovqncBOgJTbpgL7oW7ILtrIH4OC8RCX0dMcrPGMm8HHGnmiTuh/ngc6otbnRvhcLg/lvk7YKqbDeY4WWF3oBeywprjTjs/PA7xRl4YOTxnPKeIG+KK/DC18uKZluj6NqDLUxmKHBUFSisUM99FvBro7scb4OFGG2Ssdcbar3QxIaoWpvRogOSxdsheG4j7CW54nOSIC6vcsfxrM/yjRz2M61IX8z5ugJPzPPEo0Rv5KoqtEuzUSolXouu7Ax0BSIqC8ap4kZCaaRdHfDYCm7ZsFJp6rgeR7DqdWezOgykavx7zNb7/4Xsw4Q/BgSBUep61z6sLdBLk2BdBjRnHZs6ZKYycuS4nfz8Zvx78VYyBz9i6fYtQItCP9usxX2H02NGYPvNHkTtXfrgrAr2/ga4GgI4gx5RszGg/YeJEOLo4w9DYCPqGhtAzMMAnffuWZLunmcikKZPh4OQIUwtz4crl49cQa5XxQoQti6urCdGVAMfM8FOmThbZ2A1NDEXWeD0DXXSLicLuvbvFhvK6hHVo0boFLKwsoFOvDiK6RWDn7tQPAnS3wp1wsbMbNrVzxVAbPQTr6aB5g3poX6sWxuvVwr5mbsjs2hj7w/0xwcUUnfRqo5VubbSvq8DQ+jrY7OeJ62FN8SjcF/lCOeEs9vKKqZCoAtAVJFBENRac2aNEI+QlmImsYk8TzJEfb4j7ida4pPTAN5F1EWSqQCNzBbx0FWhurEDsp464sSYYjxKaYO2o+giyU8DNTAF3IwV89BQY0lQHxxe0wP0kbzxWmgrNbZHQ2BriTaBTi66ZyU3EHl1lODq+0JIIEHHLl8LVwxX1dOvB0lo9p0xYTeBI1wJDgt7Q4UOgq6uLoCZB2LJts+DweF0b2EofvwvQEYjZP0VVelGYmJkI1zG6kRkYGwh7PIIdgXDB4gUwMDJAbZ1aoq5ug7rCOJmpJZn8h/38DXRaYFbR/h1F1+pwdCLl2sUM7P5pD+hN0aJ1K8QuXYrUXbtEvkpvX18sXRYn9uG2pmxHu5BgtA0ORtKGDVi4eDG8fH3Q+5OPcfjYURGVgpEpBHekSUDzrkDHrzIXwf5f94us8n6BfohdGotdP+0SSZjdPN0wZ/4cXLx8EaoklXDp6fVxL7i4u6Bb926inRCT3rLoK8vRFWhE10KN1pXa00ehbrjexQdHI/0ww9cMvc0b4OvmjTAnuivGN26Ivnr1MMPVHPsjW2BFCzf0t6iLYd5W+LFLC3zfsTX6WJtjkpUpTrdthIfhAcIERWheQ9Ta2wr36EqJrq+AzhAPE42Qy/wVShM8VRmgUKmL/G0NkTzeAm0ta2NUJz9sjx2LNdP6IMpXH3196+HErI7IU7XHtrHmmNynATYs7IbdynEYHt0IAaZ1sXpMS+RsaI/7CU4gyBXRlIRiMHPbMueFUnJ0EugaY/wAS9iYc4+uYtGV86wNTj169xBuWT/M+EGkW/zHd98K3+hJ308SHy+KqAJIFs2Hh5c76tStA/9G/ti8ddNrWctKA5w8ry7Q8T6Ok6Jq8qZkuHm4ITQ8BKm7U0WAgHYhbeHt6yW4TLYht0e3ra/GfIVde3aK8REE38ZxynHyf+HHnn0x8GZZWtf/Z5QR1QU6tSHxeeGxsCg2VkRA4bXLV6/gi6++EkA2b+ECXLiYgdnz5sLT2wujx44RoixzVdKflkl7k5I3iD08isA1CXRy4dOgc/a82VirXCvsia5kZYqQNc6uTiJzOxc9iaYC+37eC2Z0Z+Z5AmJNAl3pPbrCMC/khXkhp4MPLkQGYUcLV2xo7oUdUW2R2rcz5ocGoZdRA0xwscb+yGDs7RCEhCa2SOnig90fN8fKnm3wsbMFvrA0xMHWAbgf1ghPgz3wNMRNmKjQVKUqQCeVEXkqgpyJ4LRoN1es0kWesj4eJDnhyDwXrB5pikOLO+Ny6ufYvfpjfNLaEN3cGuDIzGgBdPfXt0TW5jAcWBeJxPkfYWAnT7S20cH6b8JwM6ETHihdhQlKoap+OUCnh/vxhlBzdJZQc3SrcOa8eh+roj06zjlf7MVLF4uPGI/plkUOj5wdE8RQbOW+Hb0WWrdrDXcvd5HoOqCRv9jOkJySBIuyyuoCHYGHIEWujuGdCGTbUrbi8tXLYkyUJDiepOQkZFy6gPkL58PGzlqsyQGD+gvvht0/7RaKNP5W9lfW+OS1v4FOi9urLtBRdOW+GgGKCgjuw/EajY4dnZ1FOKVNW7bg0pVMTJw8Gd6+Pvj+h2k4cfqUMP5l0IAmzZphbbxafJUaViou2O+7cnQS6DjpPOZ+DMs582bDxc0Zrdq0xGaKKhnnRB2Bjvt0rdu2QreYbkKsJQBS9JULp6yyshzdK6B7pZTID/PB4/CGeNA5ADc7+eNyh4Y4FtUU8eF+GGxRHwNM9BDfLBAXOrbBzc5Ncb2zL85EeCE1yhtjvQ0QbVwLM32dcTq8BR6EB+FpsOc7Ax25K6ZKLNAk6uH54wRD5G+wRsFmd9xN9sK1zY1xRBWKUb2MEWhZC6O7eiJz7UcoWN8KuVsa42x8AIZ2qAcXPQVcdRQY3MwGpxfE4NG61shb54D8BAO1rV0CuTlT8Tw1R0fzEl1wP7AqQCdfeJYkcjDymNw6fVGd3ZzBLQoJdNNnTRdi4YSJ/8CAQQPQ0N8XO/fsLFknZc21vFZdoJPgJMfGcZLoMjbqy1EwNjUSH9mfD/wsOE4CHUVaPQM9wY1RFHf3dBNAyPVM0ORY5LhKl3zO3xydBuyqC3QUXWkmQqLYefT4MUyY+B1s7e0QGBQkxFhybhmXLmHqD9PQ0N8fU6ZOFSYotIn7pF9fEfsuXsWgiuo0d+ynJoGOKnkSFzcX2XeTvxPhdLio5y+cJ0DswkU1p8DN3Z27dwqgi+wWIWJ4cSHxvtILSPu8+kDnjYIQHxQHews7uoJQD9zp4IndrezwuakOBuoqEOvjhrTwNsgLbyaMjHM7uuNUe1f84FgX/XUUmO5qjp/a+CM7vAnywvwFR0fD4rwwdzyuJkeXz0TXBDlhS2eFwngzPFlviuLEBihI0MHjTeY4ucIcoyPqIMhEgUGt6+PXeWG4l9QWhUlOeLLRGreUVlCO1cOQDnUR4lALPZwV2De+CfLWNEXBWnvByeWrDIQ5S57KVHCQzJD2VNjRSaCj6GquEV3fztHxpeZ8kTg/nLfYuFh4eHmIUEVTf/hecHH8oKWkpsA/0E9wconrVfik3yfgVoYyUVmisNCe49LH1QE69sGxEaB4P9clQY6cHSPumFmaITi0HZI3JwtJglzf1u1bMW78WMydP0fEt5v241QRikz41Wo0y/zdpccnz/8Guhri6MjBXcrMxOGjRzF85AgBcnQhS9ywXpiPEAQuX7mCmbNnw93TE2O+GSeUD1J05b7epq1bBFBSYcGkvtIUhQoKyeVV145OLixqUEd8NhzmluZo3rK5+stO40vNngkXBkUWiq7ctCZHt3f/T2IhykVTXll1oFPb0hWGqDm7vFAv3A/3wcXO/khs7oDhZjroY1oHsY29cbJjCG6EN8ej9gG4HdkIe9o6YZy1DrrXV+BHD0ccCmuG7PZN8Sg0AAVhPsJIODfMTZihVFd0zVUZ4pEwB7FAcbwNniWYozBeF3kqPeRtdsChhQ4Y2EoHLUwVmBDlhrRlPfFoUyc8UnmiMMkKTzdYoGijC25taY5z22KwekJztLeuj7kxJri7pgVy452Ql6Av+uM+YG4J0BlogI6iq5GGo6s80BHYJIdEu7Qp06aA+1t0zyLgyfnjmiAXp6+vLxRTTi5OMLMwha5+A/T8qKfwXWU/EjDlfdpldYCO4yNJYKKZyPYd29E5ojOMzYwRFR0p9pN5XWqOGcGYkXmuXrsqIqLwfl8/X3Tq0lFwgdr9aY9PHlcF6Biy6X+1wXB1OTqKl9yTY9j1/gMHioCd3HOjQmLv/v3Y/8svgsujfd365GT4BQQIpcW2lBQhrvoHBqJn7144cPCgMEMhqBHcpJnJu4quXKicaAYAGDJssNBsBQQFYNGSRWKDmhvAMgLFidMnwPDsSRsS0bJ1S3SN7IrEDYnCxIR17Ke8vaHKAt0byogQTzwO88KNzr442a0R5rd1QahtXQRZ6qFP00ZY3qUz9rZtiVNtAnGucxBUwW74yLEuGhvWRrS3H2I7RODX8DBkBDfHnbDGyG3vj7xwek2o7fPoSlbhHl05BsPcn3ukMkc+DYbjrVCsMsaD+Hq4vdEBqXPs0LO1Dryt66N/57bYMvsLHFrcA2kL/XE3wRc31zjg+HQDHJnljCMrWmPf2kjMH9sara3qY3p3O1xZ0RL3452Rm6B2EyPQPVaZqoGV+4F0N1NVHeg4PyQCFEHuHxP/AVt7GyGuzpg9Q5hsMNIu1wL9UeOWx6FHrx6IiokCFQCOLo4wNTcR5ijHThwVHNf7AjqCE4Fsx64d6NS1E3QNdBHWIQyqpASxL0yFCNcc261etxpr49di3y/7hOnL2vg1sLSxRL/+fUu4V/5uCWylS9aVJ7rKKORURhDk6BJGF7D/tZ4R1QE6uT9HoJsxexbs7O1Qu04dmFtawsPLCw5OTvDy8cG8BfNx5mwajp04jq/HMIGuPXz9GsLR2QkMoLloSazg4JgHgMAmQa68PbqqOPVTNKBmbVHsQtjZ2aFWbQUsrC3g6eMp9jsYfXXqj1PFJrBSpUT7Tu3Ba/X16ot9EUYx5jUuSG0vCvlSyUVVVaCT/q40Gr4f5oULEQHYHBmAKLsGsNdVwFpfAX8zA3Q11Meg2rWxyN0eKRGt8ZWPKfz0asHdQAF/I310MDZCvwZ1MdPSBCfaNsGdDk3APb+noZ4alzIPoZRgQIEy7ejKATqKrfkJNBimG5gJ8hINcWuDkXCyHxpRH7a6Clg2qAMvGwO08KiNIDMFensrcHxxGxyb74MhTeqinYMCXRsrEOyvgLexAh2ca2P96CbIWdcCD5UOwoSFDv81xdHJfSoa/nLflRv6tevUhpGJodjTcnV3ga29Lb759hshmnLvNed2jgAQami5N0YTjkFDB4kPHuf4fQAd+yRlXc/C519+jvr16wuNL7Wh1P7aOdrBL6AhNm3ZJD6ybYLbCG6TQT2btWgqNMfcaySHevacWtNcXaCTvq4EOQl20te12jkjSpt3SN9UXtc+luel27/P8+oAnTYgbdm+DV+NGS0i8Pbr3x+kPv36YuDgwVCqVEJRQXcv7sv9MH06OnXtgp69e2PpsmVqVzGmDiwFcuUBXVWc+rmguAgYv5+JQQYOGYh+/fuh76d9S0ipisflK5eFMenwkcPQs3cPsdgZIZb7NjTU5NdUgpt2WRHQDXFwws7WLXAnvDmKQv1RGOoNydFpA92DcB9c6hqIPd0aY2JLJ3wUZI+YACd87OuEUW52mOpsg/jmfkiJaovZrT0wNNAaA4Oc0L+hCwZ5OGG0uxMWN3TFkdCmyOnQGLliz49+tF4a53/6y77u61qWwXB+ghdoXpKfYIyCRCoHpJO+Ph4mNUBOsgnOr/fDsvEu+Lq3HUb28MSwbm4YFmGDEe3rYVJUHZyKa41zK5th1WhrDI+oi45BCkQ0r4+vutlh5w9hyFoTigfxXshLoAEy7fXU2t2aEF05L+SACHSMVciMXP0H9Ue/Af1AQ1wS533ugrliLjl3/Aj+cuBnfP7lKPT6qBc+6vMRJk+dLDgncu/sT85x6fJdRFf2S86TVgDDRw4Xa5LP5vh69u6JkaNGCu0vOU/u0RF8uXcX2j5UcKHLVy4Te84S3EuPTfuc/0tZHJ12PDqCHGPSEfh27NhRwtHR751ZwBgrk15T2hhUYbpD7YYEF/qYkrQzf5UGPe173tdxdYGO4HTqzGlhPnL5Siayr18DIxUzcnH2jeu4mp0t9tjo/0oOkFpZamAJeqX9YLWBUx6XJ7oyHt2vBw8Ir4byNKJcTKRjp44JkTP7epbY67iWc018yRkhlhFoqcInIHJhsw2vMSrrzdvqyK10BZMLRxvkeCyvl8fREejuMnpJaMBrQCd9XQl8NC+5He6NrK6BSItujoO922Fvr3bY3zsEx3uG4kJ0MC5FtMSliBYiYOapXu1wtE8H/Na3Mw5+0gVHe3XCuW7ByOrYBPfD/ZFPVzPN3h+VGwwS8CRYDXRPQrxxL9QbGTEtsVorekmOsgsIdHTOL0g0QUEiE14ba6KYGICeEg/XW+B2ojPubmqG+6ntcWdnF9xK7Ylb2z/B3a0xuJccgocbGuNeoifubmmCK5va4pSyHc6qOuN6cmfcS2qBXKWH8Julr6uaayTn+IqKSpz6qy66ci744lMk5NwQSLivRa6Nc8p9Lkb91c7QRaCjmQm5K9axPV2s2EbObXnl60B3SIT4HzlqlNhrpgWCes2rwVKuRVlKro5jVEckfj0yMiMXc2x8BsckXb54P69xjBx3eWPTvl4e0JFz0xZdCXZM6cCcEdOmTYONjU1JXtfHjx9XH+hooPv7778Lbo4AxnP6mxJ0SO8L1Mrqt7pAR0CSWtfjp04KFy9G4KWYSmUDI/JKzSzBTR4T9NieZia8JoGtdPkK6NQx6ajVpZKA+yo0mjxTgUaUi4ITzkVFEZZ7Hvyy0RqdxH0Y+kPyOuvZniWJ7eQ93O+RfUlwk6VcUOnp55CenoFjZ7R8Xe3skdqyGe6Ht0BxuUCnVkow3NJjalyD3XEz1AvZYd7ICvfGtTAf5GhCKz3s2BAPOvjiHu3uwryRHe6Lq+ENcTnEG9dDfYQy43FJwABPUMGRrzln3Dp1dBQvEY/uQkxzrAxxFxGG4/oFIEfZVQBdkcoSRSoTFKmMUKR65XgvzEwSLZCrtMDDtZa4t9YUt9caImeVOW4st8edVY54tM4BeQm2yE2wxL14c9xOsMa9JFfcS/TAQ6U9cteaoDDeEE8T1LHtilSmKFKZgWWhygwFKlM8URmJ6CXco7urNMLl5MYYP9AUNua1sGzNKpw+f0FELykvTBPnhSTnsmSutSL9cm61P45szzUi55zzXnp+5Txrl2qgY0DLyzh45Ai8ff0wctQXIgH4mbPq4BZc52p6E/DYFyMR05aPz2bJ/WISx8B6joN1/B1ynPJYrkntMZV1LPsgqNJg2NrOGkxgTY6OQCdzRpCbS0lJEalX27dvDzMzs5K8rtXi6CSIPXz4EAcPHhRJcZYvX46dO3eKvA+yvixAqvlrBFTmkM3D8+dP8PRpMb7/fjLCw0Oxa1cqzmpC4ghbsnJC47COfyYnvjTxupwwWWpfk8dlTZBszz7ZjnT0+BHhtkXXLarkuWDJicn6sko5Jn7p1V97dX/a/crny/tlnSxlfelSPDudgSDLADp7R+xs2QwP2rdEcVgAisJ8SkTXVxydViSTMIq2XigM8xakPuY5NbPuyA9Rx5bjeVG4lyAeS2KbN4kcHcMzqUVZ7tU9CHFHRkwzAXQxDLypAbrCBG88VVmhOJFmJAQ7AhH9Uk00kUsISmpg4vXiRLMSku3kPbKO98q2T5IsSvqU7V6V6n6fqgxFUu+ixAa4qzTApeQgjBtoCisBdOowTWlnz+CcViy68uLScS7l3GuXvF56HnlemTba97H96bTygI6SzlkQ8MoDOglU2s+Vx3KM8jewlO2167THU94x2xMsSwOdzPpFkZVcHIFv2bJlIterqampyPs6depU/Pnnn5UXXQlelHHpNM/y9u3bWLduHYYPH45hw4YJ6t+/P5YuXYrr169Xm6vjc6pGBSVA9+wZE2EXYcqUSVUCuvL+4Iquy8mqqA3r2I6Tz5KkDXTVDaX+tmdWpb5CoNNwdJUBOnVsOi88bechAmS+0ATKfB6siT+nFTWYoZqeB7vgebAzXgTTed8ZT0PUcegKNYE2XwGeGuhk/4x/91ADdMtD3NHNpC5iPw3ADWVXlAd0AoyUJkIpIQJvCs0oow7TFEQXTxIaoDhBVxN5WM2tPU0wwrMEQzxPNBCh0p+qaARsKLS3anB7BZja56+Arj7uKvVwaWMAxg00hqVFLcStXYFTtLGsJNBVZR7lWpPrjOXb7lcD3RlcyryKg0eOleLoKgd0Erze9izt8VWmrXYb/hYJdDLCMDk6CXTk6MjZrVixAq1atYKVlRUiIyNhbm4uRFju0VVZdCUIEezu3r1bkpwiLS1NpDikSvfLL7/EkSNHRLIcmfKwKlxc1UCOoKgGuvyCXDx9SqVI4QcBOu2JqOiYk/Q/FegG2doJ0bUyQFcWh6e+pt5jewVcZXFtFV0rDXTueBjiioyYpqgs0Kk5OnJ1VaNX3JqaM6z4vDRHVxbQLcMpKqz+o4Du3Ti6qgBdRe9JRXUVAZ1UQBDk2rZtK/blxowZgxkzZojAm+ToJNARt7SxqEJlBIGIjalwkJm/Hjx4gMzMTCxevBijR4/GoUOHRJ0ELe3OyzqW7apXUmzNhwC6Z8wk9mE4uoomRrvub6D77wc6AlRVQa7q7dXPKGbQzYQGKEr8G+i034N3OS4NdHYOtpj2w1TBaFEBQSmyXbt2sLa2xmeffYbU1FTMmjWrBOgouj569EgwaNr4UyHQSZBjSeXDlStXEBsbixEjRqBfv37iodeuXSsRP7U7Lu9Ygifrqw52aqArKMiDtugaFh4qoilQNBNUCVb+XSajvHv/5wLdGAyydUBqyxZ40L6V2KPTNi8pn4N7tWf3Xjm66CZYHuKmJbpGoDDBF09V1m/s0X0YoFPnnKBo/IQJd0TOCD1c1Iiu1ha1sGztMpz+D+XoDmmUESNGfYG0Cxk4nV5adK1YKVHe+q+J6xLoqMVlQAMHJwehjKDoGhcXJ0COGtaRI0cK8xIqJKZPny6AjrEpJdBV2byE3JwEJyaa3rp1q5CFBw0aJLQc6enpwuREtikP4LSvs08ORO4Dks2sHD3BUw0n9/LlCzx//kyTHCdMAF1aOsOd0yOATsMflriJy2eqs4AxMKY6Cxi1rlRGqPfo1GOjvREntDJUE4tH9lHWHp3MAkag29GyBe61bwVGGKbZB7Wr1IZWnRh5WO3lULmS7V89R4aFojLiXrAbzkU3RVyIO6LEHl0grisjkZfgg2KVDYoTzTVKCIqT5pqkNzL5zfsq1c8RQKfUQ2GiLu4oDZCRHIixA42hDXTqnBHqtVHTa5Jafklv65vtaEJCresroPsSaecv4VT6eZxIOysA78xZpg8orZSgFlaCX83/llfv61mkXTiLY6eP40JmBr7SAN2cObMQv3YdwkJDQcNgSpJURlCUJZdH0ZV7dO8EdAQoCUwsydlxP44PGDVqlNgkvH//fgl3pg1oZR3LvioHbGUDIAHy5cuXePH8BaZN+R6dQoOxN2Uzzp8+gvQzR5CedhjpZw7i3JlDSD9zGGc1lKZ1LK+9S6ndH59zPu0ILpw9hnNpHMMRHD3yC6JjuiIqOgL7f9knzFdOnj4jFhxV8qfSTpaYiKjP1eYi2sfcmK0pYsJkkUj51GmcPnUWB0+cREb2Zcz66jMMs7HG/maBKGwXiD9bu+NlK0f83soBL1s74WVr59fo99bO+L2NM160UZc8VpMTfm/jKOhlW+aKqBz9rmmnzj3hgn+2Yg4KF/zZxgmFbeyR1bUhEtrY42MjHSz72AO31rRD8TprPFfWw7OEWniqVODJulolVLxWgfdJRZr+n61R4MUaBZ6tU+DhGgUuJzphfH8d2FkoELdiGY6fSRdmSTKheU2WBC1tqrjvU6Lt0RN0DaTR8SF4e/nh8xGfIePMKZw7eRRnjx9C+qkjOCvoMM6eOoS004dwphRV/L4cwtkzBytNaSVt1e/pudOHceHMEaSd+E28S+PGfAZnJ2t89cVIhLRrAzNTE4E5VEbQvCQhIUHgz8yZM6sHdOTOJLfF8s6dOzhz5gwopsq9OrKMZB/j4+OFskKKoRWB282bN3Hs2DHs378f+/btqwKx/c8l9NNPPP8Ve/fsx8B+/dEpOBgnft2PW9mXkZV9EVnXLuBa9llczzqLa1npyM46h6zs85Wm7GsXIOna9Yt4G12/fhE3rl3E9ewLgq5lnceN6xeRnn4S3bvHoEfPXjh5Og2XMq+IL+rFzEu4mHkBFzPVBqA0pixNNLok0dhSkozDX+UyWx2//2pWJrKyruBqVhauZF1DxrUs3Mt/gCUTx+IzZyv8FtIYz7s0w3+FNsR/hfng/4T5iPLfYT7Qpn+F++CvcB/8M9wHf2rRPzv44J8dvAX91VF9zPJt9K+OPvh3Bx/8nw6++L/tG+L/dPDDvzo2xF+dGuJZFx/kxARhc7AzBpnoYF1fdxRs7Iw/Nrvir61m+Nd2I/x7uzH+vdW0hP61xUQcs3wf9NdWU/xzqwn+vc0Q/3erLv6/bQ3w52Z9PN4VhCnDDWBnUQur161D+kUa9Gbh6jXS1TKpynOpycVQsidV8AAAIABJREFUtfsyNcbFV3A1+zqOHDkFX69AjP9qDO5cuYRbmeeQczkdN65ewLWsDGRnXdSUGcjKep2uXr2AN+k8rl49h6tZ6biadRZXs9JwNevMW+mKaHcWV6+eRdbVs7h+9QJuZmUi++I53L1+BdMmjYedlQnsbCxgY2uFYcOHCWBbn6T2cyXYkbPjHl21OTpyXgQtcnCHDx/G+PHj8dVXX+Hbb78FNR0UXceOHSts67j5V57oKvuhRwUtmbm31717d0ExMTGoDkVHxyC6ew90694L3r4B8PcLxKwZM7F89WrMW7USc1etwLyVSzF/RSwWLl+MxctjEbt8CZYsX44ly1dpaCWWLH9FsctYtxIsF8ctE7RwaRwqpqVYuHTJG7Q4Lg6LlyzH7DmxaNykLZo2b4tZc+Zj/sLFGlqABYvnvqJF87Bg0XwsWLRAU87HwsULa5wWLV6A2NhFWBwbi8VLlmJB3BKsSViFz3p2RnczPcxzNcI+XxOc9DHEGS99nPU2ECWPSae89HHSWx8nvPVx3Ecfx3z0cVRT8vy4jx5O+OrhuE8DTamL4z6VoQai3UlvPZzS9M9+jzbUx4GG+tja2BwzfHQRqVsLY0OMkfilPTaO0sHWzxXY+oUC279UIOWLD0d83jY+80sFdo1WYO8YBfaMUyBxgim6t68NU3MFRo75GjMXr8TsJfGYs1T5Gs1dqsT8uATMW6rE3CXxJSWPK0u8V5vedp981sK4BPwwfTE83fzRI7IHVsYuxfIlSxEbuxSL41ZiwdKVmL90laZciXlxr9P8ZavxJq3C/GUrMH/ZMsxftvSttGDZUixcthQs1e3jMC8uDoviViJ26WrELl6OZUuWoc9HvWFuYggrS1OMGjUS69cnCXGVOEKujhwdbepqBOgIdtybo0/Z3LlzhZsF8ydSKUHujIbE5YGc5O4IduQE6cZBkKS25PPPPxdsKI/fRqM+G6VuM2okRo4ajhGfDcWIz4dhwMhhaBQWDjPfIJg2ageDoE6oGxSF2o2iUTsoGjpBkWjQqAv0GnWGYWAXGPlHwdivO4z8usPQPwaG/tGaksdvkoFftzKvy7YG/t2gHxAJ/YCu0A/ooikjYOAXBdOA7rAJiIGNZ3sYWXjCzMwWxsZmMDO3hLGZGUzMjN9KdNxmzoiaJiNTYxibmsDE3ARGRg1grV8bDQ1qo7WeAp3qKxBVR4EYhQLdFeoyWqEAqZtCgSiFApEKBSLKIF6PqqVANO/XqTpF6yjQTUMcA5/RtbYCIfUV8G+ggJuuAl6mCvgaK9DEVIGW5gq0MFegudkramaqwIek5poxtLRSwNNMAUMDBQxMFNAzrAVDkwYwMNaDkYkBjI0NS8jISHPO0lAfRob6MPwAZGSoJ55namIMQ1Mz2HgEwNIvFAZ+nVA/IBp1/WNQP6AH6vl3ryLFoJ5/N9Tzj0I9/8hKU92ASOhoUd2AaPF8vYbdYBkYDWvfEBhYuaD/kOEajwh11BLuzdGerkaAThu8CFR096JrBW3qaEDMYwlkbyulWMu9vIyMDNAW7yzTCzJXaqXoDNLSTuPM2ZM4lX4UJ84ewqnzx/DzmSPoP3kKAgaNRtvpGxHw48/wnpkO91lX4DTjChxnXIHTrEy4zsyE+4xMeM3MhveMG/CekVMh+c66CUkNZ99C+ZSDhrOvw3d2NhrOuYqGsy4hYOYFBE0/j3YzLyNy6im0/igW7buNw+pVm7ApeSs2JG+GikaPghLBIIrlEcPgyDoe1xQlJMVDmbgWSYlrkbp9EwYOHABXv0C06z4YHYb+gPDhc9BhxHyED5uL0CGzET5sDsKGzUGohngsSV6TZcjQ2QgZOgshQ2dWmdoNm4U2w2aj9dBZaDd8DtoMmYXgoXPFczuNnAmbwFD0HTIciRx7QhzWq+KwQbUCyYkr35k2rl+FytKmpNXYnLQGm5NWYnPSMmzbsBLJCcuQnLwOvfpEw9a2Ab4eHo5Vsz+CclZXJM7ugsRZkSWUNCsSG2ZHYcPMCGyYGYkNM6OwfmY3rJ8VhfWzIrF+VoSmLPs622+Y2U19H9tr+kkWfbG/1yl5ZgQ2zooCyw1ze2Du5B5wbWgJ/x6fIHz6RgTNPATPWRnwnJsFj1lX4DH3GlznXIPbnGtw15DH3OsoTZ7zbuDdiH1mw2veNXjNyYbH7Gz4zr2BRtMuI3LuNbQatA5WPt0wZuI8JG/aIvblCHDrk5JeA7o5c+ZUX3TVBi8ClTQIJuhJcVS7TWWOeR9FYfrMVoVe/P4Cz18+x7OXT/D0j0IUv8jF0z8Lce/5Y/xjRRxcB46D27RdsJ6dCaNZj2A4qxBGMx7DeOZjGM3Og/7sfOjOLoDerAIYaEh/VgHKI72Z+SiLdLWu68/Mh/7MPOjPzIXhzEcwnnkfJjPuwHTGHZjPug/bGffQeFo2fHqsQ2S/BTh9KgdZmddwOTMTmVevgEEFWKr3WjJL8mCW3nspb2/nXa5nXbuM7GsZyLqchoIHdzDhx5kwbdoB/l+tRKO55+C58BZcYx/CdWkunBfdh9PCe4KcF94DyUVTyvNX5X24LnoAt8UP4B5bFXoI99hHJeS2+CFIzosfw3nRI/gvvo+QBVdh2Go0vp6yDhcz7+Hi5au4eJnO4pc1+56XceHyJZyvJmVkXkblKRMXM68gMzMbmZnXkHU1B5mXruFWzj2MHzsGnpYGSPqxJ7I2MniAHx5vdMfDTd4l9GijN3I3+eCxpszb7IvqUP5mXxRs9gXL8u7nc/I2eaFwiw8Kt/qhYHcwDii7ILCZPhxiesB/1m5YzslE/dmPoTs7DwYz7sJozgMYlCL92fehTXqz7uEV3dUc34ferAdvJV2tNvozH/z/7H13WBRn3y4aO70XUSmiYhcVNZbYEo3d2GKs6XaxABbsCrZYEYEtVI0dG6B0lu27sDQBxS4dNf39znXeL+c+1+/ZHVgIKijmO+d688fvemZnZoflmXnuuX8dxrsfwWjXI7Td/ZStUwu/Cgzc9yvcF1yHTa9vsG7TSURFnUe4UKjLdw2ro7o2G9A1BG5vC3YcuyNg5LbfNJZT5ZSKCpRWlqOksgTPKh6h9PljFJUVYf0RfzgtXY+Oe2/BaF8BTPZVoOP+KrgFPEDPgHvoHlAM54CH6Lj/MToeeIROAcXoFHAPnQ8Uv7M47S+Gy/5idA24i+7+hei6vwhdDhbDKuA+rPY/RM/dReg6KwLj5/yAhPg8KMRZEEu0SfvkMRPLaruacxUi6o8Ujd58ok3WlsrTIZOnQCFORPGdbHy/eTNMPMfAanUwDPffRYsDP8Ng//+Cgf+/YRDwJwz8AYN9TRA63///NF30/8ZewCCA/ub/Rpvdv6DHnnK09dyHZRvPQSJ5BrE4GxKpGhJZJsSybIikeRBJcyGS0nbTRSzLRdMkH2JZAUSSQmTI7yJFnAu5qghrlq1Gb0tDnPGZgGLeMJRT6hm/Bar5H+hJK+02rwWehxpovcah5Dl+neh5lUMNUKk7nzy+z9n3WqAqRLufjlWGtkAV7wPtSOeEGuAF7wNURdgg8UQfeAxqBccZn8Et4DZMAophePAXWO5/DteDj+B2oAjdDt5pQArQ7WAhE7cDtdvcvm4H76LbwWJ0O3BfO9L2a6T7gfvocaAYbvuL4HywCPY/PIZRwBMYba9A7wN/wm1xKix7rsa6TSGIjPwRYQI+Aziyz+nb6JoN6PTZWkOgp3/8Tdv0ffLkvo1UVT9H5fNqlFeVovJFCR5UFMPnWABcFq2B6+4bsN8pw6AjD7Dy2q8IuF2CkwnFCEq4h+MJD3Ew8RkOJD7FocRH+CHpIX5IovHd5EjSIxxNfITjiQ9wIukh/JMeY5v4J4zhZ8M5QAqPPXK4zTqN8XP2IzmhAGppDuQyrvIvxdK9OZ6OS5xunpFKvVMxAykUShFU0lQ8KMrHsi3eMBkyGB3XHILdfhXMAx6iy7Gf0EfwJ/oK/oSH8P9goPC/MSjsTyaDw/6E52tkkPDf8Ax7swzWnTNE+N8YJvwTIwR/YqTgT3zI/xPDwgB33r9hc+QF7HY8xOAdd2EyaCvWboxCpvwBMuVyZCnEyFLKoFGokK3QQCPLhEauhkau0o20/WbJVmSiKaJRZCFLoUGWKhcqZQ6U6iz2MlJnauC1YiX6WBri3KZZKBZORomwCyrCrVERbldHysNsUSawQbnAmtXS05Z/0tbVo9p6dcUS2o5ndK4VSvmWKBFYsD62dB77zLdCiUC7v4SO02e+NZ7xLFHCM0e5wJL9rfLo7kgKHIbBg9rCZfos9N8bD6ddOeix7wlWxf2JA8kvcTThIY4nFOJEQiGOJ9xlciLxHupLYNJ9aOUBApMeIjDpEQITHyMw8QkCE5++Uk7qjp1KfAqSY8mPsD/tCbxFFfhIkIUu2xXw3F+Jbguvw7LX9/DaFISIiLMIEwj+PqB7E5D9HcfLK0pR8bwUd8uLse6oP7osXoOuu2/CyU+MCYeKcCr5N6RllUCtuYPM7GwoNTmQZhdArLkDiSYXUvrcjCLPyoIsOwvxufmIuluG6ZFiuASkoN8eBVxmh2LM3INISMiDUpIJmTQDMnkGZDIJuEoWFMjLBfX+HaNETs1YRJCLU3D3Tja+9d0IE89h6Lj6Bzj4y9F5dx6mCX5CgPRPnJT9bwQr/gtB8l8RKP8FJ+W/4ZT8NwTLfkOoVCs83ciX/Qa+/NcmC0/+G/iy3xEm/R3hsj8QLPsdxzV/4pvEX9HzVCE6787FoJ2FMBrkhzUbI6GWFUMtUyBTLkWmnEY1MuVZUMvUUMuU7JhaJkdTRHsdutabRS1XQqVQQ6HIhFSuhkylhEgmYmX61yxbgd4WhjjnMx33+RNRwndkhUFLhZbgpExIoGOJCoEVKnhWKA8lsUZ5qI1utER5qDnKeOYoZWKBUp5ljZTwLFhT7Sd8MzwSmOIJ35wB2jPdfmq4TUIAR98v41EJK6rMYomyqK64FTgE/T3bosuMuRiw5za6bVdjyK58BEv/Gyk51VBk30Nmdi5Tz9XZeVBn50M75kGpyX2N5EGZlQ9l1h3dSNu1osjMg76oMvNAIsnMRnJ+ASIKn2DmmTQ4b0uA54Gn6LbgCqzcv4OXjxbohP85QKct01RW/hTl1SUoKC/GyuP70XGJF9x2x6HrVhmm7i9GcOzPSBXfhVImg1KWBpk0DVKphDlACGCaS+TUuk2WAYUsFRJFMmIzxeBl52CKMAFO/mnoszcTXeaE4aO5h3E7IRcqiRoKqh8m+58COlKDqZYd1axLhzQjCUX5Gnzr4wuTwWPQefUpOPmr0HuXGst5DxEj+x0ZsmIoaDErMiBWiCBSiLU11ihZvdlECgW1n5TKoKTKzjIZbuTkwy85GwNPJMFplxgeO/PQznMTlvvwIZPfhVyuhIJaVypUUDDQUUNbZ08OytZpilBkPpdh0JRRRn1bFUpI1QR0YqjUWfBatgp9LAxx1ncS7vLH4inP4S9ARyDHsjh4lgzoKlmvC3tUhlAHM0tUhpqjItQUFaEmKOeZ6gCPgM4apaHWWvDjG+GJwBAPBcZ4JDDDE74lnhLg8U3xjG/2F6BjRQqEVig944bYoCHoNaQtOs6ciwF7b8N9mwIjd2pwOvlXJEnvQiZTQikXQ0mNcdhcUlkvmlNZzcuZe0k3Zay/7pQ0Z1TLTpaKZLUYguw8TI5MQJfttzDo4GN0W/QfDnQVZc9QUVWGwvKHWHH8IOyXrIPr7ji4bZVhRkAxBHE/Qyq7i2yFFFnKFGQpUqCRi7SiSIemuUSuvVaWIhkKVSJua9IRkZeDaWG34ewvQu+92eg0JwKj5v6AhMQ8qGWZOqATMVYnV2hZXVMZ3auqSLxqfy1L5ICOCiWKaxmdz2aYDBqHTquD4OQvR7/tcqwPvocE0XNoMrJRKE5FnjgWWeLrUElikSmJR444HnnieOS+peRkxLHv0pgjikeO6BbyRLeQm3EbEsltxGVJsCNRjCEn4+C6Kx0eO3K1QOcbCqmiEFK5krWcpEh/hZLAjluMjV+Q3Lyz+oUqbVPwxqTlcedQxWoJpRqq5YzRqdSZWqAzJ0Y3CcW8sXjGs9NWPxaQ+qiVCl3tvEq9clJURqo61BDPQwzxIqQ9Xoa0QXVoa5SHtkYZzwilPAuU6hhfBaWd8VugVGCAJ4LWeCYw0TE6AjpjnZiihGeKUgaUxqwwaaXQAqVnXHEzaDB6Dm0NewZ0iejlp8ToHWoI035FhuIuspQKZCtFyFZmIEtJa0imGyXIUpK5oGHJVIiQpXy1ZCrSoS/Z8nTkyNOhlidDoslAZE4upkcnoPP2mxhwsBhdF16EZY9vsNb7FFNd/+MYXXkN0D1gjM5hiRcDOtetMkwJKEZw3C9Il96HSq6AQpEOOalp7G1Ei0BaRxRUWonyTuvt1//8quMKeuMRYCjSIVGlIzZLCkFOfg2j6703E53mhGHU3MNISMxlqpVCKoKcWKZchMYAHbeoasFK51BoQN1tKtDJxKkoKsjBN76+MBlEjC4QXfbJ0GeHCmtDHiNW/C/IxA+gkWZBLZVALhUxZwqV3tYPD6JteuPr79MPIWroOGXa0Dk0SiQ0yiAXSyGXyJEklSNGk4/NSdkYeDJZy+h25KHdYB8s9w2BTFHA/p6CClAq6B4TuyOge/N9bOheshzgeoUvuXl/3UgAKVFKIVXLdKprJtYsW6VTXbVAV8KzYyDDQE7IAZ02L1ebm2uGSr4hqvhtUMFrz1hcNc8M1TwTVIS0Q1nIBygLbcOcGhU8C5SHUrczY5TyW6OU3xalPCNtxeNQYnzE5gzxjG/EmB0HdBV8bQXmyjBzlJ5xRmzQIPQa0hoOM+eg397b6LFNjpE71QhO+w1JigeQKzRQKeRQKWR15lehlLO1QnOoUsmZ0DYntGa47YZG/TVF20qdSOUipGjkEOYWYUpUChy3x/0DdFRh+HVAx1RXPaBTKglQ6gId3SRNdiY0mkyIRGm4fTseYrEISrqRCilUKlo02lGtViIlJYkdp23az9nXGgI6YS4BXSJTXZsKdPpARf1baZFRCfWE5ARWnZirdUfn0TGqQJydlw11lpqV16b9+tfQB0ftdl1G9yqg67tdhXXBjxGf8S8oMh4gK0PNciJlknSIpRKkpVPOrBhKpRIqlQppaWm4fv06bt++XQfwuHMI6Kg6NQnFUZJkUNl6sbhBoEuUyOoBXQY8duSg3WDvRgMdLTQpqUYqBXJysqBWK9h9Tk1NRnZ2JpS6hSqnBjU5FKKSxapAUz9dKldPXdS4+aa5awjwOKCTZMqQJhdBoX4D0OkYXZnQAuVh1ihlowUehRriaZg5nkY6oSjEDTknnZEf5ISSKFc8DSXVtQOq+B1ADbSfhVvhSZQzHkX1xuPwXnjCc0U5vxOqeNagEvIlAhOUCur2uCCgY1WYw8xRdtYFsacbD3R0f+lFwqmuWVmZyM7JQmLibcTHx0KpAz0OxGhtZWXRPVaydEM6lyQzU1WzbrhzOaCjl35alhxh/wBdpS44WWuje1ugowUnkYhZ8PGVmEtYvvx7eHoOQteuLhg3bgyOHz/KAI2AjG7gzdjrWL16BTwG9sfw4cNYkc9bt+LYOdQHoLmBjhYUhZcQw7hw+QJrLzdg0ADWCm/MuNH44egPSBOlMjCjWv3UpX2jzwZMnjoZ3y77Flevx7Dv6vcYqAt2jQO63jtUWBn6GNcl/4JU8oDZFuWSDEgk6UiXZCAtgxwqcsTGxoKKHY4cORLdunVDv3794OXlxVIGOcYWFhaGuXPnomfPnnBzc8OXX36Jq1evsqyadB1gZoglEGdIIc2QQCaWIUEsxpWsHGxOyqrH6Hzr2ejqMg59RkdAx72shEI+pkyZhG7duqJXL3fM+3wOLl48j4yMdHafY65dwVfffIk+/XqjWw83jBo9EidPnazpVfomoOMYXWNV1xqg45ujKsoOZdGuyApyxrGvWuELDwOM62yAWT0NcPobcxQG90cFzxUv+TbM9nY3whGXdtrj+9EtsenTVpAd9kSZcABr3F3F47y15L2tbeLztkBHQMQxZi1Dl+LMmSjMmjUTPXp0g6urM2bMmAaaXyIKBHICAQ8zZkzFRx+NxPARwzBy5IeYM3cWrl2LqQE77t5wQPcPo6vkAE47VlRWoLyqHGVlz1BVVYa7ZQ+w+th+kOrqsicOLn5STD1wFyGM0T2ASq6CUkmLMg0ymRbgCMTS01Px9ddfokuXTgzoxo4bDQcHOwwZMggREWGgt3xqWjK++mopOnd2ZDdt0CAPdv727X4MKLXsT6ZVP/VU13dhdLSglJlKBmRffvMl6+VK/TE/mfgxOnVxRN8BfXE69DTruBR4OhA9+/SEkYkRWrZsiY8/GY+Lly80C9D13KnCMt5jXJH+DpG0GDKpEmKpCOnSDCRLJUjOEEOpUoF6h7i6ujKQmzx5MgMzqhXm6+sLkUjEEq5HjRoFe3t7jB49GoMHD2ZNTJYsWcIKOtA5JM0NdNxCIlYRfysWI0dSNVobTJjwMSu7T+lWEyd+wpg6MY0VK5fDzMIMQ4cPxfgJ41kv3R49uyMyOhLErIklc71G9Jkdx+iaCnScrY6NYTYoCOqEk4s/wAgrA4zpZoBZI9tjhGsLjLE3wEWvnigP/RC/hLqhKqo7Uo854ttxH6BjGwN87GSA2D2j8VAwDKWhtqjkWWi9uHwKRyHQ0wLeuwIdOXmIfaekJGP69KkwMzPG+I/H4pNPxsPc3JTN6fXrVxlT3rt3N9q1awcnp84YOtQTgwZ7MOA7f/5Hxq6ZNqSrF8k1DSLn2D+qqx7YvRro1sJlz024+EkaBDqt6iphdFqhkDGgCgvjIzDwOEiVITV2w4Z17A1FN4oWSFBQIHr37omZn01nKs+PP0ajX78+jPndvHmdsQVifQqFhNkBZap0xGfJIMwtwBRhMpz8M9B7r6bJNjpOLRVGCHHsxFFWoolazG3ZtgWdunSCz2YfprJS79ZTpwOxZ99uBoCTpk5iXdOZgf2V/T0bx+h67VRjWehTXJb+gTRZEahGmUgqQqpMC3SpEq0H+9rVq6zSNFWiyc3NZUUbCPioUANVnj506BD69OnDCkGQqkq50ePGjYOHhwera0isTwt0VDaKGJ0YMrEECWIRrmRpsDlJjYGBiTobXT7aDd6C5T5CyOT3dF5XjtGRne6vzghOfT14cD+ioiKQn5+L9PQUjBn7EdzcXEH3NDNLhfAIIU4EnmAhPtS6b+26tTA1N8WuvbuYysqaGjVQP/Btga6CdS4zxXMhlXu3QGmEO1ICuiHQqwsuBs/G7ZjtOLJnKYY7dkDAtC4oF0xGZUhPPIwYiEPLjDHEqQWcjFpjYg8b3NwzE4/Cx6GC74Bq6m1L4SrNCHSZmVpvNt0rtVrF1gWfH4rc3GzQWvr887no6GiPsDABNBo1aP1QpZFNm3yYWSglJZGpsqTOcs4fTsvgVFiKAEjRSLVrJyoRjttj/7NtdPWB7l7ZA6w5RuElHNCJMfVAIULifka69BFU8kwoleQwyGAsjZtYequQfY4mn6j2tm1bMWbMKMbogoODmE1n585t6Ormgk2bfZhtQSLJYDeVwC80NBj0mRnDlQR0IshUGYjPIoOqPtDV97pSeMmbnREEdsTsaCHxhXz4bvHFyNEjGYMj8CP1ltnncrNx9cZVDPlwCCY3J9DtUGFF6GPEMEZXBJmUijFmIF0iQopEgnRyHuhylMl2c+XKFezfvx8zZ85Ely5dsG7dOgZqcXFxjNXdunWLOR6o0sSAAQMYu6MS2LR4CAAzxGLGGKSkEtcBukyd6iqBxw59oKPwEgK3WtWqLtBpw0u4fVlZZFNKZF2jNm7cCHd3dwa4VC6M7IxUtkqpVoMnFMBn8yYMGzEc7r16IZTPh0KlZA3NqRdubeiJtp2lTCmv44xorOrKAV21wJQ18SkT2ONxWDcU/eiJi4e6Yf/GHlg02RqjO7dE2PK+eCQch/LoAZAc74OP3Vrj4z4mmNS/K6a7myJx36d4LBiBCnJ6sHg5KjaqLfVONjtSYcvfwUbHqa5kqyPTAL0saB2dOHEM3t4b0Ku3O4YNG4LLly8iJ0eDgP37YGVlgW7dXOHh0R/jx4/F/v3+jD2zFw9VAecYnc4B+A/Q6bE5CkR+K6AjQzJ5RllMkNbjSgUCSGVJSkpg9gZjYyN88EELTJ78KS5cOMdAcMeObcyms3mzD2OAZIP4YsHn6NmzB4JDgphNgt5odPMUiox6QJcCJ38Jeu/NRac5kXrhJY0HOgI7ssPNmz8PxqbGaNmqBT6Z+AkuX71c08OV3pBXrl2pAbqY6zHMiM69Mf86No7R9d6hxsqQp7gm+R1iaQEUUjkLdKa+ssTm0qh4qFiMDJ3qSXY6R0dHpkI7ODgwJkf2UBJyPBCYUKFWqvVPFWJJtSXHBLE5UolqgU4EmTgDCeI0XMnKxOYklY7REdAVoN0gPyz3CdcxusYDHS1S6mLXt29fGBoawsTEBMuXL9eCbEYG1FmZuBEXi4mTJ6GDkREMWrTAR2PGIDY+nlWMZl7mZgU6asBjimqBEWuX+ELYHmX89igOt8KhJS3xYUcDuLY3wARXA9zcNQF3wqYhmzcSuz+3RF/LFji2aTU2zp2J2T1MIA6YhCf8wSgJJYAzBKmpnJTrGm83F9CR15XIQczVy8zkY2TcAa1atcCcObOQLkplayoo6CQcHGzh4uKE0WNGMbZnb2+DI0cOg77PmQHo2eSIxz9AVx/oqipQprPRVVeWobj0AdbqGJ3T3ptw3ibGFMboKLzkCVRyDZQKsqPVBTpidAR2qalJjJ2tXr0SAwcOQPfuXeHvv5fdMH2go8q85HlduPAL9OnTC6dOnWBAx+x07wHoiLFRlWFqGBwWIYTXei8MHOyBLs6dsWPXdtbImo4R8Jy7eA6Dhw7GJ59+wrZpHz1MfwU6XxP/AAAgAElEQVQ5yr54V6DLQKpEhtQMKdJFGczbSh7Xc+fOsTLWn376KTp27IiFCxciPj6eHSeHAxVnJSZnZGSEL774gjkjiMnVOiM4RtdYoCuGXE7eQC6cgbzl+qqrltER2+ScIsQujxw5gqVLl7Lf2Lt3b1Y2jL5HjhVqUE6Mbr33RgwYOBD2HR1w4PAh1vC8uYGuXGiGcqExygXtWWOdcmEbPBW0x12BJeL2meDod7b4apQVPrJriT1zu0Ej/ApnvQdhvGNrjHI2xo7vv8SckcMx2q41IpYPxGP+KJQL7FHOI6Az0okJmhvoiNFp100yjh49zGrEkVOCHDxR0RHMBkcRDKdOnUT0mUhkZ2cxlZbso6Ti0jrigI6F5ehCpMQKreoaRtrQP6prJSrqAd390gfwOrofjkvWwrmRQMeMoQpq2ahkNPzhw2LWEDs8XMjeQsuWf8eALiBgn/bzsu9Y2ElyciKmTp2MESM/ZJ4nuuHE6Oit1NyMjgstydSoUfzgHh49eQRBuAAubi6YOn0qYm/FMtX2bnER60UxfOSHmDZzGhJTEpGTnwMZ2SEbiLNrOtD9BrH0DhRUVkuaAZFEC3RpYgI6UsG1NjLqCke9NAlUxowZw5wO1FuEgIzq+ffo0YMJlbwmYNFoNIztEdjV2OjEYkgz9IFOic1JCh2jk8JjRxHaDdqmY3SNAzpilMTmiFXm5+ezCjxFRUWMzZHThJLB6Xhefj4KCgvx8PFjVFZXgS8Uwq6jAxYsWoQ0kaim/0hzqa5aoDNFOd8Q5bz2KA83x7MIezw744bSS8NQFrsUMsEKzOhliMk9WyMpZA32femBviat4G7ZFj0cOqOjaSe4tG+LtWNdkHn8E5QI3VEaYgnqY1HJN2asrjmATquyKtj9InsdmXzu3MlDcfFd1pHv8OGDsLGxAjnpaG2RSefJk0fseEFBPttHQDhx4scsVOofoKvH3hrKmX1XoKMbQSrrjRvXWKgIsTeyyZGdjkJNHDs5YNXqFYytXb16BSNGfIgBA/qBmnOsWbuKAd+SJYtAoEcgx3lemxvoCMjILrd913aE8EMQwgvG9yu+Z17YLxZ9wVTa20m3wRfysGnrJrj1cIPnME9s8dvMvLLJacnNBHT1VVct0KVkaFXXIz/8wAqxBgYGIjg4mFV6JVCjcJPz588zkCOGZ2xsjClTpuDAgQPYu3cvU23JbkdA93aq6+uBjrE0mQxkm6PijFTsldpzUqjLqVOnMGHCBNYTlPqDUvzfpk2bsH3nDgZwxOq++uYbWNnYYNnKFcigcCRdo6XmAjqy0VFcWwXPiKV4PeJ3RPTKD3DiSwNEeNsgfFMfHPq+Pz5ybI35QwyRFrwE1/3H4dT6IfD79kMsmDEGfbr1Ri8ba2yfMxya07PxVOCB8tCOqKYUMl5taAnZ6N7F60rgxpkgLl++xJx2Bw8GIDIyHOHhAsyfPw8WFmbYvXsHEhJusUiFb779CkGnA0FOC9KW6DhFOYh12kaNE6eZGB0VBH7rUuoNAc3/9L53BTpiYeQppRiq0aNHwdrGEvb2tuyNZGlpjo8/HseoNt0QAkQCQnob2dpZw8LSjMXShYScZkBITI6ArjkZHfe2oxi6cZ+Mg42dDWwdbFm4QwfjDvhwxDAGbtRfggCwv0d/Zr9rb9gO5lbmMDE3wUDPgTh77swr1NfmUV2T0jOgUCqxfPkydOrUibWaoxASU1NTODs7s/ZzFDy8aNEimJubs27q1FHdysoKZmZm8PT0ZCWwCeRezej0bXRNY3TEQohdUntOWgRkP6S/TY4SYnK0KGbPno2UlBRcvnwZnkOHwMjEGHYO9rB1sIeJuRlGjBqFqDPRkMrlTGpBjpwSb3BGsKT+BjIj9FLAqsOsUBZiggqBHYqFPeA7uTX6mhigt5UBBtobwL2DAaZ0M0CktwfyeONRzPfEw8uTEBf6CeZNtIGzbSv0MDLAhtEOyDkxESWCfigNdkAVz4o5I5ojjo4yI7i5zMvLQ2RkBFsP5hamcHR0gLW1JauaTCEnFHOamHQb06ZNgbGJITtGTgkK5Rk8eCADRpUudKo5gI4KcFLPCK6UuoWFxbt3ASOA068/966lmt4WMJsD6MhOQPLjOao1vwtr165mLI5U1avXrjDqzRlJibnx+SHYvNkXZLM7d/4sKPaHouq5c5oT6Dh1k2x05y+dx+59u1lvy5WrV7Awkms3r9WopfG343Ay6CT2BexDwAF/1mti/8EABIUEISHp9nsFOlJdxRIJs7UdP36cBQlTRzgqsU/2OGJrBGLUuOTgwYPMI0tqK6mKAQEBzPvJnfNqoNNXXes7I+ozOi6NT5uKRrY5YnWZmZmMNRKr8/Hxqel5Qk2QyQtLKi0B4o/nzmH33r1YuWY1Vq1Zg527d+NyzBUo1KoG2NzbAR1LqtfluFYJzFHNJ7FAaYgV7glckXS0B455dcWmxX2weUF/HP5mAOL2DMXd0IGoCO2MF6HmeCy0hiykE/ib7XFyTQ/wlnXFrY2ueHJ6AMr5TqzyCQUNU6WSdwE6GUUrUGaQXgqY1t4pRkRkGNOGSMNZvWYlIwOUJUEZKKQxJSUn4NixI1jrtRrr13sxbYgcfJw9lZ5xCQmlzr0Do+NKqVN7hsOHD+n6uvrht9/+wNOnz1gZOH2ceWMDa+5kDuj0i2TSMfrMnfO+x1qgK0F1ZTnulz6C19GDcFyyHs574uHsJ8GUA0W6gOG/OiPIS8lYky4wV5VFD7LW3U3hHAq1gn0moOHYFe1XqhUs6pvsepwD4n0BHQWkUuoRvf3o99BvJpsd/VYSehvS76MUpSy97mHU8DdL1zmMzuceorpj8zA6AjqRKIOFjJBHlVQbAjYuv5XzptJ+AhxiBdxI29z5BDKvVl05oLsFp12UAtaQ11XCvN4snlHJ1fnTLiBuHikMJ1OTye4h1f9TqlVQZWZCodKCGDE1FaUsadRsvul79B2a61fNY208mIwl9UtUcqTrVy9hSf1TcJ83HmWhFN9GoGb5F6mieDeeJZ7w7fAo3A3FkZ4oCB+LAuFo3A8fjqfCXijn2eE5zwg/89viebghnkaY4klUJ5RE90J5uDuqha6oEjiijE+9Zs1YuAqprrTNSSXPhMXsVemS+mODBqP3kNZwZGWaEtFzmwqjdmoQkvo7khXFkMpVuhxuUtu16W+0Hmhu2DypaB6J1WqfVdrmnjPapnP055HNpS6khDuPXfcV4SWddHF0rgsvwtxdm9QfFX4W4QIehGGhEIaFIDych+joSAQFBWHm9Jkwam+EbVu24/dffkfZsxK8qK5EFTOHVaOysgpNBjoqhU79I/SB730DHHf9VwPdOjjviYOznxRTWGbEb0iXPINKlgMl88aRK5sWQq2RnsCCAzS6ibStfxO4bXaOVMzeVsyRoUtcfl9AR3+X+z3c76OR2yago4eIgli5/q/cce4zfZ/7/XXH5gM6YnTMc5qWxpwOBG7kfOBAjlNLaR8n5KEl0T+nLtClg/JpEyTJuKKRY3OyDAMDCehEr4ij0wIdy4RoYCFxc0nzop0/KfOiiikGUK/BOVV65s7h5pJb2HXnTwui+kAnpsbONUCXDa/v16CPuRHO+bwZ6Cp52ni3Sj6VZDJGeYgRGyt12+WhlIyvPYeBmMCcAVl5iPbcshByZhjXeFffBHTVQguURbkg7pQn+lCZphnzMGAPAZ2yLtBRbivFniqoyk0t89J/LvXnic5hz6Tes6t/7queR24Nkdc1SSMFP68Ak6MT0XF7LPofLIbLIi3QrfEOQkT4ObDqJeEC8IShCI8KRwiPh2kzPoOZmTlMjYzht3kr/vj1D5SXljKgq66oRHVFNaoqmgB0BDbE3si7Rm9xesipSQ7H8Dgwep/jX4HuMbyOHobjkg06Rtd4oKMbw90cbpv7zC0Q7gayWDl60+vyJ7kbxI3N7Yzg/q7+7+K26dirjusnoXPn1R2bD+go9o3yhomVccxMf5sAjPvc0EjHOamNo2sq0ImhoIBtZe1Cq/v/avdz86Kt6FyrenJg96pKz/WvxX3WBzoq0/S2QFdFxTepICbfGC/4hnjJb4uXgtb4SdCKjS8E7VHFwkV0hTN1VU1e6s59IWiHagEXUkLxc9rzOCbHjcToWHCywAylkc6IDSRGR0D3OQbsSUYvv0yM3pGD0NQ/kKy4zzJhKNFeJteGgxBQccI9h/VHbm7q7+c+c8f1R279vBLodIxulU8QBBHnwBOGgUc9XcMjEcILw7QZc2FmYY9+/T1gbWkBv81bGNCVlTzDi+pyVFN/6qYAHcfeiM0RwFF0OTWvpoj4x48fs1aG1DznfYIcA9qa8JL6qmvTGZ3+hL9pm6mPryvj1MwBw2/6PW9/vHmBTizWek05wHrb8X0CXd25IkZPan19qWX6dc+vZTP6+/WBrkFGZ2GEs75TUPwm1VWgtadxgPS+Rg7oiDmWRHTRA7qGGR2l/L0K6PTn4V23Gwt0K3yCEBp5DqcFBHRRrJPeogWLYW9piYljR2DVsiWwtjTEtq2b8K/f/lWjujaJ0RHIEWsjkLt//z4zJFNSNlWhII8V19f177DV/ZXRcTa6f4CucQ/dfzrQccDFAR7ZZAn0mhnoGqm6Vv0DdMyp9yZGt9InEPzIaESfjUbI6dOYO3Ui3KzbY8ZwNxzfthRb18+DrV0bbNm6EX/8+jtKn2ptdFpGp7XVvdFGR0BXVlbGgi0pNmrVqlX4+uuvWQNqYnQEdO+byXHXrwG6ilJUV1XoOSP0gG4/VS95s42uccCgXRhNYXSCHMp1fbcUsKb8tqadWwt0VFKd6tEV5Gf/pfDmq1PAagOGtSzs/TG6S5kybHqNjU4mI8/qm1XXhueneYFOrFIgjcrKq7NZ4c1eVErdZyqKeR+/1hnB2ejeF5Pjrks5sOQQISfFs3B9RqdVXXv6cc4IUl0fQCJTQSYXM1bHqazc2PB8ci+Qpo0co+NSwAS59Wx0Cy/Coud3WLbhCMLPRkAoCMbcqVPgYvwBFo/sgtB1I3F9/wTsWTMc9g4tsWnrOh3QaW10VZVloPqVlZUVr3dGcCordeyi6PetW7eyIFAKtPT29maM7unTpzWOCQ6QGhrpWtz1GjremH01QFf2ZtVVLCtFljIfahUVh6RqqEooVUpdFyzqhNV44Yo0aq+jrayq3dZ6Y1UqKeRqMW5lKxGRX4Rp4alwDpCg154cbSn1eUeQmJSPTHkmVPIMVjqKsy3RdZS6Io9N+U1NO5fr/kV2SSo5RB40qhichruFufh206Y6FYYJ6FbxnuG69A9IZIW6Ss0EklKI5EqI5UpIZdqKwuRBrS/kfX0bUVChBFkGkmRpuJqjwtYUBQaejEeXnenw2HkH7Ty3YoVvGJSq+7qin5ThIodKzd1L7v/kPr9qpOdApSdv91zIVQpIlQqI1WqkyeVQZuXVAp3vFNznj0c5ryOev8LrWi20BHlC359or09VUkiqBGYoiawFuk4zv8CAvcnovY1sdBrw0/6FNNVjyJWZzO6ptX3W2jTJQ1133vTnsOnb5IEnkarESM1VICy/CNPPpKLLjtvov/8+ui66DIueX2Ot7xEEnz6GmZ+OgpNFWywc44Ywn49xbdcQxPv3x6F1HrC3b4nNW9fh919+Q8nTssaHl3DARCopgRlFlX/zzTcs4p1UVkrMJkbXGKDjAI5Tb7lrN3WsrK5ExXNK7i/Di+eVeFD2BOuOHkInLrxkmwyf+hfi9M1fkCZ+CoVUw9KUKFCYmuPU9FSVZtR4LDlP5etGMSs6SYUnGxapJA0iaQquKyUIyczB1LAUuO6XofdeLdCNmHMIcfEaKDLkkGSkQCxOhlicygpZ0jXp+q/7++98rOb6ImRI05EhTdOO6YnIzVbjax+fvwDd8uDHuCL6BekZ+awgpkSchrSMdCSLpUjNkLBcVy6pn7yonHAe1qaNWo+tOD0VGenJiBcl4IJKAt9ECTxOUjs+kRboBm/BMm8+KzTAQllY0yMRq6xCXsBGzxP11iWvcY004bv6z47uOqlSKRIpy0Omgte3y9GfwkvWj8GDoIGoDGqHl6cN8KIBeX7aANXB71/ob78MNsDzYAOUCowRG9gDvYe1QqfP5mDQnkQM2JaFsdtzEJr8BxKkxUgXKyASi1iJMBEFdetJ7Zzpz9/bbXNOqlSJCPFqBYI1RZgcnYYuO5Iw8MAjuC26BHP3pVi78Sjmz5wBJ5NWWDTaFee2f4qb2zwQu7UjEvY54Yd1PdHRviW2bF2HX3/9Dc+elaO6+gULK+EI1CtVVwIhUlmJzdFDu3r1anz++ecs8JLY3FdffcXSeSgokwMw7qINjXSO/nlNBTk6/5VAt3QDXPbegss2GSYHFCEi5b+QlfsS+dl3kZebi9xcDWOkVDJbQ2Wd9eLPGrNN8WqU4/cqyc5WIitXieQ7GkQV3cesMxJ0PShnQNdlbhRGzz+G1LQiFFBX9xw1cnNVyM3NZL+LfltObjay6Te+N+GunwVNDsXbqdmYnSXHowdFWLNzF8w8x9X0jCBG5yUsx231f0OV+RC5mmxkZ1OsWSYUmhyoNDnIzNKwFCtKs+KEclhpm54JEgrI5UbafpNoVApoMhXIyJIirjAHuyXZ8AxKROcdafDYoWV0KzeFI1PziN3PHDaXmcjJzWJzx8UR0j1+vdBzkA1NTo5u1D4Xr/9OQ9eka+RBnZcPcSaVDC/ExmUrMdjaEJc2fYySsFH4WWiFP8IN8Ue4cY38HmGC3yKM8XukCX6PpNFIN9J288u/Ijvgv6KM8FukMarOdkR6xFD0G9EanWfNgqf/bXhsy8THO/JxQf1vSHJKocm9g9zcLOTkZuqeSe75ad5nlJ59kqy8bEiLihB9rwzTz0nRZbsW6LovvQxz98Xo1WcC3GyssXBkZ5zZ9BFidw5E3DYX3NzeEdf8u+HA+r4M6DZvXYuff/0NT56Vo5IBXfXrva4MVCormV2OgI48rZQruGXLFhYFTyBHoEfeV0LlN3lc6Xp0HXrQKdmbUjdIKGK9KcIT8BAiCGW5n0J+KI6HBGLCd1/CYZEXA7puu1SYuO8O/EIKIIxMxbnoK/jx7FlWYPHs2TPMmBl9NgpRZ6NA45tE/7wzZ6NQX86eicLZH6Nx5kwYIs8KcfLiGey4EY9Pgm/Bdb+UAZ3z52cweNpeBAXH4EL0efwYHY6zZ8Nw5mwEzpyNZNfkfof+3+P2Ne8YieizEYg8E87kTJQQ165cwMxvvoGhxyh0WnWSNcchoFt8+A6ORuUiLPwaosKjEBkZxmKXBFFnIIyMRkRkJCIbECrH9LYSFS5EdKQQwVE8HLgYjUXhF9H78DWmug7YkQ/j4Tsx+8v9CAu/yrIuaN6jz4Qj6gz9T5GIiI5opNC5UXrSlO/S3whnfycqKhpRkecQFn0ewZFnEHH2POZ/Nhu9Ldvj8JIhuLVjINJ2WiFjtyFEu40h2m2kG2nbGOm0f68R0vZ0eE9iyK4r2t0OGXvaI21XeyT52yFwc0+49GkLpzkL4OEfiz471Ri6JQe+EU9xMloO3pl4CM5cheBMDHhnbrw3EZy5ARL6GyfOxWPTFRk+DhXBaZsI/fc+QvelMfig4zRYm7lh0WgPRHmPQeLu3kjys0Hydgvc2G6OKwFdEbCuDzrZtcRWHdA9elaOiucvUFH5BqDTZ2QEUqWlpSx+jio/UG4ZJUnPnz+fpfxQaggxP322pv992uauQVHMn332GSZNmgQqvU0jlfZ5k0zSnTNx0kRMmDwRn06agCmTPsXYSR+j03BP2C1YA6c9cXDfp0HP7+Jh6P4dDE17w8zYBibGxjAxMYKJiTFMzUxham7CckLNLEzRWKHcPhIL3Vj72QyUI2ti0h7tjVujpY05DNzc4fB9AKtH575LA6fPo9HWaS6MTdxgaWIBC9MOMDNrB1OzDjA1NWK5giZmxjD+W8QIxmaGTEwtjGFhZggrC2O0treHgftgOKw4XgN0naecQmvbT2Bs6gQTI2MYG7eHoYkh2pmYob2xKYyMaV9doTpvJJTzygnltr5ZzNk5lmYmMDc1RAdrE7SwNIbB0PFw3BoGN38ZBu68A6NhO2BoNxompl3Y9c3NDWFmbgRTc+38GZnS//d3zKX275iZWsDcxBaGxlYwtrFDBwtLlidrZ9oeLoYtWC5qbyMDNCS9DA3Q08gA7kYG6GFogO4d3r+4tzeAWzsD2BsaoI1FB3SZswx99sXCfYcUAzeK0ar7EhhbuMPK1Bw2Zq1hbdYKVmbt3ptYm7WDjVk7WJu3QQezNjBwdUPHlXvQ01+MAfuewnVhDFrbT8Xs8ZNxdvMMJO4ajCQ/ByRuMUHCdhPc2G6CqwFOOLCuF7rYtYTfVi/G6B6VNAHoOFWTmBiB1c8//8wAjd7iVO2BhBKmyVZCQEisriGwI5DjrkWJ3pTvSIUat23bxkZycLxJ/Lb6sXO2+G3Bpm2bsXmLL/y2bMK6Ld74cP5sBnSkuhKjG+6rwBe+N7He5yR8N26D98aN8PbZwNjn+o3r4bXBi8m6jevQWFm/cR2r2kDl1huS9etWYc2Glfhy0wZM3bUPg/f/qHVG7M5mQOc2ciOWLdsFby9vbFy3Ghs2rMT6DZQLuJblA67T/Sbut71uXLt+Ld5e1mDt+tVM1m1cC681y7Ftqw+GTJqMtv2Gw3HVCTj5y9Bruwofb0jE4vURWOO1E+vXesHLaxXWrFuDles2YJXXeqz1on0NC1UYfhvZ6LUGG9atxgrv1Zi3eT0+2v0DY3TOLAUsH4ZDt2P0VG9s2nwAPr4+2LhxLTZsXIv19L9sWAOvDTR6vcP8NHZu6W95YcO6DfDx8sWGDZuxdqMvVvn6YNSkCTCztsai+QuwzccXm9avxeZ6Qvt8N6yFz/rV8Fm/Ct7rVsB73cr3JhvXrWR/x3ft9/DbQDmqy2DdozccZq7EgIDb6L81DVN8kvHlt3uwdfEE7F3cDf5LLLFviQX2LrHTE3vsXeLwGqHjdD53Xt3P+5bYw3+JXY0cWGwHkr1LbOD9jSNmeY3EkD3r0Gv/ZQw8/AA9llyDZec52DB3DhJ3jEPaJkekbzZGmp8REraZMUZ3dZ8zDnn1hrNtS2zbolVd3wroOHZGgPX8+XOUlJTg7t27uHPnDh4+fMiYXkMAp/89Os6ljdF3qTYYfb8pUlBQgPyCO8grzEd+fg6KCvOhyFXjq11+sF+4Fq7+t+G8TYZph+7jR8n/wp27v+HB3ae4f+8e7t0rxN27RSgsKkQ+fb+JQj0bqLbWq6SoKBd37uZAfL8A5x8+xeyzUrgeIGdELpznn8G4BSeQIb6PotxCFORpUHAnC3fuZOPOnVxW2yu/IA95TZDcO7kgacp3tOfSd3KY5N7JRl6OCqXPHmK5nx9MBo1G59W1qit5XZM0/0ZO7lPkZecgJycTmdlZUGbnQp2diyyy22k0rLYc2eaaQ3I1mcw5IslW4Pa9fOyR5mBIcDKcd2dg4K4CtPfcirV+USgsqgBpF4WFOSgozMWdwtr/S/v/vc3cNOUe5COv4A4KCgpx704R7hUVIy+/EHfu3cOWPTthamuPYEE08goeISv7LrJz7jUomty7yMwp/FtEk3cX6qwc3Lt3DwkZaXChas/Tl2NwQBJGbE3Fog3XcSvyLJ6d/QY/nRuKny4446cLXfDiQje8uNADLy50b1B+uuje4H46n46RvOTG893xE5MebPztXDf8ds4N1RddUXyjP84nzcGc8O/htvck+h7MQ/fFMbDsOBMbP5uGJL8Pke5rh7QtxkjxM8Gtbda4sc0KN/xdGNARo6tRXZvC6Dig4kYCOhJieBQ8TAzvp59+anTICIEdfZe+x32XrtMoefESP738CS9/eonnP7/Ei5+e4/dff0bJi3JsPHEETt/4wHXfbeaMIBvdiZjnSEi5j/RkGdJSUlgDnNTUFKSmpSI1PRWpoqYJtRikzmGvEpEoCakZiYiRpSNIqcH0iHR0PaB1RpDq+tG8H3D1mgKi5HSkpyQgPf020tITkZaWjLS0FFaQkMqmN0bot9N53P/QmO/UnpOMlPSkGklLvsWM/195e+uALhBO/nKQje77Uw9wPuk5kpKzkJKYhKSkW7idlIC45FTcSkpBAu1LTGRVQKgSyLtJEvt+SuJtpCTfwvWUWERLU+F9K6MmvGSwDui+WhuE5JQsJKekID09Cemi5BpJEyUjlUnt/HDz1LxjGlJFlNebBqkoBQqqnJuWBrlUivUbN8LSxg7+h47hVooE8clSxCfLEZ+sqCO3UpSIS5bjZrL0b5H4VDliE9KRJpbjzNUYdPIcBqvpK+Dhn8yAbumGK7h85CCKj36EihOmKA9sgbJAg1o5ZYCyBqT0pAFeJSWBBngWaAAaGzqn6qQBSJ6eMkCu0ADCH93xWeh09DhwCH0PadBjUQzsHOZg0+ypSPAbgMRN5kj0M0TiDmPc2mmBm9uNEetvj8Ne3ZnqunXruqarrhzA1R/12RsBX/3jr/vMgSWd09Tv0ncojq60shylpc9QVVGG4pKH2HjyCJy+8obLvlqvK+/WH5AoyqFW5EKlpIojVFdLCZVaxaouKDMV2pGqkbxOWOUS+p6SVSSm6iUNSVamHEqNDAk5akTk3/2L13XMF8eQkJiHLEUmMpUSqFXUWJkaZGtj8t4UR0e/keLm9H/r28bRKdRS1IgsHcV38/H9li0M6LqsqQU66hlxQ/ov1p9BKaWyVFRYQIJ0mQIZMgUkUtlbxcq9Lr6Oi6NLlmvj6PxSlRhESf07RTWM7ruNPMjkRaw5jlpNPSnk4EaVWgYl3YvG3t/X3fuGjtVcV1sBhWoWkpc4lyrHKBTIp1jTzb6wsbXE8ZNHQEHZXDEBCSX/1xMxxSXKxH+LUFkkkTgFWRo5rt6+gc5DP4TFjJXotz8VQ/zS8YX3DVw5zcP9kHmo4ki2decAACAASURBVPdkPS0qBcaoENroxBoVYZaoCLNAhdASFUJr7RhmgXIBiSXKBdY6oW1zlIdZskbdbBSYo0xghRK+DUr4tmws59migmeDJ3wT5J+xRuSVkZjNW4ge/sfR72Ae3BddY0DnPWcabvp5IHaLFeJ2mODWTiPc2mmM2O1tELfPAofXuuqAbn3zAB0HVNz4OlB71THuu28zUnhJeXUFyvXj6I4dQpevvdE1IAEu27XhJaHxv0MsL4VSlg2FTFvunKqXkOPk7YS7Rm1DDy6qm0b9pH7KjJgZnfGX8JL4W9lQShR1uoBRr1mqiEKVSLjIc27URqBrI/i5Qo91iz9y6Uv18zZfl9JEVU2oSotWKDPibgEFDG+uA3Rko6M4upiMX5EhKYBERAn4qY2Ko+Pi6Zo2akuqSzJqk/opM2JLsrwu0A3xAwGdVFbIQJbAl7sPXOGFpoxceSdq2qKdW21BzfrzXP+zTFd4k75HNduyKBhdJoNGnYktmzbB1sYax48dZRV1ifWJxekNCtVFFP0tQvGT1OMjCZkqGWLirtcAXd+AZHj6pTGguxQYgnun56IixF1Xit1Q1xtW2yeWmuywnhQ8S1TwHBhIabMvuGICVGlFvwuZKcr4JigTdEC5sD2qIixRHdUF1VFOqI7qhJ8iHfFTZEdUnLFF4SVn/Bj7Kebyl6L7vmPoeygH7jpGt3HOdFzfNhCxW20Ru8MMcTuMGeDFbm+PuH1WekBHNrpf8KikTOd1rQLlu1ZVVL4+M+JVYPU/tZ9lRuiA7nk1BQw/ZgHDnb/ciK7+fwU6lZzKNHFFMt8v0EmVIsRlydEQ0H30+REwoBMrIJekQy5L0yZN/z8GdE5rg+AcoGTOiPpAl5HxNwCdKE1bpkmagktZrwc6SgHTBzr2wqH6aE2QtwU6DvgUlCmgULCwKXqBUswgOelsbW1ZTjgVOSDAf9tiB831PaodSNdKT01BplKBy7FaoLOcvgL9/ZMxdGsaFnrfwOVAHoqD5qMytLcO6NqjXGCmY2zmqBCYMqZXxbdFNa8znvNtUM0zZMJ6VfC09fCqeMao4ndAJb8dKgTtUC5ojTJBG5TwjfGMZ4NnPDs841mjPNQK5aGWeCQwQ2Z0Rwguj8PM0CXo7n9CB3RXYOcwC95zpiN22xDEb3FA3HYLxG83Y2PsdhPE7bXD4bVddYxujQ7oSlHxvBoVlVSm6f9noKsoxfPqCgZ0VHiTAR1jdHJM8i9EHUb3GqCjh5QeUP0UpvqftcekderRcSyCG9/E6N4V6Ejl4SpucIuMRqlcpu1SpVOJuHNqx/rJ6q9hdAM/gtOaUzqgU2L56bqM7nVAxy1oqjVHweX6bK6hDAn9xa89V8foOKCTJONNjE4LdFQzTQy5QqItaf8akCMzAd0v/ZqCHNBRnUL9OebmT3+uG9rWBzp6TihOlDKG3hXoaE64eeTArv6c1T/OndfQqC2pJakBupi4m+g8dAQsp6+qB3R8FActQHVob1YeqpLfFpUCqolnxuriURECKiD6gmeLlzw7vOAZ4gW/BZ7zWzGwe84zwUu+KV7w2qOa/wGq+K1QzmuDcoEhyoWmKOVb4mmoFZ6GWrORqiuTPOIZIyfaGuGXRmBOyAK416iuV7Wq6+wZdYAubocZYndY4MY2I8Tusf3PBDrKjGgM0BHIcUBH9fW4KricaksPLm3TfupQzlUXlun1h9UHuvfJ6Ki5srYqLlVy1apZ3Ei5h3Sc1Ftugb66Gsf7AzoKHCf7Gwd6+ouVO6Z/XH9BNlSm6X0AHbE9dabWzkrbNfePVNBM7RzTPJO8ylygD3jNDXQ0TzQvNNLzx33m5lR/pOPcfOrPZUPb9RldfaAb5peORT43EXNKgAenF/4F6ChHlooCUEXkSgEn5qgKM0J1RFtUh2nr4r0QmuInoTlehlvgeaQVqiIdUBXphMowZ1QIuqCUb49nPEs841kxRlcWasPKvz/lG6Mg2gLRl4ZhXsjn6Ol/jNnoei6KgQMxulnTGNDd8tMyOg7obvoZIW6PLX5Y66ZjdJzq+h/A6JoCdARi9GBQz0/K26WmypQFwj1o9DDRPqFQyJp73LoVx/JdOVZQs1CoEmszq65kqyPAooUVf/s2zl+8iJvxcRBJxJApyZmiZkLVci9fjcH5SxeZJ5CO/d1AR+yC5on6u168eJGxEdpHc0ljTEwMayDN4/EQGxvL5pzmnVvItBAJGCXvmdGRTYyaL5NQjjF3H4nRJSQnITwqEkeOH8O5C+dZQxwugV0f3PS3mxvoOHCjzmSUQXT16lU2L1xlZmrmQ/NE8ag0zyS0j+ZRn/HVB7u3AbpqgTGqBO10jI4abpujSmiOklAjPORZoFjoCOkhY6Tta4s7gWYoD7NBebgt7gdbQhpgBOkBe8gPOkGx3wnZBzrjyamuKOd1QinPCqU8S5SGWqOCiSWe8Q2RH2WOqEvDMCfkc7j7H0W/QznouejKP0D3KtW1MUDHMTmyqVBzjYkTJ6JPnz6sIktycjJ7cOgcoTAMY8eOY93lHTraY+bMaYiJucwWCNfTlcCOVNfmBroMiYj1i7hy9SrGjh8P125u2ODtjeTUVFZB4vrNG6yZy5hxY+Hk6oLpn83E5ZgYHbOrr7Jy5XOal9GJdGoqhZZQcxwnJyeW8XLz5k0GcrT4qL1h//79WfMS6r41atQo1kCHW7S0KP8OoCMmd+CAP9zdu2PQIA9QH9+MjHTG1E8FnWKdwKgDmLGZKRy7dMaKVauQmJLMXjSk1uoDHLfd3EBHc0FNgyi9kuaSaj4mJSXVgB0dJxa3fft21m1txIgRDBCbA+jIRscxuuchvfGCb4xqAamuxjoPrCmqw9qjXNgWT350Qoy/LeZ6tMSnbgY4t8ERj3i98DSqD676GWKeewuMsTbAJxYGmGBoAC93A2h2dkQV35UBXRnf6i9AR4wu6vJQzAmdix7+RxjQ9Vp4BY72s+DzD6OjUup1bXSNATp6c5I9hR4aiu63trZmqUuU2paamsoS02/cuMFS06hF3pKlizFlyiTY2lpj9eoVLH6KgI4DuzcBHSX113pd3+yM4CpxEKtb4+UFC0tLdDA2wvKVK5CclsoS0U+eOoVeffvAoZMjOzZl2lQQKGpV2L8H6Ihp0CI7duwYunbtig8++IA1r7527RpT+6mHKu13c3NjFakXL17MWh9S+h+xFVq4WlvT+2V0BHLUp3foUE+0bt0azi5dWM9R7v59v+w79O7bB99+/z28fX0xYOBAWNva4kRgIGPPxJplOpMBB3I0NhfQ0XNI80DPJHVJI5Br1aoVpk2bxtgbzTE9l6SBUGbS4MGD2fG+ffuynF96npuD0V0NEuLh6YV4HtIHL/imqBa003pZ+Vqwex5uhIoIU2Tzu2HZpA/Q1cgA/awMEL7WEw9DR+PhmfHge3fEUNuW+KxfO2yd7gz/qSaIXNQORQedUMnvwpr4UCOf+oxOC3RaRtdDx+j+AbrXOCNeB3QckyPbG1XZoIdm2LBhcHBwYA8XFRUldkL9QE+cOIHu3btjwYIFUCjkILX1o9EjMXLkcFy6dJ6xOv0G1q9jdAR0t27nQCVRNiq8hNgc9TG4dOUShnw4DHYODrDv2JG14qPO8dTJKiUtDRcvX0ZQcDA8hw7FZ7Nn40ZsLGN7tCgbLpD47owuRSJDaoYUZFejBUqMY/r06aBG1dQ7lVgGvSRoDk+fPs2O/fDDDyxzghYygZyHhweb+/cNdJxpgeLdKHWvU+eOcHLujG7dujJThFwuYYzu6rUYXLpyGXl37iC/sABr1nkxoNvr78+cFO8T6DiAorkktX78+PFsLunlO2fOnBpGR2BHzy8V1CAgJIcH9ccl9ZWOEVDSfDYkb1JdP9wmwmLfWFw7HYZHwYvwPKQ/XvIs8RPfEC94Rsy58FJopG2Efa4bQr0s4enSAj07GcGjiyNCV0/EA94UFJ2fhX0beqGP0wdYNX8xLv2wF8lHvsGDsNmoihiCSn5nbc9ZHoWdWKGSZwVqz1gqMEQhs9HpGF3AP4wOZRRe8pZARwBHDxQtOHpD0huTwIyKC7i7uzP1i2xN1Kx3586djI1Qr1JqApOamoz5X8xD//59cfLkcab2MLWVPH1vUF31gU4pz4BCQY1HyEb01zg6AjlidBRf9dnsmXDr3g1fLFrI1NPlK1ciNT0NEjJUy2XIzs3FjdibDOgmT52K6zdvMkO6TPn+gI7q0VG7Qw7oduzYgc6dO7M5JIYxfPhwZpOj+aWXBqlixPxoAXJsZcKECaxoK2fDa27VlQM4cjgQyFFf0V693TF06GDMmzeHAV1YuIDNP9ntsjSZSEtPx7oNG/DplMlw6eqKvgP6M1sd2elovmXkoVfWleZgdARQJGRGIe2CiiLMmjWLqftTpkxh9mOaP2JtZCsmgJs6dSroGM03mV4I6DjAfBugI2cEAR1jdHpA9wvPEL+EGOHn0DagRj2lkZ0hPtYD0/t+gGFuBvjikwEYbNsa/OWeeCT8GLnRYxCwviNcLVuii2E79DRtiaEWBtj6SSvkHh+AciHZ6UxA8XhlfAsGctU8M5Ty26Ew2gzRl4YyG90/jI6a47wj0HE0nxoqk1q6dOlSVpygX79+LBGdHirKxeXsIFSairyuZM9ZuHA+Bnj0Q+CpE28NdAqp6PVAJ81gPUWpKbVj504M5EL5fLj36omVq1dpiyBKKEtByuqpEdAR65sybRpuxsUhU6Nh6tb7ZHQpGRIGdJcuXmQMbuDAgSA1ldjImDFjQMZ0bgFzHm0q8+Xi4sLUWGogTfP8voCOCyXhxqVLF8PFxQlBQYHw9fVGVzcXXLh4jmXMkEOCAIscPsSKrWxs0LptW4wZNw6XrlxhIKdldHVB7l1VVwIneunSSC9g0i5IzacXBQHakCFDMGPGDMbyCMTIpkkAZ2dnx4rgUjsDsitTEVz6fvMAnQAPgxeAbHQUJvIzvz1ekq2O3walgg4oiBiAPUs7w92yJdYtnYZdy7/A2E5tELl6KB6Ff4LiKA9c3NUBCwYbYMnwdvCe3R2fe7bCIEMDHF1giQe8PqjkU49ZYodmqKbuZDwjlAraID/aFFGX/1FdWapZTcDwWzI6ov4k5GGlBUlvT6L/Y8eOZerruHHj2ENEb1cCuq5d3bB58xZkiEU1jG7IkEEQCEIhkRBgaUMU3sToKAWMqa5SFZSy1wMdAdSthHh8PGE8TM1NMWzEcEyaMgVWtjYYPnIkq6FGqiuxDGIbZJcb5DkYn06ehCvXrupA7j3a6ERiENBJZTJWEcbGxgY9evRg7JhUKldXV1ZunxYmLUACtA0bNrD57datGw4ePMjYNC3MWmleGx2FAhGAEZsjcHNwsIO9vS0+/3wuMz2Ymhnjq6+XgjrMk/mBSuyTuk9ebZ5AgHlfzIedgz02+vggnbzwFMrRzDY6AjgSeh7ppbBw4UK0b9+egdfMmTMZSyYgO378ODuH5o2cOfRynjt3LgYNGsQ+U5UYmmO6Fl3nXRhdTBAPD0Pm4WVId/zM1NY2zOv6TNAOT6Itcc3fEWO6tURnEwNM/sgDkz37YbD5B/Ad74js4xPwJHwQikKsoTxqAfmJXig4Nw+3A2djonNrrBtjhKLQESinOLwwbSYFF1hcEtYGedGmiLz8oS6O7gQLL+m1MOYfZ0RTva7E5OhhIBC7cOECCNTINke2JXpLGhoasoeMmAn1x6C+GLSAqeMZlWGPi4vFqFEj2EIhVYjKszcW6MYuOI7bCblQvwHoSGWlRjyXrlzER2NGwdbBjrE6B0dHGJkYo0//fggKCWZhJRTrVXj3LuJu38KIUaMwbeYMFiJBNiZSXelaf2V1726jSxaJmepKDay/+upLdOrUiS0+Gi0sLGBvb88aKJHqGh8fj+XLl7N9I0eOZEVWaf45EwItSi3YNR/QkdpKTI5eRFkaNXbt3oGuXV0Y0Dk7d4G9gy0Mjdpj3LgxuHYthtnoZHIZY8cFRUV4/PQpIqOjYe/YEQuXLGYMmotPbE7VVZ/NkYpPdRpp7kgcHR2Zg4xGMqGQE4JKmdFzSkDHzXXbtm0Z6JGdlK73KqDj4hRrMyMo17U2YHiYXwYW+8YjJigUD0M+w8vQrozNvRC0QZnQBA8E7fDgRxv8uNMOo91bopOlAbq6dIKzvTO6m9lhXu/OEO+bg4f8cSgIcsR9YUc8OuuOO9HjkXJqLmb0aI2VI+2Qd/pjlAlsUC2kVDIzVPA7sIyJx2EtkXPGBBFvDXT/gZkRr3NG0MNAqhQtQgI7ilUi1ZTejkZGRvjwww8RFRXFDOecqkAP1vwv5uPTTyegUycHrF6zssbr2lhnBDG6xgAdeVmp4S9V2qCKuYIwAXw3b8bI0R+hg5EhBnl6IpgXCrlKiZhr11i4ycxZs5izwtnVFbPmzMEGH29cu3kdUrmU5dDWBbtmADquZ0S6iDFjUrlILSW7GxnQSSgNiljGihUrWEFNeokQ0JEhffbs2cwWSioXqa7vC+joRSRXSJGQcAsXL55nXtavv/4SvXq5s0Ksc+fORkpKEvPGzp4zG4uWLsHmrVvZ/FHIjrmlJTZt2QJy/rwPGx29dDlwopGeR5rLAwcOsJcwzRmx4yNHjjBGR7GI0dHRbK6J0RF7puKm5EBrfkbnjp95xqyhNoWXlIQZ4lGUJTSC7rjs3x/B+6bhqyVj0a9XV9i26YClw9whO7gA8mPjsX58K3w1xAB75xvg8NcdsXykEcaYtUDQogG4z5uAinAXVAltWOAxZUw8FbbBg8gPkHlWC3Tzgheh575A9DtYgF4Lr76W0d3Y2gFxe6zxQ01S/39QCtirgI4YHcfqiFEQa8vNzQV5BGkRklOCbEwhISGMcVB9NQJCclTY2dnCyakzFi76AldiLoGyI+pE1r/BGdFYoNMHJQ3rb6HBwcOHGGPr2r0bhg7/ECdOBUKVlYmwiAh8NGYMHDt3hqubG3NauHTtitFjx+DchQvMeP5X72vjgK7ndiW+p+Y4ekn9f0kBSxdBqVQwx82lS5eYKYDmsHfv3iwekVgKheuQ+kX7KcSEbHTkuBg9ejQzojcV6DoM8cOyDTzIZIV4UwoYsTpSX1UqBe7dK4JYLMLixQvRvbsbunfviunTpyI+Pha3b8djzpzZjDlb2lgzgOvi7MxCTcjmSc1g3kccHQE8gR2NBHSkwpKnmoKqyaxCc0V2Y1JZ6TwSqsFHzrJ58+Yx5xnNKYXsUAAxPdt0rYZUV2J07G+lpepyXeszOs4ZUddG98v/be+7w6I417fXGivNligKAiIi2KLYaNYYNYmJSUyMxjSNsWvE3ugqzQaKIoIlXZPYK21hF5Ze1RRjAXaXZkFPcnJ+57u/6353B1dEBcWck5P88VzvlHdnZ2dn7nnq/UQ0F4B3M9oE2j1GKNzbCb980Rc5X4/F0mnt4NqjAQZ3kWGmsxGUG0cjY8cIrH+vMcbayTCwnQyDTGV44VkZ1o15DrmbXoI6eiS0ex2h3W2J0oiOQqu7GtkMP+9tgvQDJog+6IxJO6bB3je0RqA7ISojTHBirRGOs951VTOc8DJFwFxzWDzbAKtWzf3r1Lo+COgk9hKaATSfeGPxBuPbkJURTIlgoivVfwIhhXN5Y0VHR+HLLz8XfHR8cPgQPU2gkyKvckUiTp89g+8OHxa+OPrjmFZC31x8ohwnT58WUVc+kAxKfHfksAhIxCcm1GC2Mmm4dkDXc83Da11jEpKgTE5GolwuOOkYWaWGRq2D+XFc5wNHsOM2Sai1MB2CPlJq1Y8yXZcbsJeQj66V0yrM+nQXUhTnkaJIhkophyo5ESn6sjz+J5JI/xFNWEa3CXTHjh3GwUNf4/CR73D6zEnhfiAYxsXH4cuvvkToju0id+7AF5+L60vNWcFIvUjX0Y2G5uuTRl0JTrzPeA9K10K6loymso8yzX+ClARgnMvrxyoUjrx3+cIwnCPNlUZDoMtIU+HgsQcBXSQu7ZiK0vA+KI/QpZfcjDDC9YhWuL7HGNqI1ri62wwXIjpCvsUcZwLscDbgeSiCeuHHnb3xY3Rf5Ox1wqmQwYhePgT7l7jglNdI5IW9gMu7nXE54nmo9zmhKMIa2oj2UEdQW2yOS/ueQdp+E0QddNEDHTW6XOjy6CZgycSXqpWAGQsWkyOrW4pa1+BFPdHluYZYuYo0TTdx+VoRtGU6ZnRR1K+tI3sJuegk+U8wmDx5MEIHUHwY+CDQaZ2RkYasrAzR4YvLaWkMWNylYyKwpaWnikioKl2FZH0/WJqYUmNrpowoUxJwIj0Ze7IKMHGfHN02JMPROxvsAlZbjc6Qokn6ntSMVLC7VXpmmjgH8tBR8+P3V+3LSkdaJrt06eYoVfUbjFCQponko/J4xOhNV/ro5IlyxMuZDqMQ4KvS9+nkw8sHjy8S6YXBlwZfLhRJszZ8ELmsqEbT9CCgUynOgxx5qcpEqFiZkqz7v/h/SNeG14cirZPLT3RzM+gCx2sp3AXkBcxKgyozDSkZqUhOV0GRqgQ53BJJoaVS3Cv672HpGH8P05X4mzjWpahfukb87fw8RToeR14z6VpxrjSH2yXhPOk6PmjkZykJcbF4GNB9G7YbP4e/A+3OXqJ4v2x3K30/WBb2M2m4JUqjWkOzxwjqvW2h3tcJRdEWKNrbGVcjn8XlPc/h58jOuBTdEz9H9ccvUf1RFN0Xl3faQrPPATePvojCgy/i/E5rFEaZoiiyKYqim+Ly3ibIEMGIoZgU/o6u1jUgEz2nfgHzjmPhMXE8jqweiuOruohi/qNrjfHtahMc8noOkSu6YoJLC7QxbozlK1ai4sZ1XC3SAR3ZSyScemC7Q2mCNEoAJ40P6hEhzX8a45MCnU6ruwtidFzTl8O3PTnDDOsfuY9ve6nvKp37fCgIItJD9LSAjt8jmbEipy5J12OTnGLSPo7U/KrzmRnOkY5xd6ylRrdahdnbL+P7hFtISiyAMj4RSQZAx6hrHOtY5fz+RDFS04yJjRXaiWRCcaTmJgm1ES5Ta6YWIj2YkrO8Cuj0NE3Vga610yrMWbQLqYrzSK0F0N393Qpx3XhtpOvFZWk/l+OS4hGvkFcJCTHvAzgJ8OoJ6Pj7JRCSRm7j9ZGk+hxpv+G15LaHiXTsRwNdBH4O19E0sbZVE9kCRZGtURxljKJIYxRHkrLJFOoIYxTtbIWi8GYoDG+Ka7uaoXB3K6gjW0O9qyXUO5tBvbMJ1OENRBnZpbCWqPjWCUd8bXF862jkfD4cP0aZ48qeFgLorlKjizbBXmp0AuhY65qBnlP3w7zjaCyZOAbHVg/GyZWdhMn6/RoTHPTqhD2rbTFhSEOYm8rQqpkx1qzxw507d3D12lWh0dUJ6EiQSdDiSCp0Sdg/gsvS/qcBbNWP+TSAjoD2KBGAZgBwkqbwNIGOQCaBmvRAPvlY/0AngR0BTwKshz10Ne2TPld3oLvXdOX1EVqYBEhPa6wnoJMA6HHGmq7jg7ZJx68t0Gl2OUAdaQq1HugIckWRpiiONENxhEmtRRPRGhV72+LHUBPcODECC8c1xoQhzyDps49w5bsJ+CHCCkXRZig+0AppkUbYe9ANb4RPQw+/LegdkIWeUz+HeccxWDLxBRxf44STq57TNcTxMse2hR3x2qAGsDKTYXDfrjAxMcXadd747bffcPXqVdHfxhA/HqnREcioxf3yyy+isQab27DBxk8//SQOyH0SEBoe+Gks/xmBznLSfgybXLv0EgncDMcnBzepoL8OPro6aHR/A92Tma4SCNV1fBCo1bSdx6YbISFeZ7p+c5TEm4bpJbpgxLdhOo2u/oCuFSr2muGH7SYoPTEKn0wwxTNNGuAVtx44HjwNF3aPxrUIC2j3tUVWpCn2f+OON8Lfh73/NgF0DlM/Q5eOo7F04kgcW90PR1d2wLfrnsP+dT0wYXBDmBvJMGXiOKxathTPduiAlStX4datW6JhF5UwQwyqEegk8OLIDxDk9uzZI3KiGOVhbhn7ujKtgFUEnCd9xvDg9b38ZwS6x/HR/Q10OobhR5uuf2t0NQFb9W3/OaDTaXQXw4xRemIEZoxvjaaNG8CyTUssfGkALux5F0URvaCOaoesPa2x/+BQvLnzXdj7bxamq8PUfejScSSWvDEK364egENru2P3cltMHNIQz7aQ4bWxrtgXGQU/n/Uix5C5ho8NdNTorl27Jqh1ZsyYAdY2MpmWwkgbtbtHNbCuL8B7KNDpqdQFw/DJO0hMLsb9VOp3yRYfZa4a7q+N6ZqskuNkDcGIP5tGxy5gPas0uptISsxDslwOhVwKRrAyIhFx8gThm3sSjU4yWRPliUiSJ0IpBSMMqNQHbD0Jq7UJGLDu0VHXv5LpSvCqDmgPWpeALjE+DpnpqTh45DAsBzqjrZ5huIp4Ux+M0OzspWt2E9lS+OgK9xijkFx0kW1QuNsMRRE0YR8trGktjW6DizuMoD3mjuXvdcUQp96Y9MpkfB++C5l7FuPn8MEojO6IjD0tsVfUuk6F/fpN6B2QBsepUbDoNAwLJ7riez8X7F5mj9cGN0TbpjKMHzMcYdt2YW/011i31k8A3YoVyx8f6KjRsZfrjh07RCkPwY3RpR9//LGqdSHB8GG+OkONT5r7OCOb42jKtNCWqFFRXopL6qtYuCkAnd/7VPR1tV6bDKaXRJz6BxQqDdJSckUXMEZZWeYjOoHpO28x6lpbUUkduPRdwRh9FV259KkmaakKqNKTcCZLhejcC3h9X2JV1FUCutNnc5GuvNsFLEXFXDxFVTqEFOCoPtat21eyOK/7P5Oi366s6gCWzO837AKmp1In0NmvShHBiCNJlVAq85CSKBe9HBi0iacJpFCI/DLmmFFYC0pJUjC48/jCLmDJigScVcbh26w0rIxNRf9tZ9DVMwlML2k9cLVIL0lNuYjU5BSkqpgnp4AqleVwOopXJAAAIABJREFUyUhOS4EyLfmpS3Ka7jrr7qm76UpMWzLsGSFFTB92TaRIal3Hhx3TcB9BTjp2YkIcsjLS8N3xY7BwGoo2L89C3/VnMWS1jmH4ux27cWnnZJTs7gVtVBtoo3W0TOpoU2ii2kIb1VbXBYydwB4qum5h2t3GKIsmfbopSg4NQNyul/HljuWY9pILAuZNQvymN/DTrv4o+qwzsj4zxf7vhuKt3e/B3p8+ugw4TtsLc3M3LHr7RUSvccebgxuhSysZJr44EDu2bkVE+G7sjdoHr7WeeK7Ds1i5YsXjAR01NWpj1OgIdDRbWUzMQvj58+eLnCnuexjI8fOSWcuxqKhIACfBs65yregarhZfw7Vrl6EuLsTFKz9hXtB6dHnvU9HusOsqBV70LUDYkRuISbiMpIRUkevFiCojgAmMEsrjai1yg7nx8jhQGLWrWpbHi2PJ488iLuEMDisTEJ6ahQlRcei2XinSSwh0rpOCcPhIKhJj5EiIPVOnvq7124+U/U51vV3j5DGQ+rp+uGQJjJ53hcW8UFj4KtFjRRI+3lKAr04X41xMKuLOnRNVBGdjzuE0WUliYnHm3DlRcnZKbIvB6djHlzOxMTgbEyO+41zcOXwffwb7UhRYeCoJvbadgIVnggC6Fs+vEECXEJuNRCbHys8hQR6DBHls1X/K/yZOHofYxKcnPL64F/j/6xN/pfxLDw8PwbkXEBAgCvFZnsUqm5pEikZzlKKohtsetCzN5TE5p6ZjG+6rOv7ZM0hRJuGzg1+jc/9BaPfyTAzwPw3XVXF4f/ERHNq0GT9uGYWSbW1Rtr0ByrbLULJdBu12GTT6URsqwyMlTDenJFSG8u0yFG+VoTzSBOdDrZG21RWHljpg/yxz/LS1P9ShXVAU8Qwy98iw/5AjJu9+Ew7+Qei7MRO9pn2G58xfwLsTJmLMwGfxbMsGmDDOFTvDQhGxay92hkdib1Q0vD0fE+gITgQvanMEJwIeNTmWSzFTe9u2bSLrnSU+TAolYBlqbdVNVWlfeXm5QNzKykrURW7r59+6fQs37tzEzZsV+PV2JYoqNPDYGgLLD3V9XQl01Oj2x/2K3IJb+OH8ZVy8cB4XLxbg/PnzOH++AOcv5NdZCi7kg5JfbTx/QXe8ixdzcf5iNhQ/FuDgpUJM+kwJG38FevnmoOvbBzBiyhYkJv2Mgux85OdkIC83DXl5mcjLy0Z+fi7yCurSJf5J5t7taH/+hzwU5GVCXXQZ8zy9YDxguAC6zt4K2C5PxLyIKziT8Tsysy+jIC8fufk5yMrLQUZOHjLz8pCRm4O0nCykVpM0bs/PhSovp9aSmpuD9LxcZOVkC+qpxJxMnPrxItYoctE3/CwsvORwWleA5n2W4NPVB1CQX4QfL14UrRovFOTgfEEuCgrykH8+D3l/oOSfz0dBQQEYoKOvmi99MiqTl48VDtxGyc/Pv0+kfY87kkqsNsLqn+ycHHEeF/Jy8csPF3E69hy6OA2G2bjpAuhcVskxzeMkju3eiytRb+HmXjvc2d8Sd/Y3R+U+U1Tua6uXNqjcZ1Zrub3fBJVCzHBzbwfcOmCLir29UPn5APz2lRNu7+mJ36PtcX1fJ/z4jTm+PjYCkyKk5jgFcJh2CGYdJ6BTh75oY2SCcS+MROiWLdgdsRu7du3GzvAIodF5ryPQtcfKupquEtARmCRt7cqVK+LPunTpkgA1UvFQq9u9e7eIwEpgVh3kpGMRNPmHswKBpVWSMAP8UfL5Z5+LOQc+P4B9X+zH/gP78OUXn2HXgT14Zd4n6DxtEbr6nIC9byaGLk3GxAXfYNa8ACyYuwTz5s7FvPlzMH/+PCELFszHwoV1kwUL52P+ovuF2xctWoCFC2Zj7vyP8d6ShRi32gtOvp/Bxi8JDp6ZsJy0D7ZuSzBrtjeWLFiChfNnYdHCWViwYA4WLJgrzuVBx6/pO59s2zzMXzQXCz7VjYsWzMbK5R7oN3IUmvYZii7zQtHZJxk26zIxaGkCxs3bgw8XemPW4mX42GMZpnssx0eLl2P64mX48NMleP/TJXhv8RJMW6wbuSzEYymmLam7fOCxBB9+uhjTPBZj4rLlGLJ2M+w2HkZ3n1QMXn0RbQZ5wXnUPMybvw6LFi3CwoW8hpLMw/wF8zBv4R8n8xfMFxxyZBDhs0CWFpYMktyApJksgWMt6ty5c+8Tzq9pe2238bi1kdmzZ4PC4y6aNwdLFs7DjDkzYdLdDu1e/QR9fE/D1ScTb3jEYebUT+E3qQe2vNUI2ybLEDpZhm1v35Wtk2XY8hjCz/E429+WYRfHN2UIe0OGyLdk2P2mDKFvy7Bumgyvz3oOA73egY3fPtiv/wU93j+NZ9q8iWbN+uHFsVOwafNOhO+KRsTuaOzevQc7d+zSAZ2XF559tj3q7KMjuEnAxXw5mpsEOIIVNTFGNthbgTcba0Ppr5PmVwc6HkvSDqOjowVjLxlpKSS+rIu89MpLGPfKeLz08jhMeHk8Rr38Irq4DEK7t2bD0vs4em3MQ88ZJ9HCahoaNO6Kxg1aoFHDhmjUuAEaNmyIhg0boFGjBmjYSFYnadBIBoqs+thQhgYNZJDJ9NKsCWTtO6HTRz6w9kuCvWcGLCbtQ1OLN/BMM0s0b9QcjRs0QCN+ruHdc6h+fGn9aYyyhjIIaSBDowYyNOC5t2yFBn2cYT4vFOY+Sth75aPdizvRqOVAtGnYBu0aNIZZw0YwbtgIrRo0hlHDxmjVoCFayGRCmutHrrds2AAtGzVCizpJQ7RoLEOrhvrjNdFf117OsF0Rjb6+aRiy6gLaDPZBY5NBaNy0vaBEb9xYdw0bceR/3LihfuTy05dGjRsKSvPGjRqL+4v052QUIf1XixYtBLW87r7jvXdXOI/CbdJyXUfD4z1quUED3f3frEljtGzaBM1atUADE1OYvzkfPX3PoK9XBtw/TUKzDsPQvlFjdGkgQ5dGMnRuJIP5UxAet0tDGawayGDdQAaLRjK05rPVQYY2Mz+Gpf9J2G8shN37p9Hi2akYMXIWQoK3I2KXTpPbvj1caHThO3Yhmj46L299MKKOPjpJiyN4Eeho4/v5+QkmhQMHDoBCpyv9dewP8CjTlQBJYc3jkiVLBKsF3zI0fWsrYv6cWZg1dxbmzPkE8+fOwYdzP0a/V1+C+bsLRTDCzicDw9dmYqavHJ6+e+HnHQhfb294ea8THGmenhzX1lnWea3F2hqE29etWwMvz1VY57USC/w8MTlwE4Zs/EqYrg5eWej61n7Yui/BipVb4bPGG15rV2Dd2mVY57kS69atFuciHd+T5/lUZS08vdfA23cdvHzXwt9nLbZsCoDLKxPQrI8zuswLQ1efFDivzsUbk7/HzCGLsKH/KGx5vh8CB/TCBqfeWO/UF/5OfbDeqRf8BjjAb4Aj/Ac4itHPyRG+jyUO8HWyh5+THbydumHF0G74wNUOoye9jqHrwvG8TzyGrMlD6wGr8cLrq+DtEwpfX194+6wRv8PTm7/raV+7+4/v5e0JErjSXCWdkqenp2i01Lp1a9Ejg9ul/VyWhNsonE/hZ5nNII1cfphI88iZyHkcaxJpn3Qsz9Wr4O/thVVrVqKDvQPaTpgJ+/Xn0HVNKnovzcRUnzh4rA7DmtXeWLNqJdauWoE1q1bXg6zCGh5r9RKsWb0Ia1YvFKPXqk/hu8oDnqsWYZnXckwJ2YreQV+gnec59AwuhvV7R2Bi/QHmfxqGyN0HELFzNyIiIrFzZ4QYDYGOvIh0rdUpvUTSygh0BCjW0/EPYf8E5s+RPeGjjz5CVFSU8FFwnvSZmkYCJ81gaob0SbBfQ10kPSMDaZkUfU1nagqyM9MRr0rEu6uXiQbW3fzPwM4nHePXX8SOY7egTNUiO70AGenpon5V15tV15+V9aysc62tpKapwFpJRlsNR24nuWNmejLSMpQ4m5OOvXkX8NreeAF0jt45sHr7M4ycshXHjmcgOUGJjFQlMtOVyMhIQXq67vNSLS1rV5+mpGWmQqlKQqIyHknJCUiSn8PF87mYtXo1jPu7o8v8UFj5JmPssnR4TvkeB0cuR4HrGPzi2g8X3R2QP9wROcP7IHd4b+SP6HWP5A13RC5lZC8h+aN648HSC/mjHJE/iqNuHj+XN9IRmaMcEDu2B6Jec8Ccj17F8LUB6Od7Ek7rctDcaTVmekQiJi5b3D+ZGSnIyFAhPTO1qtZXqvn9I8b0jHRxHtlZ2YL+i/WnfHGbmJgIxmU+N1LNqlSbKo3czjpgSaTIaF1Gw+jqw5al71DIE5CbmY7Dx47AehCjrh+j18ZzsFqrwvNr8xCa8H84l6qBUnURKapcveQjRSVJnsF2aX9txhykqLKRkpohaqJJlkBiijRVGjJVGUhVpUKenYM9uZcxZq8c7VedgmPQFVhP+wZtur+PBR6hiI76ogroaLYS8Ood6AhUNE95McmWwCYevHiXL18WJuuj6l4JhDwGpaKioiot5caNG7Vavn7jBiooN6+j/EYFykq1uHm9HJe11zA/eEOVj47pJQS6sKM3EZ90FcmJGVAk6upV2fdBJ6yxJBNr7YV9BaQaScORzMM8jiIpFomKGBxNkSMiPRsTomLvATpGXY+fyEBqUirSUxVIT2NTFh2xgMSywVy9+q2CuP94ySpy1CVCrohHolIHdFnpKfhwyVIYEegWbEdXHyUmLMvA5qlHEe+2GNcHueD3Qda4ObQTyp3NUercFWXOlih37oxyZ902bhf7hnREqbM5ylw7o8Kty0OE+81R7tYZZe5dUO5mgQo3S1Q4W6DUtSvOjzDH9+Mtsfi9MRixZiN6+Z1GH888NBu8Fp8siURsfLa+AF6O5BTyzpGOnJ267v/NT/Oasqifz4EqRSVqVglSzDU1NTUV1o8UDX1Q9FSKhjKKWluRPvOwYxru4zlIx449cwapiiR8feggLAcMRpuXPoKD/3HY+SgxyDcLwbF3cDjpF8Qk5SI+KV1IbFImYpOy9ZKJWEV63SVJ+kwaYhWpiFOoEJ+UgsQkFZISU5GYlIyzylSEJ1/AhH1KmK+ORZ/AYnR79zDMun2EBR7b7wE6gly9AZ2kpXEkkFGzo1ZGoKIYBioIYDVpcobbpDk8Xl1FzXPQaqEu0UBdohapJaVaNX4s/EUAncUHi2HlcxKMuhLodp/+FUkpuoThNMH0wJy5J8ujuz83jRTcOsomkUeXlojTWakij06n0SXB0ScLVm8fgPObgTh9JheZKRlIUejaHSoUOvogEgfUlJBcPZ+uftbJepJUlUuXmiJHXk46PvDwgNHz7rBYsB1Wviq8tDQTG6YcxelhHtAMccHtIdYC1LSu5ih2tYDatQu0Lp1Q4tIRJS7mVVLq2hkUztM8VDpDI47RWXxW69pJzC8VQGeFiyMscfyl7vB4/xUMWxuCnn7n0NuzAM8MWI05S/cIPjoCTEpKIpiPqKpFPmL9XL+7hA48XoqK56BjGaESwHNif1sCHVtAipSmB3DEMb9NSuR9mDb2oH3S52szSsdIjI9HdloqDh87DJvBQ9D2pQ/h4HMUduvi4eKjwrbYCpxUFECuYBMp8uTJq3IkRa6kktYA+5U8ruhyLpMULElLRDL7ZSRS4hCfnIBoVTbe3JcAi5Xn0C9Ai27vHodJtxmY77EDUXs+x67wXcI3R5Bj1JUa3d69+x/fR2cIUFwmMDHFhKYnQU8Sbq8+92muszJCw6RhbTGuV5ThF81VzA/aIBKGbfSVEeM3XMSuU/+AXFkIlTILqaL/JulvSNF0l6aJScSPEpXBnOoPigA+lS7p2BDo9uVdxERhut4FOtdJwTh1OhdpigwoExOQrJRAjgwpStF/geSO94uOdcOwJKwuywJADUkLqPnowYGjShGP/Kx0fLxsOYz7ucFifhisvVPwypJMBL9zDKeHL0HRUDfcGGKDChdzHYi5WULr1gVat44oceuIUldzlLt2QYWLBSpcLFHu0hVlLtYodbVFiWs3aF2tUeLKdYqV0NjEukt3VDh3x62htrjuYoUSaoAu1Oq64afhNjgxzh7L3nsVI9eFoJf/GfTxzkWzgasxe0kUkhLP60w+JTupJRkwKet6Oxjyx9Vu+UG0Vo/WEHlf0J3Bh5/a4/SPp8PE1EQAnUQsWlPFAgGK22sDVDXNqemY1bdJ30Gg430mFwnDKnx//DvYDBmEtuPeh4PXYditiYezlwpbz1bghDwf8YlKJCaSI0/Hk5eYWHcrqCaLiUxAFLk4bqyOlovVMPKziE+OQ3RaJibuOwfLNWfRL0ANq6mH0brbh5i7OAx7Ij/DrvCdIm1n1y7dyEAoA5z0d0o+ups3b4o0H8YWJCuSmFRjrevDwOqPBjfDczEsAasoY2XEFZEwzMqI6kAnlYA9LaCT3uiC147Z+Q/R6HRAl4d0ZSaUbKqjf0CVyqcDdArSSSl15pxhKZsw8fRAR00otRrQWc4LQzevFLy6JAshU07i5IgVuOQyEmUu9ihxs4TGrSvUbt1Q7GaDIndLvXCblQA0rQA2O2hce0Dtao9itx4ocrOD2tUOWlc7lLjaCsDTutpC7doTpS4OuO5sjzJXWxS7W+kA0aU7Lo7ojuPje2PpexMxyjMYvdefRD/vTDRzWoF5S6KRnHQBKQolUsQLg416+EJ4XJAjv9+TAx1fQLwnZsy8C3QP0+iqg9LTWpcSmiWgy0xPwffHv4XNECc90B2D3Ro5nL3SsfXsDZyQn0eCPBlJ8jghPK+qUr1H0EE96jfogI4uo1gkyWORLI9HcnwcFAlnEJMcgz0ZWXj1QAw6rz0jTFfLd79FS9v3McdjK/ZE7seucEZbqdXphH2DGSdg/IAU/gxG1BvQGQLPH71sCHRsjvNT0WXMDfC/R6NjwvCuk3dq1OjYL4JanfTw16TRcZ+0XdLoSJ3Ot/V9Wp2BRpeSKsepjBRE5ZzHa9FxsPGvrtHdBbr61ugkU0LS9moNdMoEnM/NvE+jm1AFdMtxyWU4ylzsBNBpXbtC69odGtfuULvZosjNBoXu1rjmbi1GrnO7mvtd7VDs1h1FYl53FLraQuNqgzJXS5S4dkWRqw2KXWwFABI8i9ysUeLSDaUudrg4whbHxzsKjW7UukD09j+Fft7ZaOa0UgBdiuKiYBgm0DHTP1n/wtBRx9/LCFyTRnc/KOqAzvA61ta3J2l0TwJ0NQEitxE4pH3SKIGJtF9af9hIza52QHcdJ+QFiE9UCDC6q9HVzHdX/ZykczDcLp2nTiulBntXo2Ntc01A12XNGfQLLEbXqXeBLnL3PoRvD8POnTuwa9cOMW7fEYqoqN1gNsX/LNCVl2rxc7EO6Lq8vxiMulqtVorKiAcBHf10Uucu+gh40Q1VbPokJKBLFUzDSh3ddrICSXrThDe2BHoETUmjq2+go09ER2qpKzljKVh8YrzO4Z5811eSwIbX9KXoiUH5wNUG6Gi6pj4m0JW4dhemaZmLDUqdrVA6lMEJS5QOtUDJUAuUuXRFhUtXYZJeH2qFiiHWuD7UBjeHWKHS2QI3Xbui1MUSxa5d9UBJwLRFiYttvQEdKc8JcgS1u9dSR0Qg1edyn26essr05PWTyEulF5v0f9cEfk8CdJJpSYAgILCMjIEEqXyLy9wm7ZOWuc4Ag7QuAcyDRgnoWOtKje6749/CaogT2oyn6Wqo0d0PdDqAumtm87sNgx3SOUrfLZ0bz0+ax2Xul4KBkun6aKD7Hi1tP8Rsj62IiIzGjh2hfwNdbYCOGh1bF9KsI0U6qdPz8nJw/nw+8gtykZ2TKfp8Sh2kqNFlZqYJCm5VWopI/SDDMB8E3uCSz49U6smqJ9PohLNXXxzPPgVsgMOSqFyWiJ3PQ25BLtKz0nV06mkp4sFMIc17ZhqycrLACKAEdo8COoKcMlkuTNcLeVn4eOkyGPVzrfLR3a/R9bjHdNW6d4OGYOVqhRtu3XBnhD3ujLTHLXdb3B7RXYBcKSOzrtYoc7NF+XBHaN0dUeLSEzeHO+CGuz3KXLpB62KNIlcrXHWzxlU3G2id79foRnsGo89jaHSS1kYgy8jKRP75ArAVZE5enmgTmZGdBTnvhZRksE9uemY6pP+Y1PW8rlIASnq51TfQSUECCQjYHIdNmZh6xfIukgQQaAhoknAu72OWnrG8i5oawcVQJNCRxicFOh1I6YInTI/h9/L8pJHny+/gPAZkeN7cz3PkyN/E7Y8LdDRdI3dHI3z730D3UI1OpHCIvCUdTROBjN28tm7djJCQIAQHByIoKADR0XsQnxCriwil6PqD7tsfjbnz5mDFquX46uBXoo1gMs1fA6BLTeEDc7dnxJOYrgQ8At23h7/HltCt2BgUgMDgQAQEB2BPdCRi4mOq6NxJpX7o+0Pw2+CHkC0hOHX2lGAlpvb5MB9d3YHOrsrkpNlKc/Sauw3OD7VAUu/2OO3QDkcd2uOEfTsk9+mM84Nt8ItbD/wwshdSR/bBoYE2CLVtj91W7RDbxxY/OfeB2sURGpfuKHYl2Fmj0LVmoKvJdDX00dVkuhLckpQMJOg0uqh9e7F521YEhYRgQ2AA/NavF71beZ2Zn0kfXdS+KMyZNxsfTP8Avv6+OHPutPiP+fKoCeCkbU+i0UnaDwGPTYXYrJpkAOvXrxcJ0Vu2bBEdviSQI5AQ2Jjexf7DdMazeZMEMhKwVR+fBOh4rIQEXVtKLrPlIuvd2YaR58n2jCzhZKUUwYylodzPAgN22PP390dYWBh0vWel1gQ6P11tNbraAt3y5cv/93x0OtP1CuYFrq9KGH6U6cqeETRdCXyLFs1Hu3Zt0bChDE2bNkaTJg0xbJgrDh78GjRbmQgcGLgRdna2MDY1gomZMQYNGYhdkbtAc1E0r9FHcesT6KhlUBtZsmwZ2rVvh4YsK2reTJQLDRwyGF99843Q9vYdOIBXX58Iq242aNK0KUaNHoWvDx7URW6Fz+rBwQgJ6NKUCaBGN4N5dHqNzsorGfdrdDqgY44bfXSFbj3w8ygHnB5sgU9bNcGEBjK80lCGKTIZVjeS4XjvrsgcNQAxowZgQ4/n8ErTRhj1jAxjG8owr3lDfNPTGhfcn8c1N3uoXayhcbGChmbw0Ps1OgF0fgxG1N5HR6BTpaUJORcbi+EjR4rSrCbNnkGDRg3RqEljvP3OO4iJjxM9W1euXoUOz7WHWTszIY2aNMRLE17C0eNHhJb8MLB7EqAjMDAyS42I4MDIIcu12GOYI9sZspZc6q8hzZ85c6YoMWODdfaCJVBKc6qDHNcfF+jY4pJgzGPQDOX3s2CgadOmaNasGZo3by5K8SZOnCgAl5omI6Dcx7I0jvwdbIHJ6Kgymb6/eCQmSUAXp/fRnUWMMh57MnJEMOKuj+47fTBiywM1Oionhj46qTLiiaOuf3QAwvD7DIMRTwJ0MbFnRTE+e3x+PHM6du0KFw2Ov/jiM5yLOQPyz7G94YABz2PgwAHYvHUTlq5YCgsrC7z59ps4zbc9OepSU4T5Wl9ARw2EGl2ySiWAztq2G2bNmY3wXbuwY2c49h3Yj1NnzyA9MxM7d0fglddeFQ9xR3NzjHv5JRz89lsDoKP2Wo1oVJ9eYgh0F/Oz7wE6ppfUBHSlrvrUETc7XHHrgdzRvbHP1Q6TOj6Dt7t3xJqRzgh3dcJhp+6Id7FHwovPY9cAa0xt3QQzLNvDy70/Vrj1wyumzfBph9Y4O6QXfnLvDTXNVWdrlDrboMIA6I6Od8Cy9yeCQOfoe0IPdKtqFYzQ+d102lxCohxjx48HXxIbAgLEddsVuRvffHsI8aLBjxyfeizGa6+/hi3bNuOzLw7gjUmvC+DbtCVEaHWSz07S4gzHJwE6amcEIQIItR/2ciWQREREiMgiQU7S2AhmBERqeQRAgg0br7PhOkGOWl9NIFefQMdzJbs4z5PlbAQvamuMfFKjo8nK0rwOHTqIeTx/aT97z95vulYHuly8eiAOXZhewmDEu4fQ0nYa5nhsfiDQScEIMsYYloD9+YGuRI3i4kKUl5UI4s26aHSSjy429iwWLJwHB0d7vP/+NCxfvlSYsHFxMULjy87OxMaN62Fra4NPPvlYvIlOnDqOF14cjUFDB2H/5/uFiSj56OoL6KjJ0VFOv9Eij8WwteuOyVPegceypcLsOnHqpGhMLfnzOJ/gxod4zLix4uHlNppttTFdqdE9DtBddu+BrBd6Y49rD7xt3gqTLdtj1fOO2N67O2KG9ET6CEekjnXEd4MsEG7XHodce+PchOH47PWRmNy5NeY+2xwnB9vjBzdHaPRAV+Jsg/IHAJ2Dz7E6AR1fGAQ7lhmRCXnCa69h4ODBmLdgAVauXo0oakEsv6LPNiUZ8iRWi+i6gtH8n/b+NHTs3FG4CwhkUiDKEOCk5ScBOoIXAYq+OVKfWVtbg9oR68GZMkFqNIIg53Ak0Lz44osC6DiXmhJZgHgc+u4e5KerL43OEOjIzLJ69WoBvKRq4zmSkJca3bPPPosJEyaIeniat+yXrAP16lHXBwEdo67X0PXdg48EOkmjI9DRdCXpCGvv/9JAx7w1XQPqFKHR0XQ1NjZCmzamMDU1xoQJL+Pgwa+Qk5uFtWtXC7N12fIlgtQxJu4cJk+djAGDBiBiT4Q+GKBnKa5HHx0fTIVkurZrh1atW8PY1AQtW7fGmLFj8c2hQwIIk5RKpGdmiKbVToMGYfzLL4sm13yA6x/oekCn0Vmi1LUbLrvbIXf889jtZo9XOjTDgBYyDGkmw/iGMixs3hAHe1kge7gDLrrb48dhjsgY1Qcnx/bHqt6d8IJRYyzr2h7xzn3xs1tvqIfagiAnTFeDYISk0Y1cEwgCXV+vrFqnlxDkJPOVGt3LEyagRatWMDIxhlnbtujw3HP46OMZguyTL43UjDTh33xr8iRYd7NC81bN4TTYSfg/WXv8tExXSaMj0LE1QZsRRSnNAAAgAElEQVQ2bdCyZUt07NhRMKAMHjxYNKomiBHoqM2RGWXKlCl49dVXBdCxKTirMwg0TxvoCKisd6c2SSoqggsJDEjIS78hgY6aHk1WCmt+Ka6urnoTmwGLmkzXc4hRyrEnPR+vHkjQa3QEum/Q0nYq5nhseqBGJwEdr93fQMfAQUoydAm6ul6uUVGRmDdvDnx8vRC5J0JodubmHfHppwsFGK5YsQw2NlYC8Fj8z5t98pS30aOnnXD8MxAgpZfUq0anjwTSBzd77lx4+fggam80Ppw+HV0sLTFv4QIRLaQmIgEdNToCHQMYSqZVUKMzrIiQlp/AdGX+W5lrVzC15LKbHfJH98Lp0X2xoa8FPPpZYO0Lz2PR4J5427QFfJ8zQ/LAnrjk4oCro/pCMa4/1vQww6vPNMR8c1N8M7Q38of1wzU3B5GTp6ugsEW5QXqJIdD19DpaZ42Omq0I7KQkI3jTJixavBhhO7Zje/gODHYeiq421sIlkMrIplKBuIQ4rFq7Ci5uLjBtYwp7R3vs2btHpOo8LaCjhkSAonn59ddfi/IxUp9FRkYKbcnCwkLw2nH/oUOHMHDgQNjb2wvGoA8++AC9evUS/I48jhS5lcDO0Ix9XI1OyqOTghEMKHh7ewtCD5a40T9IDZPnSRAm4FLDZBkctVI21KLmZ2xsLGqA4+OZZvL0gI6m6+3bt//3NLrLmmt1CkYQmAgABC4y0jK1hCkmNFW/+uoLODn1x/TpH4oUE9I50Yfn4fFplUY38c2JcOjtgNAdoSJ3Tap1rU+g4wNKEMvOI5NwPpgGkVeQLwIN/fr3x/hXXsaxkycEoNHh/t2Rw+LBHffSXR8dU00UD6mMeBwfnZToy6jr1WH2OO/eHRdG9cX5MYOheqE/4iYMwpevu+ITuw6YbdoIxwc6IGPMUJxy64U1FkZ4pWkDzH+uBY64OaBgTD8UD+8pqiwKXa2gdrFBibOtKAljcjIThgl0yz98HaPWBYFA97xPDpoNXIU5S6ORrE8YVj0gYZjXkNeGpmtmdrZIJ6FfMyMrSzAY03ztam0NL18f8bJIz8oQqTtMKZEnybF81XK0f7YdPpnzichdZG6dyE+sgTTgSUxXApDkQ2MKRlZWltCKpHSNYcOGwdHRUUQsly5dKrQ9alLcZm5uLoIWbGtAAJLArj6BjsEIQ8Dksen+oeZG7Y5EuvTTEehWrVoltjHlhAxFPB+mlpw8eVKA87hx4xATc65GoFMmnEOsUo6oJ9To/ga6Ko2O9EhpiI07h+joSBw/flQkCHPb5s3BQoObOXOG8G8xQEEf3suvjMfps6eEk7r/wP4YMWoEvjn0tXjT6yooFEhVyestvYR+I/ZP2BkRIfxvUgrEjp070a17dxGAYL8G5n4RDA99d9dHd+j778SDm6q/EWkaSVUgYnxCjY6VEax2uORuhx9ecETKgC5IGWCFzGG9kDZuIL5+oR9mdGmO2c82xQG3Ptjp3g/vWZjBrWVDvG3TCWGjh+LMmIHIcHfA1WEOuObWDVfcrPSpJbYoH3o3Ybg60OmirrUPRkhgx2uyfWe4uKYEPWq8777/HhjA2RgYKKKu337/Hc7EnBGU9ucvFgiNvUPHDnj3/XdFOs/TBDoCAgGEZU0MLBBYaKbSP0dAGzRokIh4MipLstrRo0dj+PDhwk9Hc42ckE8L6Aw1Op4nfW0MlJCDktobAY9+OpraBDpqp9z/xRdfgPl2BGymo3Tu3Fn47CSgS0qK15eAST66+jFd/wY6FR94MjIoRALw/v17MWiQE2iqcnR2GYLnnusAKytLEZSgxsd8uqlT3xHb+/brDatuVujUpRM8fTxxNvasyGVjdJadvOoL6KSI65dff42hLi7oYmmBAQMHwtnVFR06PofOFhbw27BeaHm7o/Zg+KiR6NTZHM1aNIdJGzNYWHXFsBEj8PU33wjnr0inEfl+EoEBy9vYfSxJJAzXJRghaXRFrt1wwc0GmWN7YmvnZpjdSIZPjGWY0aEFJpk0wSvNG2CNQ1d8Ns4V83pZwL5VY1gZNUIfs5YYbdoKU55phJD2pkgf1FuYtlfcuuGavhys1LmuQBcv6oaT9XmDQpMleUNqqjBbCWxMHTHv0hn2Dg7iej3vNADGpqbo068fDh87is+/+hJOg5zQ3b47XN1dMHDwQBDk2j3bDl4+noKe62mYrgQOgho1JGo9Y8aMEX6vPn36wN3dXQQmyFJMU5bzmN7BkTlrpGtnyRPZjEnZTv8Y9xkGJLguCb+LLz0W9ddU69pjjRyuXukIPXsdp+QFSDAoAeMzEx+fIJ4f5vlReyNwEWwZ9WWKCdNcaFozh27IkCEiGDF06FDQx0jNk1ooyT/pUmEnOaWCFGGxUMpZ5xqHJDZsqqOPjooIS8AMfXT/w0BXiHmBG9HlPY+HJgxLbQUJYNRszp49jbXrVmP06JHo3dsRPXv2wPDh7vDz9wEjstTUmEvHpOIZMz5Ev+f7imirxzIPHDt5TEToyAxCEXNZaSAShlOwJ4u1rnLY+Cvh6JMtaJruKernG1uhS+itqaifZmtsfDx8/f1Fyoi9owN6OPSE+4jh8PH3Q0xcnDDHPvvyC7z1zmQ4u7nCxd0NLm5uAhzfmjwZ3373LZJZm6uv2xXaHP10T6DRSUX911y74bx7N6jG2GH/4OfwqWVjvNVWhjc6tMR77Y3gadMZh0YMxqlxzljfpzOmWrTAa51bYEKHZni7fWvM6tAGwV3MkeDUFxdc+uCyW3dcdeuGq6620D4A6By8jqK/F/Po7tXokpXxArCV1YCOWjGj19TqqK3NnPUJBg4ehO497ODQqxfefGsSIqOjBBiePncWCxYtxMAhA9G9hy3s9IC31nMN4hJiRXrJg8xWRl6fxHQlEEkBCUZdx48fLwIMPXv2hLOzs+hBwfQSzuFcgiJZupniQbOWoELmbaZucP+jgI4lYNlpKThy7FvYDnZCu3Hvo5fnMdivloDuBk7pi/qpzVHzopZGkCVYEpDZH4O+QmqbAwYMEBpmSEiImMPv5zKBmr+hR48eQiOltmeYMJzEskXyOLJfcHwCEhNicDZZjsj0Arx6IBEWa2IemV4iAZ2UXkLgZwPr/42oq1aL4hKtoIwqLyvDZU2RHuiWoJv/OX2tawF2naqEPPkqVEqylyqhUt1LzCiZIgwo8GZmHSmTgLmdb29pP4GMy3Lyb9FPo1KIUa5frrrRqSGlJOJkugp7si7gtegEHdAJhuEv4DppE06dPo90Zbbg4FLpQYgaF29iHfvGvX4g5unxXI4cP4KTp08IU5kRQJYp8eFieRLpgTgKOibDbfpEZgIbtTf65KoLS8DuanQsARsGi3k7BE3ThCUZCJl6HKdGLMdl55EodSETCdlKrESy8OVhPfDDCDvkjuqJ1NG9oBjdG0kv9IXyheeROqofMkf2Qc7IXkgb3QeJY/oh/oW+SHihLxRif3/kjuiHH4f1xiU3e1weZocr7t1x1Z0MJ2Q3sdX76Hph+YdvCB+dIdDNXxINld5HpyR5qPCfPZi9hNFXAl5CUqJ4gcQmxItlbqOQ7ZbuAUa7mVws7ec2VkzwWkupJDWNTwp0BBBJuyNQEBCYrkFwoUkraWUcq0dWpXXp84ZzDZe5X4ClHugOH/sOtoMHof3YD9HH8wQcVifB3TMTYWdu4pT8AhLkKULzovaVKFdUSZJCl/50/ORJEfiiC0WqG5ZGBnd4Dek7PnLsKM7Fxd4zR8yTuPhE03JqnjE4o0pAREY+XjmQiM5rdcSblg/JoyPQhYZuxf4De0XCMKO7ixcvFpURf/70kvuArhjzAgPR5b1lOqBbo8S49fnYdepmrYCOdatSPSPBwhDkDEGP8why8mQd4NUEdApVIo5nqLA7+wJeFRpdMhy982D1tiHQ5SA5SQlVNQptQ6CTQJYjv5fgRic5AY4PGrfX9MAZblMaaG4PBzo5LubnYMaSFXqgC4e1dyomLMnE5ilHcXbEMhQ6j0S5CwMHVoJhpMith6BfIjuJRk+/VOrWHWVu3QTNEvnnNG7dBIsJaZvITVfuYo0K1256iiZrqAXriS2u6gGOIFfoRhon3ZyLI2xwdLzjfUDXfMAqLPCIRmrSRagUjKI/HOgIctSQpVQTPoRSkELazn2C1ruKrj8DKWmpVeVjumM8GOyeFOgkQCIY0Uyk74tCV4u0r/rIudWl+hzD9epAd+TYd+g+eBA6GACd67oMhJ25hVMJPyBBrqoR6BLkcvFyIFjFyxN0aU58ibBMzEDEC0Sf4sNlzud+joaSJE8EJT4pBidS4hGemY+XPkuE+do49AnUwPLd+ysjCHARETtFcX94eJgo43zhhVGC7JTaJFnLyZv5586juw/oHk+jMwQF3qgUCUQMgUZapjZHIcBJI4GPn+FnCSYEuhO11ehEugfpolLu0+ik75RG6Vylc5TOUxqleYajBHRKpY5qnNpbTZKmvBfoLOftEHx0Ez3Sse2do4gdvgzFQ0fiunNPlLhKnHM99HxzEg2THcg59yRSrOesY6E/CTrrC+gIZoaARtAyFMP9BDtJdOBmSPdUe6Cb/vFHMDYxfiTxpiEQcVkCLoKdJNxWfd7jrNcW6LafvfVQjU6eqAM4gpwkhgAnLUvAZrhuCHDScnWg25GRVwV0vQPUsJx6F+j2RO4VRf0EOdI0MSUsLGwbXF2dYWJiLBoLSQBHzkwyoj8R8aZhSdYfvax5CkAnAYk0GgKGtFwd6Ahyjwd0tdfopPOpPkrn9LCRfSEEsJHg8wEgx+0PArrXPdIR+s5RxA9bBvWQkbg5tCfKXMgObI1Slx4ocekheORY90pCzfqS8j8Y6AxBr/qyBIK68Y8DOgnwpPFxgK36Z2oDdC5r07DjXCXOJv2AREWqILYg049C0KozkJeMxCSFzgxV6kYJsKRRqtip7SgBerwiFqfS5JCArvO6+Hs0utkeWwRNEzU4BiB2794lQG7s2DEi0X/lyhWif83169er2jT8JYAu4lQlklKuIS05E2mirwMrInSRR0MNTlo21JYMt0nLNCEVqfeKMi0ZyeSs00delalJOJmRhqjsiw/x0emALkWkfeg6QFX30dUEYAS7mrY/aNuTAJ2NZzJe80jH5neO4MywpbgqfHQ9UexmBbWbNbSudzU6iWCTZuyTiGQCVwe6Ze/r8ugkH11dTdd7wcpQQ7t/WQK6mj/zYKDjf5Oip83iffLRjA9hZGwkmEgIONX9bNVB6I9YJ6AY+uiqm672KxMxdFUqdpy7hZPx5xGfoBS5o3L6MxOSIE9gCkwSaLpKmlxtRkmje+CoZ0WJkZ/FseRYAXTjD8jRaU3MfUC3J3o/wneGCZAj69CYMaPQqnULLFm6GIWF1wR9OsGNypekyUkjt9WZSv2P1uIMv6+6RveLphhzgwLR+f1lsPE/h25rlJjgl4OoYyVISSxAtjwe2YrTyFKcRJbiFDKSTiH9MSQt6RRSFfdKmvI00hVnkKE/fpriBM6qYhCdkYbXos7A2k8Otjvs+taXcJ20RQQj0hRZumBEHUzXB4HZw7ZLfHQiGlmTRqePUuo0Ohb1L4NRXzcRjLDxSsGbi9MQ8fYhZLjPxm+DewOD2wBDWwBDWwFD2ujFDBhiCgzhWA8y2AwYaAwMao1fXYyQ9UIHbHxvOMavXYde3gcxwCcTzZ1WYgGDEYk6KvVH+ehqBq37Qe7R8x4BdPrAEYGOput/E9ARaKnREewS43VR1+rBCMeVcgxfqcS+s2VQxKUhK/40cuKP6OUEcuJ1kh1/HFnxx5CVcBRZCUeeWKTvSJcfRELyd9iTlojXPzuDLqtPou/Ga+g65a7peuDAl9gdsUP45EaOHI727duKMs7LVy6hrKxU+ORoskrgZjj+6YCOXcAKS9UoVBejvKwClzXqasGIZLy04QIiz/0KRboa6Wk5Im8uPVMF9jR93J6pqoxUpBiIKjMNadnpSM1MExn1GZkqpGapcCYnC3vzL+G1vUmw9lfA0Ssb1pM+g/ukzThz5gLSlQQ6OVIIPqL7ly7yl0QGY332fX2Md4FORzIqvovfVyW6N3x6cpIo6v946QoY9R0Oy/k7YeWVgvHLMuD73lF8NcID2a7D8ZMrKyGscMHdGj+QZ05Id/zo1h0/UVz1o7Rex/FHNztxnGvONihytkbe8G74dqwjlnz4JkZ5bkJP7+MY4JuLloPWYJ5HFJLlBVAp6biPhyJF4ovTFelLmlldRgKdFIWteXzw/yM0Oj3Q0QIg0LU2aiU0OoLLf1KjI8BRY5Q0OsPmONWjrkNWpGBn3K84lfgT4pNYIcLAAU3UlCpJSEpGvEJZbyJPYqBCiVhlPI6nJiIsPR/j9iXCfF2CTqObcggmdu9j9qIQREXvR+i2TUKTa9myOVauXA6tthilpVoUFRUKTe5/BuiKSzS4VqrGNQF0N3BFrcXCgGBYTlsOK99z6OKZjqEbfsD8ryqw8VghthzLR+jxDIQeU2Hr8VRsPqZC8DEVgo6m1FFSEXQ0HUFHMxB0NBNBR7MQfCwLm45mYcvRDGw9qsLmY0r4nEjFp6cvwmVnGiz8M+DonQubSQcw8q3NiDl7ERnKLKiU+pQPlVJXlyoc5g/SGLi97hoIE2ercuekOtd7RrbpSxU9Pn/Iz8HM5Sth3Hc4Os8Lg+WGVPTzOo9XF2dixseHsWL6DqybHog1M9Zj7Qx/eE7fAM/p6+E53R9e033hLcQP3tP94f2Rv27kcm1EP99LHG8DfD5aLz63fKY/ps8OwKil0XD0i0U3nywM9PsJzQcsw+wl4UhWZkOpiIFSeVY049al/yiRWGMnNell8uCR17hmYFTpt3O/LmhVfaTrgi9QAh7HmbNnwsi4taj9/G8wXQm0bG4jfH7yOGSkKXD4+EH0GDIQHcd9gL5eJ9DNKxPWay/ixR1qvBGajXfCUjAlLBFTQ5MwJTQZU0OVmBKmEPJOmAL1LZO3J+DNcDlG78mE9aZMmK0tQM8NN2A99SiMbN7FgiVbsS10B8aNHY3OnTvh008X4OIP56HVqlFYeBUlJdqqboSGmpy0/KfT6AyBrqzsBi7rgc7qg5WwXB+HDusLYOF/GfYbf0GvDbno55eMAT7xcPKJRX+fWPTzjUMfP0os+vjF1FLi0Nc3Af18k9DPN/ke6e+TDCcfBZx84tHf9xx6+cej+8Y0mG8oQHv/n2Hv+QNs3vwcoyZtwrkz+UhTpAuNjoEAQ82NaS01i64PZm2du9K8pKrIna5/JhmVJaFWxzc8ncvJ8gScz8nEjKXLYdTXHZ3mbEVbHwXarP8Zz/qq0cWvFJb+Wlj6a4R09S+GlX8hrP2vwsbvKrr5XUY3v19gK0auX0M3v8Jai61+ro1foTiupX8huqwvRCf/a3huQzHM/DRo41+KTp5q9Pe5huZOK/DJku1ISkqHUnEOSYqzSFAkIF6RiARm3esL+aXrUJuRmos0T3Kq3z/qaJxI5VRd2NCc/x1zMfmfzvhkBlobt8amTSEiRYS5cf9JYT4ehTl3iQmxonPawe+/hO2QgWg3egr6rDuJzt4FMPEtQfO1xWi17gpar7sEo3U/wWjdzzBa94uBXIaR2H9FzOPc+hDjdZdgsu4nPON5CU3Xq9HKqxy2fndgOfkI2vb4EJ8sCMTYsS/BuHULrFixFDRXr127gqLiawLsNBr1/ybQXVWroS29iR/VJfgkIAjtpy2GmdcJNPU7j0Z+FWjkV4km/tfRzK8ELXyL0dKnGM191HjGuxhNfNRo7FOExj6FtRDOK0ZTbzWaeWvQzEuLZl4laOZVqh9LxPbm3sVo4VWIZt6cq8Uz3rfQct1tWK1Qw+LVr/HCW1uhUvyMi9l5yM1KRXZOKrJy2RMiUy8sNpeWDcdsUYSelZNTpzE7J0fw+bPA2lCyc7J169m5yOW5ZGTg6uVL+HiVN4z6j0dXj/3oEJSHJiElkG3+HbLNgGxLNeG2P0I2AbJgoFkw0M7vn+jvfwPGzhswf8V+pKf+iLzcTGTnpSEjPwvp+TlIz8tFVn6e6AnBvhB1FRIo8DMc7xddzw727TCUnPwcZOdmgyNzHQsuFggiAFItkeqc1571nizY/08Kz4GEATlZGTh/Phen4s+gm7MLOoybjv7+cpgHFKJZ8P+h0VZUSeMtQJMtAEdJDNcN5z7uckP99zXdAjTbrPueRluAVhv+DYcQwO6js2ht+y4suw+DmVl7eCxeKECO5iq1OY2mSIxa7b39pSVNThr/hBqdGtdKi3BVXQRt2XX8pNFiQXAIes1aDqctJ2G/NQ/WQddguaEQtsGF6L65CDabCmG9qQhWwWpYh2hgHaKts9iEqNEtpPiBYhuihm2QGt2DtbALKYV9yE30DryJ4evVeH7KVxg6bhU2Be/B9s1bsCNsE7Zv34SwHVuwLXwbtoWHCjaUsB2huF/CBLUQ6YVqI6EG89jz8n7Zge3bw7Fj+07s3LELYZs2ISpiJ16e+gFa9hmOtm+vhdn8r9BoznHI5sZANjcesrmx+mWuSxIL2Zy4GiQesjkJkM1J1EuSwbK0zXCU9svFsRrOjkGT2WfRZPYZMTaaHYsmsxLQenosbD4+g9Z9FmLyNH9sDopG2NYwbA3bik3bQ4VsDgvFtu1hQkL1o7T+sFG6rpwjLd8/ct/9/8/2cN32HTt3YFvYNmzfuR0vvfISzNqYYf78+cJ8JX0Rueb+k8JzYIlZWOhW7Nq5A74BG9C5z/N41v0t9JgZjjYzv0WTOXFoMDsBjWbHoPHsc+L6N511Fs8YSNNZ59BkVkw9Cv/fuCppMDseDefJ0eyTOHSeHQerV7eg6XPD0NLECitWrMSVyz8LLY7mKoFOEsl0lYCt+vgnBDrJR1eE0pISXC0qwqK1a9HW2hGNu7uhgcN4yHq+Cpn9a5DZvwqZw0TIHCdB5vg2ZA6UyZD1nAKZ/Tu1lMmQ2b8Nmf0kyOzfgMx+ov7YPD7ldcjs34TM/i3dvB6cy89MhqzHW2hi9zqe6TwCjVvbwsS4I9oam6KtmRHMzFrDxKw1jNroxLiNrieFiZmJ6E3B/hQ64bopTMzM9COXHy2mZiQSNYWZqW7kshD9dlPTtmhj9izamrRBexMjtGjZDA1aNIfMpBNkbRwha9sfsrZOD5GBkLUZBFnb6jIYsrZDIGs7FLK2zrUQF/2cIbrjtXGCzKw/ZGb9IGvTDzKzAZCZDoLMZBBkRgMga2qFVq06wtSkDUzFNTKFkVlbGLVpA6M2pjAyNREkpSQqrau0NjHGg8UIrU1aP1DYU4TCOU2bN0WDRg3QqnUrQTpJLrb/FjHVE2G2MjJGgybNIGveFjIja8hMHCEz5XUfAJnZ85CZ9dVLH8hM+0Jmqh/5v4j9nFMPwu805X+sFzP+/wMhM3KCzHQwZM/YoKmxJZau8saPP/+M8ooyaDTFVZpcSQmjrBSdj646wEnrf0qgY9RVrS1GuVaNMo0aiXI5toXuxMaAUIQEb8OWkCBs3RSAzZsDEbwlGBu3bMb6rVvhx3HzFmwM2YaNQVuxoVayBRuCN2NjUAgCgoIQoO/GFRC8UdBsBwYFISgoBIFifwg2Bm0S8/2DN8EvJAQ+QZvhF7IdG4LCEBSwGUEbAxG4cQMCAvyxIdAP6wN94R/og/WBftgQsB4bAjboRy5L6wGi1wH7HdRWNgYEiG5S7Ch1r2wU6xsCgrFh42YEbQjE1g2+2LZxHbYErkFgoA/8g4KxITAYwQHrsSnAHyHVJDjQH0GB/ggM9EdAoD82BhnKemwM3IiNgQGCAok0SLWRgMAA0YiIxw0O9L0r4rs3YvPGAGzeGIjNgQEI2uiPgID14ndsDAjChoAQbAwMFt/D/4jfxzEwJFj3n/F/e4hw3qOFxwuslQRtCkLI5hDRJYt9INgt679JeE6bgoOxLWQTtgYHY0tQIDaHBAnWnpBNgQjZFFAlm0ICsNlANoUEinnBm4LA3/mkwuOwC9+mkGBsDglBSHAIQkI2i2cqNHQ7gkNCRHe2ny//hLKKMpSWlwhgkzQ5jv+TQCea45SoodGqUa7VoKxEi7Lr5bhx6wZ+vXUT/7pZgX/fLMG/b6nxr8oi/FNIMX6r1OC3Wxr8dlOLf94swW83tHWSf95Q4/cbhffL9SL8fr3YQDT4/XopfrtRgn/cLEVl5XVU3LqF65V3cKvyDm5Tbt/G7Ts3UfmPclT+owyV/6hA5Z0bqLxzC5V3KvUjl6X126i8cweVdzjWTm7fuS2+5w6/y0Ck9co7/0DlnV/xj9t38K/Km/id1+VWIX6r1OLXWzfw+60K/L+bGuBmMf7fTXWV/PtWMf7vVhF+r7yGf96+jN9uXxYjl4VUXsU/Kwv11126/o8ef6/kMYvwr8pr+L3yqjg+1//vFr9bC9woBW6U49/XeW638Wvl77h9+9+ovP0vVN75J/h7bt3mtbstxhuVt8TIbfUjPN7NR8rN2zdx/dZ1XL9xHexGRSYNjv8NwnOR5PatSlRev4HfrlfgXzfK8Pt1DX67UYxfbxTjH/qR6/+8YXhvc10tnptfb2jxj3qQX2/we/ksluC366X41/VS/L+KUvyrvFg8a7crrqKinGaqLuhAUDMEOWn5f06j02g1UOuBroQ2eqkGReVaXCsphrbEMCOay2qUlhSjTC+l2iKUMu+Gn6OPT3Pt0cJ56uJazC8U80rUxShVa1CqLoFWXQa1pgyFmjIUa3UZ21ShKQRqdUkh1CXXoC4pgrqkWPwu/rZ7hL9Xq62zMLFa+q6HjaUaDSrUapRreG10N5NaWwatthSlWg1KNbrrVapRi+tWoqXzl+d8BUWll1FU+guKSi/pR65fRVHptToLr4PuZpZuaq7rHM2lGi0q1FrcUGtxXV2GMvV1lKpvQauphEZzE2ptBTQlZdCUlgjRlpWi/qUE2jJtraWkrETUWjJT/79RykpLUW4gXHn0XOcAAAGISURBVBclU/prV/LA8y5DaWl5vUlJaTm0peUoKa1Aael1lJdcR4W2DDdKS1BSfAUa9S8oKS1EUfEVAXB/IaDTPfR8kEs0WpQI0NBCrdHoa9y00KhLoNFowZCzzp7nKO3/o0bdeag1JSjWlEAtzsfwu6VzK/qPnKN0vUrUapSqi1GiLoRGcw1qXjN1qf4a8nyrXzvdeas1RSjWFNebqIXfhb4XSe69Llq1BpQStRZa8RLhOZYZnCv/b8Pr+/dyXa4H74diA5Huj/uPoX+++IzVp2h0x9P9t1QS+P/pfHEcpagqfW4Pe3E/bN+fqgRM+iEEOL7pJeG6bh8vBLWnx78g0nc83fHPcp7Sdb131GhLoNaW1iDcXnsNtLaaJ+fxuHfnSybMvWkFT/c/u/ca/DW/S7pv+Yw9DXn4c/uXA7q/5k3294P29//+9z3wuPfAn1Kje9wf+/fn/n5Q/r4H/pr3wN9AV2X2/jVvgL8f/L//97/CPfA30P0NdI/t4P0rPCB//8b/jRfB/wcO6TWoHEV8cAAAAABJRU5ErkJggg==)"
      ]
    },
    {
      "cell_type": "code",
      "metadata": {
        "id": "DxNeD6qSd-pC",
        "colab_type": "code",
        "colab": {
          "base_uri": "https://localhost:8080/",
          "height": 119
        },
        "outputId": "a46d9ba3-31dc-439d-ea1e-6ccef1c4a114"
      },
      "source": [
        "a = np.arange(36).reshape(6,6)\n",
        "for i in range(1,6):\n",
        "  a[i:i+1] = a[i-1:i] + 10\n",
        "\n",
        "print(a)"
      ],
      "execution_count": 31,
      "outputs": [
        {
          "output_type": "stream",
          "text": [
            "[[ 0  1  2  3  4  5]\n",
            " [10 11 12 13 14 15]\n",
            " [20 21 22 23 24 25]\n",
            " [30 31 32 33 34 35]\n",
            " [40 41 42 43 44 45]\n",
            " [50 51 52 53 54 55]]\n"
          ],
          "name": "stdout"
        }
      ]
    },
    {
      "cell_type": "code",
      "metadata": {
        "id": "siQqnqKwec8b",
        "colab_type": "code",
        "colab": {
          "base_uri": "https://localhost:8080/",
          "height": 204
        },
        "outputId": "f0883cef-41d3-4b3b-960d-f3d34fa704ed"
      },
      "source": [
        "yellow = a[[0,1,2,3,4],[1,2,3,4,5]]\n",
        "print(f\"Yellow:\\n{yellow}\\n\")\n",
        "\n",
        "redmask = np.array([1, 0, 1, 0, 0, 1], dtype=bool)\n",
        "red = a[redmask, 2]\n",
        "print(f\"Red:\\n{red}\\n\")\n",
        "\n",
        "blue = a[3:, [0, 2, 5]]\n",
        "print(f\"Blue:\\n{blue}\\n\")"
      ],
      "execution_count": 38,
      "outputs": [
        {
          "output_type": "stream",
          "text": [
            "Yellow:\n",
            "[ 1 12 23 34 45]\n",
            "\n",
            "Red:\n",
            "[ 2 22 52]\n",
            "\n",
            "Blue:\n",
            "[[30 32 35]\n",
            " [40 42 45]\n",
            " [50 52 55]]\n",
            "\n"
          ],
          "name": "stdout"
        }
      ]
    },
    {
      "cell_type": "code",
      "metadata": {
        "id": "GfSRiYo5Xzqs",
        "colab_type": "code",
        "colab": {
          "base_uri": "https://localhost:8080/",
          "height": 102
        },
        "outputId": "9cf17a85-2411-4497-a871-d0d6a5a55fe5"
      },
      "source": [
        "a = np.arange(25).reshape(5,5)\n",
        "print(a)"
      ],
      "execution_count": 26,
      "outputs": [
        {
          "output_type": "stream",
          "text": [
            "[[ 0  1  2  3  4]\n",
            " [ 5  6  7  8  9]\n",
            " [10 11 12 13 14]\n",
            " [15 16 17 18 19]\n",
            " [20 21 22 23 24]]\n"
          ],
          "name": "stdout"
        }
      ]
    },
    {
      "cell_type": "markdown",
      "metadata": {
        "id": "6yyFvNisaBnR",
        "colab_type": "text"
      },
      "source": [
        "![image.png](data:image/png;base64,iVBORw0KGgoAAAANSUhEUgAAAYwAAAFGCAYAAAB5SqiYAAAgAElEQVR4Ae29eVhT1/b/vxMCKoiKA85DtYpjB61D21tbrJ1sqx3UWrVWWsEBR5xHVKQOtaKCE1ppUZypM7aIleKEA0OJkBu49t72dvD2M3/v7/N8P9/nfu7z/j37nJzkJCQhCTknIVl/7OckISE566y9Xvu91t77sN9//x3UyAbkA+QD5APkA3X5AKvrDfR3ciLyAfIB8gHyAe4DBAxSWKQwyQfIB8gHXPIBAgY5ikuOQiNMGmGSD5APEDAIGAQM8gHyAfIBl3yAgEGO4pKj0OiSRpfkA+QDBAwCBgGDfIB8gHzAJR/wX2D8XI27Bedw8ugRHMvNQ5H+L3gYRBf11x/0uFWQj+Lqhy5dyEAa/f1cfRdXLnyF40eO4sSZS7hW8Wf8FkTX/veHP6LyVgHO5x7DEW6Ds/m4WfljUPm/PX9++FM17t/XQ6/X4371T0FvD3s2Uvo1vwTGz9+fx/ZlMxEfH29p0xdiS24JfgrUwPFLDUoLL+DY5zuxcfVCJCbEI376MmTd+TV4gPGzHl/vW4t502XXnftAwhys3HUB5X8N9JTAQ/zp5nFsW5aIBLnv88fT52H9wasw/hboNnBwfg+rkbdtntkuM7Z9g58DNRb48Xn5HzB+uoWDy2eIoJgxD8vWrsOqhbNER5m+BPuKAlBpPKzGxU/nmDuDGZTBBIyHD/Dt7sWYLgTKBMxcsAJr16/DyoVS8JyOhekF+NNDBwHFjzuZq6O+h9UX8OmcBNH3E2YhaXky1q9PxvL5M02+kYh1x8rxawCcq6s2Ed/3EH/5bg8W8UGUCaQEDN/0Az8DxkPcP5mCmdwpZq/HkbsmGf7zfZzbOl/oNNNXfIm7v/rGWO45uRu/8eFfcHX3IkyfnoiFazZi594tWMpH2UEEjN/KcrBKUBaJSM4qQrV0jX97gFuH12OOoLhWI6fst4BVXA+r8/DZ3ATMWLwNX939wZJy+dWIK3uWCTBNWJiJm5JtggUcP9/Blyunm2HBoUHAcCO+eNFP/AsYv5UhZxV3jOlY/sVd/CI70YeVp5Ayk6cnkrC36OcADBq/4uefxWD48E9nsXFGcAHjl+92Y35CPKYv/RzFP9t0hl+KsDeJj7xn4NOLfwnAa285319/fIAffq5dt/q1+HMs4dCcsQUX/mx5v2KDGFnf8+13/IaKkymYJaTllmFt8lxh4EjA8I0P+BUwHtZIgXIpDt62yd0/rMSJdSJMVh4uDegiaDAC4/eHP6D026/xXUXt4u5D4zlsSuTpiFnY9s1PAQ0Mu8H5YQ2u7llqUhj7cO0X3wQLu79NYbA8NF7E1rl8sJCARXuu4PLeJAKGwjZ3dp39ChjmtMT0FJwy2I6yfkZ+2izBcebv+c5KfTg7wYb4t6AEhqNO8FMJTnwijirjZ2/BeaOtXwRm8Hz44DqOZ2zFlk2fIHmxVMeZhbXHSoOnhvHwz7i6e6EAiIR5nyHP+DOuETB8OmDyK2D8WpKNFTyPPSMVp2sFhp9RsCNRAMbcXYUEDEcBNoBef/jn2ziSapoZkzAfn567HzTB8q/fbBPTMKYiL8/bT1+ehdu26boAut62g7ufb2eJ8SA+ESkn9fjt918IGD6+3gQMH18A207Cn5PC+B2//vEKMleZRtYJ8/DJ8bv40Q+vlb3r55XX/lqBy8cOYm/6VqxfIimM6Vi0Mx/GAJ4pZrbdrxU4vo5nFOIxY2U27gqgJGCY7eOjvuBXwPitPAerhdlB63Gy0jb18Fd8s42vzUhA0t5rAT3SDG5gPMSP93KxdaFpVsz0Rdh2tgx/9VEH8XUHFb7/12oUZSVjNi96JyzCvmuBOOlDnlp8iD+e/1ScGRc/E6t2n8L58+dx/vxZHNwgTj+fnnwABaWymWTB7B8qnrtfAePhDxewxTwT6hfrXN1v5TiyRix6Jx+toKK3ik6iXtD8FYYr+7FmtrgWISFxFTKv/DGgBwcu2/bXEhwSppZOx4rsEuu+EXC+8DPyhcGhZd2FtP7C6jg7Dfk/ykFDj132Jw99xq+A8fvDSpxczxftJSAp41v8RXZSv9zLxkpBfdiZQSV7n9IGU+P/B6XCePhn3D6+CQuFtRjxmJ60CSfuBOAiTU999aEBp1LEAdOyL+4GODB+QWHmcixZvBiLbdqC2aLyTEhciLUZF3E/WFe+e+pH9fycfwHj94eoubQNc4VFWkuQfum+kIr45Y9XcWC1mM+cufYYKgLRSX6uRvmdW7h16yZuXslCMg+cCQux4+x13Lx5C7eK76HqR9s0XYCMqB7+gO/2rzAXeRPmJOPAxWu4efOmuV2/cgY5Ry6hNGBHlL9Cf+kAduw6hIu3q2WTOh7i55pSFBzeiCQhJTUfGVeDb2rxwx+rUFJ8HSe3mtZhpB5D6Z9spt7XMxiqMRhs6N/hZ8D4HVxlnN0kbZORgJmzZ2OWadQZP3Mlsm4FYGd5WIOLW6VzdizDZ6w6jJJAXOX7WwWOJptqFrJZQVbpB+H1WdiaF6AL98wpV/H6T581B3PnzcOcxBnCtFLRFgmYu+lM8I2qfy3B4ZWm7YJk/pGwYDcKA35/Mf8aFPofMPgsoR9u4cgnSZghc47p89fhQEFVgOazf8S1g6sxRwKj7LzNQTNhFhanXYQhEGfIuAyMGUg9XW3ZMiOgRpTixoPbV80z7adlPXBISFyMT/bnofwn/wogqoyYHxpwMW0xZnGFJfWNhBmYn3IM9wJxAOXHfu2XwBCd8Gf8qfwmrhZcQeHNMlQH0fxzVTqhHztlcJ//b/jxj2UoLrqKK5cv4/KVQly/q8ef7GwXEtx2CkJw+kGf9WNgkENQQCAfIB8gH/AnHyBg+AG1/ckh6LdQgCIfIB9w5AMEDAJGgE/RpM7vqPPT6+Qb7voAAYOAQcAgHyAfIB9wyQcIGOQoLjmKuyMRej+NXskHAs8HCBgEDAIG+QD5APmASz5AwCBHcclRaLQYeKNFuqZ0Td31AQIGAYOAQT5APkA+4JIPEDDIUVxyFHdHIvR+Gr2SDwSeDxAwCBgEDPIB8gHyAZd8gIBBjuKSo9BoMfBGi3RN6Zq66wMEDAIGAYN8gHyAfMAlHyBgkKO45CjujkTo/TR6JR8IPB/we2Bcv34d+/btw7Vr1yiwEdzIB8gHyAd86AN+DQyj0YiZM2cKe+AnJCSguro6qJzlwYMHwh3nHj4M0Dvt1eH4/LxLSkpQWVkZVNfddmT+ww8/CH7w22+/BbUd/vKXvwh2+PVXutOerY+o9dyvgcFVhfmGKfHxuHLlStB0GA7L2bNnC+efmpoaNOctd/xDhw6ZBwvfffddUNqgpqYGc+bMEeywfv36oLQB94k///nPSEpKEuywYsUK/O1vfwtaW8j7iNqPGxQwCgoKgsZJTp06JXQOCZjBpq54R5g7d67ZBjt37gyaay8PAmfOnDHbgPtCVVVVUNrh66+/trJDaWlpUNpB7hu+eEzAqCMt4ouLwr/zxIkTVh0kGNMy0siaB8rPPvssKAPEV199ZeUH33//fVDaIS8vz8oOt2/fDko7+CoeSd9LwCBg+G3HI2D8DgKGONOIgOEfM64IGAQMAoaf+gAf1REwCBjS6N4fjgQMPw0WlJL63VzspZRUvDkdQykp0RaUkvKN4iBgEDBIYfipD5DCsARFSklZbOFLpUHA8NNgQQqDFAYBwxIkCRgWWxAwHARt23UYwTStloBBwCBgWIIkAcNiCwIGAaNWWoiAQcAgYFiCJAHDYgsCBgGDgGHHB2haLc2SkoIjAYOAUStISs4hHSklZZkdQwv3aOEeny1Gs6RolpQUH31xpKK3nZGtLy6E7XdSSopSUtwnaB2GOLImhUEKgxSGE1gRMAgYBAxLkCRgWGxhO7hU8zkpDCdBW80LYftdBAwCBvcJUhikMGxjgy+fEzAIGHUqPV85KBW9CRiS75HCIIVRZ6DyRtF79erVGDp0aINrb7zxhnk7CF7sHD58uNvn0LNnT0RGRqJx48Zo0qSJ8HjQoEFu/x9f2e+jjz4y22D8+PEe/e7+/fsjLCxMOPe+fft69D98df78e19//XWzDbgfPP/8826fw8CBA8026NKli9uf9+X5S9/96quvWtlhxIgRbp9H06ZNBT9o376925+VfkdDP/L+0LVrV+H8b968WWcMloAtHQNaYSxZsgSMsQbZHn/8casO0rx58wZ5HvWx/5QpU8w2ePnll4Pu/LntBgwYYLYBB0bLli2D0g69evWyskO7du2C0g716U+2n83PzydgSCSUw+Kxxx5DZmYm9u/fLxz5PcJ527t3r7nt2bMHvO3evVtou3btgtQyMjLAW3p6utD4zXyktmPHDvC2fft2oaWlpYG3bdu2mRu/lwNvW7duFdqnn34K3rZs2SK0zZs3g7dNmzaZG//9PEBILTk5GfzOe7xt2LBBaCkpKeCN34lNauvWrcOiRYswYcIEob333nuYsiAZUxZtwAcLU4Q2OWk9JpnaxAXr8P78tUKbMG8teHtvbrLY5qzB+DmrhTZu9mrwNjZxldDenbUS78xcIbS3Z64Ab2/NWC60MdOXYXSC2N6MXwre3pi2RGivT1uMUR8vxmsfLRLaq3ELwdsrU5Pw8odie+nDBeDto2mW85/40Qy8OHkeRkyaK7TYSXPA2wsTxfb8+7MxfEKi0J57LxHPvjUVfGTN25NPPimM1OPi4jB16lShffjhh+CNQ4m3Dz74QGiTJ0+G1CZNmgTeJk6cKLT3338fUpPbl9uYKyCpjRs3DryNHTtWaO+++y7k7Z133sHbb7+Nt956y6qNGTMGo0ePFtqbb74J3vj/lnyAH/l7Ro0aJbTXXnsNUuMjcN5eeeUVoXHA8lE4H1VHREQIrXv37hg5ciRefPFFofG/8xYbGyu0F154AVLjSoY3rmx5e+6553zabBU3Pz9Xf5NtoHz66add/qyr3+Hv7+P9wNYOBAxTPUIOC965fvnlF/z9739vUO306dNWgeJPf/qTS7///v37AswEkKXvwhe3fsKRajTINnO25Y57yzZluHwOh8r+AzvSMwSQczsUFhbiv/7rvxpkO3funJUfGAwGl86DD5z4AEka0PAagNo2+M///E+42/7jP/4D9to333xjZYd79+5Zve/f//3fYa8dPXoUS5cuFdqaNWvA7Sd/37/927/B0/av//qv8KT9y7/8C9xt0kDYk+OPP/4opKAIGHYK1nJY8JFcQ4QFh5snwAgkWHDIeQKMQIIFD/CeAMMfYOFtOF2+fNkKGPwWrXV9x6VLl8zA5NkDfl/wuj4TaH/nYOKqVIIFr+dJj4NeYchhwdMIDRUWngAj0GDhCTACDRY8eLkLjECEBbeDu8AgWPyXoH546lMCBC/YL1++3Pw8qIEhwUKj0eDjjz9u0LBwFxiBCAt3gRGIsHAXGIEKC3eBQbAQYcHrZnJY8LVdq1atMr8WtMCQYKHVapGYmNjgYeEOMAIVFu4AI1Bh4Q4wAhkW7gCDYOEYFnwRaNADQ4KFTqdDUlJSQMDCVWAEMixcBUYgw8JVYAQ6LFwFBsFChAWfrWerLDgsgh4YEiwaNWqEFStWBAwsXAFGoMPCFWAEOixcAUYwwMIVYBAsRFjwadiOYBHUwJBgER4ejrVr1wYULOoCRjDAoi5gBAMs6gJGsMCiLmAQLERY8DVCzmARtMCQYNGsWTNhIVtDng3F4WCvOZpWGyywcAaMYIGFM2AEEyycAYNgIcKCLzCtCxZBCQwJFq1atRJWSwciLBwpjGCChSNgBBMsHAEj2GDhCBgECxEWfJcCV2ARdMCYP3++YBi+eRjfeiNQYWEPGEVFRQGzgpvDwJVmu3Av2GBhDxj8jnu+XsHNf5fazXYdRnZ2dtAvyuOrzPm2Nq7CIuiAwffC4Tst8j2dAhkW9oDB950KhO0+XAGF9B45MJampgXMdh/uBFvbhXvSVh/86IvtPtz57d58ry0wPvnkE6E/BOsKbg4Lvi+aO7AIeGBUVFRYbQfAVyryDQEDHRYOgdHA94aSQODqUQ6MpIULzSPKhrw3lLtB1BYYfIPKYIMFt5k9YAQzLPjW/+7CQhVg3LlzBzk5OTh06JBPGi/m8F1F+Y6Zjz76qDB9Vto1NpCP/D4e8l1K+Y6rT707C88v+zJo2kcJM8024PuC9e7dW9h9VtopOBiOfMM8uR/w+5lwO3BoBMP5S+fId2GW22HIkCGYO3duUNmA24Kn4p999lmPYKE4MIqLi60ukvyCqfGYb2ksUTTYjryoL9mYL8Thq9iDzQZ8623JBvzmR8F2/vx8W7RoYbYBn2MfEhISlHbgW7RPmzZNsAUfRMo30QtGv+DnzDMufLsPDgJXm6Irvc+cOWN2Vqnjqnnke/sHqzPw827bti34vTz4XfOC0Q589X6/fv3Qo0ePoDx/6ZpHR0cLfsCnkUuvBeORD6L4jcU4RIPx/G3P2V1YKK4w+D0Y+I171ISE/LvkwDhy5Aj4DJFgad9++62lU7zzGdi2/xOcLbKtYAc+miopKQnKxtNQPFjwCR/BagNeu5QCJk/LBKsd+P19uB04PF1VFfL3Kaow+Hzvhw8f4sGDB+DwULsdOHDA7CRnz54Vfgf/LcHQbt++bT53NjETbDeCszXvINiBp6eMRmNQNp6v50GCp+WC1QYHDx409wd+t8xgtQO/kyP3hdatW/snMDg0fNW4qpBGFQQMAkawBgkChhEEDHGwRMBwAiQCBhOBSQpDuPc0AYMUBh9AksIghWFXxRAwCBiMUlIghUEKQxoskcIghWG3JkM1DFMKjoBBwDASMAgYTkAh1UxIYZDCIIVhJGAQMMxFflIYTsBBwCBgEDAIGHx0TUVvKnrbrVtI6oIfCRgEDAIGAYOAYZlOTgqDFAbVMJytMaEaBqWkSGFQSkquJBw9JoVBCoMUBikMUhikMOpMR1FKilZ6C6vbSWGQwiCFQQrDkaqQv04KgxQGKQxSGKQwSGGQwqhjTyxah0HrMHig5I0W7tEsKckXqOhNRW8qelPR25xykAKD/EjAIGBI/kDA8GNgVN06jd2frMTihUuQnHYYV75Xb6dc/1AY/wBLLgKLvw6W4aPND31Zw9BfR+6eTVi9JAlJS9ch7VA+7hks6QGpEyt99CUwDKUFOJqxEasXL8D8pGVI2XEEV8rUt4H/rMMow40rBSgoKEDBlRsoU3kHZQKGXwKjCnkbR6N7E1MNgYnH0PaxWPHV93YVgbe3XPcZMDaWgU3+BGzIK2Atm4ubH7ZdDLYzmIBRgbytkzAoOtS8W7K4a7IOUQMmYGtehVNF4G2A+AQYhps4vPg19IqsfYe/0DaDEb+vCFUqBkv/AIYBRZtHoqXGFBeavISt5erCk4Dhh8D4/nAcHg0TnUIX2RExvbuhpfS8ywQcKFFeafgEGJ8cAAu3cyvYoAKGATcy3kEnnSkohLZA55i+iOkahTBToNB1GYc9twyqQUN9YBhQmPICmpnOV9OoJbr1GYABMZ3RIlS0iyZiEBadq1TNBn4BjDv7MK6TDKAEDN/d+0I+O0p67JNZUtXfYMmgxsLIMnxAAg7fqREUhf7iSvwhSgPGQtFn9hkY6iha11dx+AQYm0+ANdeBhbYH6zkWrHf34FMYlacwI0YnnHdEvw+x91u9KSjqUZgZh/4Rog88tuCiaiNsXwDjasrzaKbRoe0Li5Bz3QKGivxP8YYQNLXoNOlL6FVSGb4HRjmOxvdCqCnbIChOAgYBw3guEb356DLkEXx0vEqWfjIib8EAwWG0HSfhUJWyKsMnwODF5+3/aUo//RNs/IjgA0b5TrzRXAMW0hUfHCq3GUGXIWNMS2gYQ+ORW1CqUrBUHxg8zaLHrcLrKK1Vs9Eja0I7aBlD6PANuKOSDXwNjMoLizAonKsrHTr1jRHVFwEj2IFRg5trn0EYYwjpFodjBmsoGPPmoT+Hia4/5uYZZTCxfl991QX/vM+AYZ6xFKTAMFbh+rFtSM04i7u2wbKqAKuGNREg2vS1baoVPH0DDPu5+aqinXjLpDDavncwOBSG4VtsGBElDBS0bcdg26fvog1P1xEwgh0YRpyZFQMdHz0NXoHvamxA8P1mjOC1DG17TMyWqw+b93khXUXA8Ld1GPdwYsEQtOCBQhOJ2A1FMKg0uvYtMAy4kZWEt0cOx/CnB6BTU1MOP3wA5uZK6Tr7cPFm8d93CsOA4oy30U7Lr3sLvJByBWWZYwkYUt3An47q1zAMyE3ogRAOjGFrcMMWGPe34eXGHBhtMf5zAoawdYdZkSg0i8qX02olIBiKcWj2YETxoMG0aD08GXmVygdJKeD6Fhgl2DxSrOmJM8XEtEyPj3JQLtlHhaPPgFGWg7geYk0rfGASzlcaUUHA8C9lIUGLgCHOSGE+uad3sKakbECgL8D292IQIcwY0iJq6HwcvWvzHoUDpm+BYcS905sxa+LbePW5/mjXhBf9GVhoJ4xJU09l+QYYepxd8DiaCOfbE9OOijUtAoaTqa1S8PbFUX1gGHEusbeQktI9tQxXq21STeWbECukpDpi8iFSGAGvMO6exLLYdoI/8GJnu9gVOFWiLiy4yvA1MCSlw4/6gnRM7B0uQEPbaSKyKtSxhy+AUVWwDsP5BAjG0Kj3u1iakoKUlBSsnToYkXwAEToAUzLOoti21qXgAILWYTiBlfrAqMHtDcPRiDFo201Als1MKOPpmYgRit5PYnFBNRW9lU5H8f/vo5SUvmAHJvZtKhQ6mSYCMePTUKBXJzjKA7S/AUOARk4cuoXwyR+9MCPXMuXW9nd787kvgFG+ZaQwAcaSijMpfvnUWk1zvLGzzGY2nXJ+QsDwK2A8QHX+YjzBFydp22HsvlIZFO7j+Mc9hNFmSI8EnLKZQeWNmVHy/0FFb18VvQ0ozknCc9Fi3prpovFsUo6qo0jbQOtPCoP/tqq8BRggTD3vgfgT6hS+fQGMivSx6NquLdq2tWlR4UKdk2nCEd1vDFIvVREwfJGCsv1O9RXGAzyouYFNI1sII8vQbu8g7bIeDx5U4equSYjhBW/WBIOWfI1qL8yEkgPC9rHPgLGhFGxeAdjcfLDYQWK+uuX7YImXweYWgC2uUXdfKVUVhgE3905CT2G+PZ8V0wwDJm9AZlYWsqS2fxuWz0jE5tMlqgUJ1YGhP4fU91/DmPgUHLoq2wbFUIbCk58hfmgrYR2GNvod7ClVbjQtB6cvgCH/fuFx1W18fTwbmQufF2fLhQ3F/Nzrqk0t5r+BFIafKQweuKsvr8YzkabinjYMTSMbiSMKvmCrzwwcq7CpbSgAD58A45NMsCZ2tgaRS3DWCGzUPahSv1A9JVWJc7P7mWoWdtIPMjuEj9yMewrmquXBSm1gVJ4xLV4VzleHxpEtEBXVDBGhMt/QtsTw5EuoVMkGvgeGHkenda/tG9pojMuUQVVhexAw/BAYDx7U4Hb2bAxrY0pLmDpOq4EfIuOqQZamUg4cPgHG1jywji3AmAmWsgAp5nE1YI26g01+EPTACB22GkUqFTvVBobRcA1Z815GTJTc/yWAahHRaRgmbzqLEoWDoxyavgdGFfLWvoj2jWXQZBqEtRmKhSrVcUhhOIEFT0/5JCUlVwv3b+DMl7uwI30vss/dQJX8bwo/9gkw1Chiu/sdqqak1EmvyAOhK49VB4YEgso7KMjNxr70NHy29TOkZezHkQvXVF1/IdnH98DwD9+or8JYvHixmGZmDF988YVLN7KTlwqY/Im/PfY5MBSGgm3dQv6cgOGrord/BAYpUPKjz4AhgcMPjgQM0S/rA4zDhw+ja9euZmBkZGQQMORBtyE/JmAQMCRoEDDojnuSL3gKDA6LXr16mWHBU8yXLl0iYDRkSMh/OwGDgCEFCQIGAUPyBU+AYQ8WHBj5+fkEDHnQbciPCRgEDClIEDAIGJIvuAsMR7AgYPiw3qAEmAgYBAwpSBAwCBiSL7gDDFtYNG/eHEuXLjWnpUhhBBA0CBgEDClIEDAIGJIvuAoMe7A4duwYkpOTCRhKjPB9/T8JGAQMKUgQMAgYki+4AgxHsDh37hwBw9eBXanvJ2AQMKQgQcAgYEi+UBcwnMGCgBFAKShb8BAwCBhSkCBgEDAkX3AGjLpgQcAgYKi3RYe7K7S99X5a6U0L94wEjLqA4QosCBgEDAKGH6xCljqzUkdSGAQMybfsKQxXYUHAIGAQMAgYqm2zLgUtXxxpaxD7W4O4AwsCBgGDgEHAIGAEgQ9IkJYrDHdhQcAgYBAwgiBYUEqKUlK2wAgPD7faG4ovyuPrLDgUnDVV1mH89ttv+PXXX1Vvhw4dMi8yOXv2rCr3obCdreSr5zRLimZJSUGCgEHAkHxBUhji/WnEe5S4CgvFFcZPP/2EjRs3Ij4+3iftlVdeMQPjzTffxLJly4KmzZkzx3zuLLoX2NufBmfTWG7mtGTJEgRj4/eUlgJEMJ4/P+fRo0ebbcABGqx2kPxAOroDC8WBcfr0aZ+AQgKUNLKSjENH6a5ndCRfIB8Idh9wFxaKA6OoqMinwBg4cKB5VBHszkHnTwGSfIB8QO4DrtQsbOsZitcwrl69iszMTOzbt0/1lpiYaAYG/w3Xr18PmsYvtOQcs2bNwjfffIPCwsKgay1bthTt0HUoWOpfg7M98rRgA56aCkYf4Oe8c+dOc39ITU0NmjhgG/PeeOMNwQ6NGzd2Wty2BYX0XHFg+PK2rXSLVnFElZKSEhRTJ6XCnvzYrl07MVAMGB34M8IcrY7vPVKwQd++fYPWD+Sx4MCBA0E1AUY+8SYuLk7whaZNmxIwbOEkd5JgniVFwGBgBAwQMMQBFAGDgYDx+++1bhdIwCCFQQoDYKQwII8FBAwCRi1YcLUhdxJSGOLWAPJ0TTA8JmAQMLify2MBAYOAQcCwWbUuX7hHKSlKSfEJEJSSopQU1TDspKKkWoZ8VEEKgxQGc1QUDvTXKVw+1lsAACAASURBVCVFCsM0oCRgEDDszvgghSECklJSlJKilNQDc4wgYBAwzM4gnz5HwCBgmBUVKQxSGKQwas+KklJR0pFSUjRLihQGKQxSGKQw7Ba5JVBIRwIGAYOAQcAgYBAwCBg2s6Lk6Sj+mFJSlJKilJRlood88EjTamlarV2AyJ2EZklZOg8fcQVLI4VBCoMUBikMu4CQUlHSkYBBKSkCBgGDgEHAIGBQSsollUTAIGAQMAgYfgyMapTfKgTf1r1WKyzEtTt61NQR7G3rEZ48958ahgEl+TnI2JyMJQuSsCx1L84VV7kU7L2RNlMfGH8HW/+g7rbx7+rtnuvLabVVd5CXtRXJS5KwYNEqbNp3Btf16qdE5dkGn9QwqkvxNbfD0kVYvGoT9l+4DaMKccA2dtA6DH9bh1F9Fcue0olbajMxJSTdl0I4aiIxbOXXqFbYWfwBGGV5aUgY8Sia66ztoOv0HjJL1AkaqgNjWxaYzflaXX/JJ/ruD3hgVFzcjLF9myNEOmfhqEF4t5ew7PgdGFSspfkSGNXX9mDqYy2gldtBE4meY1JxUW8Z/dsGdyWeEzAaIDCGLL+k+OjCt8Aw4MaBeDzWTLqftgaNorqiz4AYtIvQIrTzRBwoI2CYZzEpvTWJDxSG4fY+jO9iGjhpmyC6ex/07dEWESHi4EHbaiRSr6inNH0GDMMFLB7UFBoOC00Yorr0QLfWTUzwCEGHtzJwq0Y9aBAw/BYYIeg2aQ++vnwZl6VWUICrt75XXF3wkYkvgVFxZhEGR4qw0LV+ClM35+JmpQgIQ+ktFJcZAjcltSMfrEUImPZxsMQqsOQ/Wtrqi2DtQ8FYCNhz+QGsMKpQsGwwwhiDJuJxJHx5A1WCmjCg+MgcDBYGEiHo/tEx6FVSGb4CRtmu0WilYWC6Lhi95Rvc55kFwzUc+PgxRAqvP4KPj1fZ3a2BFIaT4C7NbPLmUe4kqk2rNaekdOg147TiSsKRU/kMGJUXsHBgEyElp41+ESmX9KrBwV7NQ/WU1O5/gq04DzbHUBsIq1PAtBowTRewOf+39t+VUhqqK4wK7H2nlTCqDh+5BfesoFCO9DeaC38LfS4Ft63+ppzqlMcC9WoYVcie2EFQE42eWYsbciVRlYvpPUPAmBYdJmajSuEUtRQnSGE4gZDcSdQHRgg6jVqINfOnYdL4cZgQNwfJe/NQIncaBZ3EV8DQZ09GZ5520EZj9M5iVfPU/gEMOADBP8DeeEqsbbWcAbbD0fsUeF11YOhxJK6bULvQ9ZuNs/Iid9UlLBoYBsY0iBy1HaUBDYz72DGqqXCurd7NtIECh0l7ASa63ok4Z1QnLUXA8FtgWBd6xcKnDq2HJiL7do3iEtQ3wKjE2cQ+0DGGkG6TsDV9HsYMeRTtWrVE2+6D8HpiOi6pVLuQ4KG+wnAQ8NMrwLpI6ajLDqDi4LP1VR6qA8MI/cnpiAnlfaAxur44A+t3ZiIzIxWzX+mOcJ7P10ZjTMZt1dSnfPCopsLImdJZgELoU8vwbbUFCjXF2/F6G604gAh/GdsqLH+T1IASRwKGvwGj5hbWPcNHULyzhKFlj6fwwsuvIHZgJ0TwnCXToPkf1qJA5jxKOIZvgFGB3W+1FNIN2qaRiNDaQlOLqKGLcFJFaPgNMFYkm9JRXcHmqpiO4rDxATCMxlKcmPMEmgo+b+sHoXhk/B5cNyiXgpIGDNLRN8B4gIoD49CW94OQ9nh5fR4qHjxAzb0TWPSM2E+EOBE6GCu+U34QyeMMAcPfgPGgBqUnUzAjfjHSviqGwZx2qkJ+yotow51H2wmTDytb6PINMMqxY1SkCZY8SISg5RNjkbRuLZLGDkALASChiJlxUrVip38A4x9go540paNmqpuO8hUwyk4iaXALcXaQfDqp6XGTmCnIvKXe5AdfAeNBdQHWvyDBIRTNO3ZD+0ibafe6QVj6bbXiWQcChhNY8OK53ElUq2GYAWFHYhpOIb4HL3Tp0H9unqIO4htg6HFgfLRpyqAGLYYtwZlyaRRZguwp3YV0lbbjJHwhz2srmMf2C2Ckl4F1NKWjhl9RNx3lE2BU4ULSE2gkpJ5aYfC0z3Cy8C5KbpzHngUj0FFIVYWg25RDqFDw2kvqgh/lsUC9lJQYA2pKjmNxbCfRHiZgaiK646WXB6Apfx7+EraW24kXzmKJh38jheEEGnIn8Qtg1NzEmmFi4OgWdywAgVGFrxc+IUCBhfbDnLOVVjlq/ZE4dOMF8dCnsfqaOqNLvwDG8lVgXF1puoHNUzkd5QtgVBVg6SA+itag1ahtuGWVeipHztRHhIJ4SLc4HFVp4CCPBWoDQ0w561F0PB0pK5ZgeUoGcq8VIDVWnC0W9tRSXFE4RS2lvQkYDQkYVYfxQWde6NLh8YX5AQgMI/SHp6ALh0LII4g7Yj2lVv/FRHTkgTP0aay5HizA+AfYqwPEdFSrRPXTUb4ARuU5zO7LgaFD/3kXTWswJKVpxJ0Nw4U1Gtq243EgaIAhUxA1pTgxfwha8PqOJgovbb6hynZBlJJyAgufpKRqbiF97COIav8UJqw7gmv3JSepgf7aKWx+v69Y+NY9ium5hoAEhlF/FB9152k3DSIem4bMqxWCytAXZWPO0Cghpx3S/WMcVylQ+FxhpN+xLNYb/q366ShfAMNYiowxYt5e12EkVuQUmWpWlbh9djPG9mwkALTJM2tQaKU+LFCRp5O88dhnCuN+EXIP5+K773mN4j5u5G7HnJcfEWeKMS3avPgJrqg0pZaA4W/AMF7CwselGVJ8dWdjRLaIQvOmYbL9dHTo9I7y2wH4pobBO7wBRdteR1vTFhBMG4amzSLRSHquaYkRGwpqjTq9ERTs/Q+fA2PFGlM6qjvYvP8JEmAYoc+dh8cjpNlRGoRGNEfzyEaWfhD6CCYduGOVsrR3/bz1mm+AYcDRqV3Fc9Y1QdMmOtkkgDB0HLkSp1WqXVBKqg5Y+ERhPHiAqqv7MOeVPmgpFPakDiMeQyK74fnpu1BQJSkP5Y6+AwaHRglOrx2DmObWs0FCInti1PJjuK3SqJIHG58DY0M2WFQ4WK9PwdIVWmfBVYSz5pNptQbcOLQEb/RrhVBToVdai9Ti0Rcxa88V1WbKcT/wDTCqUZD6EtpabUYZgshHnsfUjadVW8QrwcLbCuPkyZMu7Rou372DyZ/422O5k6hd9DaWFeLM4f3YtSMNaTt24fPjl1CsAigk5/AtMEyphfIinP5iF9K2pSEj6xSulqpTt5CPSn0ODGeBXK2/+QQYUnqpErcvHcPBXduxPWM/ci7cUBUUki/IY4G6Re8aVHx3CgcytmPH7s9x/OvbNiu+lRs0SrFAfqxv0XvRokXmafMZGRkEDLlxG/JjvwCGSlMmpaBg70jA8NXCPQkY/nH0HTDUBUJdMas+wDh06BDat29vBsauXbsIGHUZvKH8nYAhBioCBgGDDyQIGCK4PAUGh0XXrl3NsODpxW+++YaA0VCAUNfvJGAQMMx1DZ+mpEhh1NVX1fy7J8A4fPhwLVhwYOTn5xMw1Lx4Sn4XAYOAQcCwwIoUhmcKwxYWvXr1MqsMAoaHy+2VDPye/m8CBgGDgEHAsI0f7igMW1g8/fTTWLNmDQHD1qiB8JyAQcAgYBAwbGOZq8CwBws+0zQ5OZmAYWvUQHhOwCBgEDAIGLaxzBVgOILFuXPnCBi2Bg2U5wQMAgYBg4BhG8/qAoYzWBAwAqhmYesYBAwCBgGDgGEbF5wBoy5YEDAIGKrt5WNvUZ0ar9E6DFqHQeswLIsHHQHDFVgQMAgYBAy1tufw5ffQOgxauGeKdfaA4SosCBgEDAKGLwO5Wt9NwCBgOACGO7AgYBAwCBhqBW1ffg8Bg4BhBxjuwoKAQcAgYPgykKv13QQMAoYNMPjWHvK9ofiiPL7OgkPBWVNlHQYvOhkMBtXb3r17zYtM1N7e3HZ2gtrPaZYUzZKiWVI0S8o27kg1DPHeJOJ9elyFheIK44cffsCyZcsQHx/vk/bcc8+ZgTFo0CBMmTIlaNq4cePM5x4WFobJkycHZZN3DPbCHARla9rG7AvB6gcjRoww26Bz585BEwdsY55Vf2AM7sBCcWDk5ub6BBQSoAYOHGh2EltD0XPruwGSPcge5APB5QPuwkJxYPC0SEJCgs+g8dRTT5mBwUfZ4eHhQdMaN25sPncpEOh0uqA5f+laS+fOj02aNAm68+d2kNuAhYWDhUUEXwsJNdshJCQkKP3A1hdcqVnY1jMUr2GUlJTgxIkTOH78uOpt6dKlZiehGoYln6vGgjl/+Y7o6GjBB3hKwl9+k9q/Y8iQIWI/6DzQ+b2/1SrC++J75uSbY4G6t2i1LJqzrSf44vn48eMFO7Ru3dppcdsWFNJzxYHhy/t8y/fAJ2AQMNQO1P7yfQQMgBEwwAFFwPj9d4d3fSJgiDnZlJSUoB1dk8IwgoBBwJDUDAGDgCGMHCSHkI40rVZUVAQMAoYwvZgUBimMutJdpDBIYRAwCBgEDEsdhRQGKQxSGEbH9RkCBgGDgEHAcFi3kKsOUhikMAgYBAwCBgGDgFHHPlhUw6AahjRLi4reVPSWapuUkqKUFKWkKCXldBYcAYOAQcBwAgopLUUpKUpJUUqKUlKUkqKUFKWkKCXldFQtpWMIGAQMAgYBg4BBwCBgOEnFScDkR0pJUUqKUlKUkrJbu5Acg4reVPSWoEHAIGBIcYGK3k7AQTUMqmFQSooUBqWkKCXlZykpI0oKjmHXruO4WWO5OBLVax+rcOv0bnyycjEWLklG2uEr+L6OFFPt/+H8e9RUGJW3v0ZO+k4cKTK4lCYSRr6Vt/F1Tjp2HimCwcXUijRidueoGjDcPB/99Vzs2bQaS5KSsHRdGg7l31PMDqopjPR/A0vKBVv4iwu74v4TbP0NsA/SwUZvAHs3E2zhn134HDx7j4pbgxhLCnBs1y4cv1njNAtQq0/rb+O7wqu4erUQ393Wu/dZF+MHKQwfKQxD8Xkc2LQIcWOeQ/8OkdAxhpDu8ThlcB7IH1TlYePo7mjCxNG/eK+CULSPXYGvvq/jsy46BXdERYGhv44z+1KRNHU0/tCvA5rqGFhId3x8XO8EGHpcP7MPqUlTMfoP/dChqQ6MhaD7x8ehb5DA8PB8KvKwddIgRIfKrz8D00VhwIStyKtwvGrdHVDK36scMP4f2PILYKMXgPUZBNaY33NCBzbylvOgvvk7sIEDwLQa85bjYj8IA+u5FOyT/3X+eU+2R1cSGIZinD+wCYvixuC5/h0QaeoP8acMrgf9mhv49OVW0JjiQpNX0nDfjf5eCz4OPkvA8AEwam5sxIhmts7uCjC+x+G4RxEmOIUOkR1j0LtbS/PzLhMOoMTBhXbVIaT3KQYMQxE2xDYzO7b55jxOgWFA0YZYNNPYBMkGCwwPz8dwAxnvdBIGF9xuoS06I6ZvDLpGhZnsqUOXcXtwy+BdaCgDjH+CTXoTrNY1rQMYGT+B9Y8ygUIL1rQXWNfBYK1bWV7rsRks3UMl4QgmSgGj5gY2jrDfH9wBRumB8egUYukfBAwngV1aN+Hto1I1jJo76RjdNgTaxm3Qa+irePvZzghxQWFUf7MEgxpzpwjHgITDuCOkr/S4uPIPiOIdL7QPZp9xY1TiBC7KAeMWtr8ZjRBtY7TpOQSvjHlGdPQ6gHFr+5uIDtGicZueGPLKGDzTKaQBKwwDPDmfylMzEMNHnywC/T7ci2/1JjDoC5EZ1x8Rgg88hgUXq5woNfdhohgwpk0C04aANesP9uQUsNZcNdYFjB9FYGg7gb1VJAPD/wWbOlFUHZpHwOb9j3dVhmLAuIP00W3F/tBrKF59+1l05oE/pDtcBsb9E5geY7kjIB9MEDACCBh8FF9zvxzfC+mnGtxMfhqhdQLDiHOJvcXU1SMf4XiVLP1kzMOCAdxhtOg46RCqnIBAUhB1HRUDBk8fGcpxr0RMPxmKVmMYT684BQYPcgaU3ysR00+GIqwexs+3Iaek3D+f8p1voLmGIaTrBzhUbhP4yzIwpiVXrY0xcktpAwAGVwD/BPvs/4iBPeMXsF5hdQODK4Adv4Nt/HttIOy4DBbFBxKNwCb9e+2/O1IPrryuFDB4X625j/LvxYFezc1kPG3qD64Bw4hLS55COM866DqjX29RrRAwAgwYloDtIjBqbmLtM7xDhaBb3DEYrKBgRN68/gJMdP3nIs8og4nV+1x/XVFgyGoOrgNDFiADAhgenE/VdRzbloqMs3drFbirClZhWBOuPpritW1lDQQYsrSRO8CwG+D/Fyz+Q5PC6AQ2p4EoDJv+6S4waoo24sUoPlDQot1b27FtbBshPUnACHZgGM9gVgyX7KEYvOI71Ng42vebRwi1DG37iciWqw+b91lA5RweBAwxoKsyS6q+ALx3AguGtBAChSYyFhvcmW0mg7e80C1/rExKSgYLDgBPgJHxEGzMVLB+r4F1fcRUBNeAdV0PttPm/9uFjBvvUVJhyPqoW8CouYc977aHljFoWsQi9Ts9DowjYLg0Bdbb9Qv+/5SqYVgHbRcVhiEXCT243A7FsDU3agHj/raX0ZgxaNuOx+cEDK+NsP0dGIbiQ5g9OEoIGkzbGsOT81DpAgTkQKjrsd8CY1s2WKjN5BFtX7Ck//ZuOorDxg+BoT/2MR4ValrhGLQ4D8YHVQQMJUDg6v8kYIizLpS8pzelpHhNx7OajL5gO96LiRBnSGmjMHT+Udz1Miw4TPwWGLv/E+zD1WDDxoF16Qym4fDQgLWeAvbJP70LDX8DhuEiFj7RRJgZFtorASfu84wBAcNn6sLvFIbxHBJ7i7NInlp2FdUyGcsVS/mmWDEl1XEyDpHCCHiFcffkMsS24/7Ai53tELviFEoUgIV/A0OeUvofsPhZYI04NELAhhcEMDCqUZjyvDABghf4+4xdgdTUVKSmrkfckEhhABH22FTsvnCvVibCOrvhPC1t7720DsNJbcSvFEbNbWwY3kgsbk3IspkJZcTpmTFi0fvJxSiodt8RbJ2Dahj+WsPQo2DHRPRtKqZiNBExGJ9WoOjiRf9VGHJg8Mf/A/ZiLxGiHVbKptzavs+D536lMO7js5f4BBgxA+DoqGk+Grv09Y8F8thAwGgowHhQjfzFTwjTb7XtxmJfqcwR7h/Hxz34aDMEPRJO2cygkr3PRpXIHcH2MQHDD4FhKEZO0nOIFvLWDLroZ5GUU1xrxlRdNQl3/95wgPG/YKOHiIG03VLvFr79ChhV2DWuG9q3a4d2Nq1lOK9zMmjC26L/25tw2QuDR3lsIGD4CBj6a+dw7FA2srO/RHqcOCVW2+FNrDvIX8tGTu4VlNpc7JobmzCyBR9ZhqLbO2m4zEcPVVexa1KMUPBmTQZhydfVrm8n4AQgigKjrBCnc75AVlYWDm7/EP14ANR2wOtr9guvZWWfQP4d28VnZSg8nYMvsrKQdXA7PuzHAalFh9fXYD9/LSsbJ/LvoMrLaRnlit5uno/hJvZO6inOt+cBodkATN6QKdpLOP8s7N+2HDMSN+N0iWzKrhfsoRww/j+w5UVgcwvA5pwA6yKurWFP7QKbexls7lWwtTbrKVZ+DjbwA7CJhWA7ZEoh7SewuKVgkeKCTvb0uYaTktJfw7ljh4R+/2V6HPqb+sOb6w4Kr2Xn5OJKqfN+XV1SgFM5n2NxrDhbLmxYEs4UV3klFhAwnEBCXhBXKiVVcyMVsZFiSsGRnGQsDH3nnIHRKqhX4/LqZxBp2k5BG9YUkY3EEQVfsNVnxjFUWL3fM3XBHUQxYBiKkPK8mGd1fO4MoX0SkVspBT4DilKeN5+3w8+F9kFibqXX6hd8JK4MMDw4n8pzmC1A0nkagu8CMHLzPa/aQBlg/BNs4ut2tgaxOT/dk2DL/mEK/v8AG/WEKRWjAdOGg0W0AQuPNBW8+Wc1YE1fA0uWPiODSn2m1iqlMGpuIDW27v4Q1ncOzjhaX2U4gQQhw2BtO2/NmCRg+BgYD0o/x9Te4oaDjoJfSHhnjNpUu7j9oOY2smcPQxtTWkL4vK4VBn6Ygat1bVzoBkwUA4bxDjKnxIgbrDnKwYaEo9NrqSiokoBhxJ3MKYiJNBV57X4uBOGdXkNqga0ysfwPd1MxygHDg/NxGRihGLbauzv4KgMMgCXOA2tivaWFdX/QgbUeD7ZetpngxstgTzxmZ+NBBqaJBOs1B2yFafV4fQBh+1mlgPGgFJ9P7V1nf+g8ahOu2mQczIG8Oh/rR3ZAY60MGJowtBm22DFk3IgF5u958ADeTEldunTJ7UlNTD6i97fHSikM+QXw9PH9G2fw5a4dSN+bjXM3vC89lQNG/QK4J0G/Pp9RRmE0LBsoBgzboOzO860/gM2/APbxEbC442CJ18E2KrD+QvpNigHD8yyAp7GjPp/zJjAyMjIIGPW5GP70WQKGGNQJGCqtw5ACs78eCRhCPaS+wHj11VfNs7sIGB7KPH8ChfRbCBgEDEmZ+aXCUBssBIx6AyMuLs4MC556PH78OCkMKeA29CMBg4BBwJAVzAkY9QKGLSw4MPLz8wkYDR0U0u8nYBAwCBgEDCkeSEdPUlJWsAixLDgkYFBKyqvTOaWA5csj1TCohsF4+osUhkcKwwoWYRFgr640p6UIGAQMAoYXFsr5EpD2vptqGAQMTxRGLVgknAIbn07AkIwZSEdKSVFKSoIHAYOAIcU2V1NSdmGxvISAIRky0I4EDAIGAYNqGLZxzRVgOIQFAaNhLbqxvfjOnhMwCBgEDAKGbYyoCxhOYUHAIGBIQSVQj1T0pqI3Fb0tcc4ZMOqEBQHDYkhbEjf056QwSGFIgwCqYVANQ4pnjoDhEiwIGAQMKagE6pEUBikMUhiWOGcPGC7DgoBhMaRE4EA5ksIghSENAkhhkMKQ4potMNyCBQGDgCEFlUA9ksIghUEKwxLn5MBwGxZqAIMHoosXL+L8+fOqt+TkZPMik7NnzworHSXSBvqRFAYpDGkQQAqDFIYU7yRgWN23hK/g5ovyOBDqakou3CsvL0dCQgLi4+N90l588UUzMPhtU0tKSoKm8WX7klMsXLhQuAMfh0iwtZYtWwp2GDRoUNCdu3Stn3zySdEXWnYD+/TfgrNNO2XuD1u3bg2aOGAb81555RWzHYT44A4slFYYubm5PgGFBKiBAwdaG8fund5kd7miv5O9yAfIB4LFB9yFhdLAqKqqwqJFi3wGDQIGwVBSWXQkXyAfsPEBV9NQ8jSVkikpfsvWv/71r4L8u3fvHtRu8hrG9OnTsW7duqBp8+fPN48U+/fvj9deew0LFizAmjVrgqo1adJEsEOXLl2C6rzl17lt27aCDVq0aBG0NpgwYYK5P7DnZoK9tys4W89Y0Q5cXchB4OpjpYHhy/t8+/M9vaUilFJHKnqLRe927doJHWTEiBEBtxOvVNSu6/j0008LNujbt2/Q2kAeC9jMCxBmTql91z9/+L5Y00CycTMChi2c5E5Cs6TEAFpXcAm0vxMwjCBgGCGPBQQMBkbA+L3W7QLlTkLAIGAEGgxdPR8CBgHDrKhIYdQGhaQ0CBhikSslJSVoUxGkMEhhcLDKYwEpDFIYtdQFh4bcSUhhkMJwdUQeaO8jhUHAIIXxu2NlQQrjgbBITZpGSAqDgYreDFT0Nk0rpaI31TAkSMiPpDAoJUUpKUpJUUpKdiMpqmE4VhoEDAIGAYOAQcAgYNitWcjVBX9MwCBgEDAIGAQMAgYB44Fly2J7i/9o4R4t3JOK91T0pqI3Fb2p6O10u3YCBgGDgGGZGSjPNtC0WppWa1dxyJ2EptVaOo8USILhSCkpSklxP5fHAgIGAYOAYZOiIoVBCkMaEFBKioBBKSm/SkkZUVJwDLt2HcfNGie1hepy3Cq8iqtXa7fCwmu4o69xmmayV6tw9JqawKi8/TVy0nfiSJHBvRXlhhLk52Rgc/ISLEhahtS951Bc5V0lpJrCqLyNr3PSsfNIEQxGB+dQegMFBQV1tuulbtrR0feZXlcNGK7YQPZbq+7kIWtrMpYkLcCiVZuw78x16GV/l4DnjaOqCuNTI1j8KbBP/unaJodbK8E+TAcbvRFs8nmwzf9w7XOebGZI02p9M63WUHweBzYtQtyY59C/QyR0jCGkezxOGRwDo/rqMjylMy0esnOTFk3kMKz8utor0FAUGPrrOLMvFUlTR+MP/TqgKT+nkO74+LjeRWCUIS8tASMebS7YTVpgyJgOnd7LRIkXg4ZywNDj+pl9SE2aitF/6IcOTXVgLATdPz7uMOiVbIxFqJ3rbjl/7huhGJ5yx0U7OgCTjf2UA4b7NhCDfwUubh6Lvs1DLFuOc7towtHtpWU4fse7wOTfqSgwdv4GNvNzsBGTwbp0BdNqwLS9wRb/vzoC//+CJcwDi5DbQQPWuB/YxO/r+Kxs5pM74CBgqA+MmhsbMaKZxtrZvQKMIVh+yejfwDAUYUNsM2hsA5+rwDDcwIH4x9BMYwKnphGiuvbBgJh2iNCGovPEAyizCXj1GWEqAwwDijbEWs7BbItgAoZnNjAaDbi9bzy6mAZO2ibR6N6nL3q0jUCIYEctWo1MxRUvK03FgJHxM9iAqFqxwCVgrNgI1lgLxjRgutZg7XqBhZngoe0KNu1X70ODgOEDYNxJx+i2IdA2boNeQ1/F2892FpzdZYUR0g2T9nyNy5cvm1tBwVXc+t476oKnqRRTGIZb2P5mNEK0jdGm5xC8MuYZdApxVWFU4MyiwYgUYKFD66emYnPuTVQKgDCg9FYxygyujZpdhYhSwLi1/U1Eh2jRuE1PDHllDJ7pxDu6c2DoD76HtloGXUwc9uddwqVLlpaX+SF68iCqbY8JBysagMIwwBMbGKsKsGxwmBAkIx5PwJc3qsRzNRTjyJzBIoRDuuOjY66qVdf8RTlg/A42uKOgjlj7ILerqgAAHEZJREFUF8CGvgSm5dexLoXxH2CD+Y2tNGCtJ4Kt/m8RDhsugnVtLr4evRBsh4dKwpHqIGCoDwwekGvul+N7If1Ug5vJTwupBpeBoeuFGae9oyR8UsMwlONeidihDUWrMSzUNWBUXliIgU24stAi+sUUXNK71tldhYO99ykDDP67DSi/VyKmnwxFWD0stE5gGA23cXZvGg7mldgAoQoX5w0Q0nPa9hNwsMK7dlEuJeWBDSr24p1WXJ2HY+SWe9Z2KE/HG83530LxXMpt67/VU3UqBgwemDP+G2ybKf30SToYH0DVBYwdl8Gi+CCjCdh7P1sricVLRehouoDN/R/rvzkCgauvEzB8AwxLoPYAGCGdMGrhGsyfNgnjx01A3Jxk7M0rQY3NTCfLdziuizh6j2IKw6bjug4MPbIni0pMGz0aO4u9n6dWFxiyoO4qMGxsZ/69lRcwtz+vgWjRYUIWKhy9z8PXlQOGBzbQH0FcNx4odeg3+6xVvafq0iIMDOO1jEiM2l7acIAhD9auAmP7MbDGGjBNW7AZ/9caCmaYhIK9Wmr9N/l3efKYgNEAgWHOecsK4LrWGJqYjdvOZlm5ARS/A0blWST2EQvD3SZtRfq8MRjyaDu0atkW3Qe9jsT0S16tXUjBWDmF4UGwdBDwK8/NQT8hHdUB72d5Nx3F7eBXwDDqcXJ6jFj8b9wVL85Yj52ZmchInY1XuocLtQBt9Bhk3JbZ14HdpGvsylFRhSEP3K4CY8dVsNYcnGFgb/9JBoV/gn30HpiQttWAPX5Y9jcvpKcIGA0HGDW31uEZPoLiwAhriR5PvYCXX4nFwE4RYhFZ0xx/WFuAajfA0GAURsVuvNWSpxu0aBoZAa0tNLVRGLropNeh4f/AqMTZ2X3FdFSH95Hl5XSU/wHDCGPpCcx5omntiRPcJ0Ifwfg91x1PTfYQHn4HjN1/B3umo1iriHobbOXfwXb/E2zhJ2BNeSHcFCce/QwswwugkKBGwGg4wHhQU4qTKTMQvzgNXxUbLLOhqvKR8mIbIYhqO03G4Sr3U1C24PA7hVG+A6MiZYoqpCWeGJuEdWuTMHZACxEgoTGYcdK7xU6/B4ZZeWnR8X3vp6P8ERhlJ5MwuEXtWYZikGyCmCmZuOXlyQ/+BwyAJe8xwUEDFtISLLqzOCVXggU/dt9CwLDdVVap53InUW5rENdrGLZBXf7ccCoePXixTNcfc/PqXxD3O2DoD2B8tGnkpGmBYUvOoFwaLZZkY0p3MYffcdIXVnltV9INzt7j78CoPDMLMUI6qiMmfuH9dJTfAaPqApKeaCSmnloNxrTPTqLwbglunN+DBSM6iqmqkG6Ycsi7tpDHAkW3BnE1JSWM+Lmi2ATWqolFUTAtWNu3wLo2E9XH49mUklIKELb/V+4k/g6MmptrTLONuiHumEx9eJie8jtgVH2NhU9wKDCE9puDs5XyHLUeR+K6CVOTQ59ejWteHF36NzAqcXpmjJiO6jgRXyiQjvI3YFQVLMUgDkhNK4zadss69VSeg6mPiNOTu8Ud9erAQR4L/AcYplRT2l/Apu0Fe2sr2LRisORMsHA+uGoE9nYNAcM2sCv1XO4k/g6MqsMfoDOfv617HAvz678ew++AYdTj8JQu4nqVR+JwxGpKrR5fTOwopKVCn16D68ECjMpTmNFLVFadJn3h9dlRkvLyp6J35bnZ6MuBoeuPeRdNazAkpWm8gw3D+RoNLdqOPxA8wJDqC/y49QZYz1ai4oh4y/XtReT/w9ljqmH4poahv3YOxw5lIzv7S6TH9TcVLd/EuoP8tWzk5F5BabWlFlFzKx1jH4lC+6cmYN2Ra7gvKYcaPa6d2oz3+4qFb92j05HrZHsReRrL2WNFgVFWiNM5XyArKwsHt39onuHz+pr9wmtZ2SeQf8c2GBihP/oRuvO0myYCj03LxFVhRK1HUfYcDI3iOW3nC9+kAOjOUTmFUYbC0zn4IisLWQe348N+YuDv8Poa7OevZWXjRP4dVJmDoVxRiY8rTyaYFut1wqQvvVu7kdtIOWB4YIPSDIwRJj/o0GHkCuQUmc678jbObh6Lno14nasJnllTaK0+nNhRfq6OHssHj15XGGk/gSVdAZt7GWzafNMaiq5g710Cm1sANr8YbOv/1lYKKcVgi/8s1ii2/wz20Rqw6KYiLDTtwSZ5WV1wkBAw1AdGzY1UxEY6KtpJhd0w9J1zBkYTGIyXFuJxaYYUY9A1jkSLqOZoKm0FwAtcuk54J+OWV9ZjKAYMQxFSno+0P8NFVqwL7ZOIXKu0kxFGQxG2vd7WtAUEgzasKZpFNjI/17QcgQ0FtUHjKAi48roywDCgKOV504p16XrbOYb2QWJupYP1BJU4m9hHHGh0moQvrRRXbbi4cq6O3qMMMDy1gR658x5HhOQrmlBENG+OyEY8FSXaMPSRSThwx7s2UAwYfGuQ/i3Mv106B+ujBqzTGrB02Wynnd+BteGDDA1YWDMwrWxmlK4b2Ng7tQHjTDm4+jcChvrAeFD6Oab2FjcctHYMS9AICe+MUZuuyqbIVuHqvjl4pU9LOxvQhSCy2/OYvqsAVZLyqOdRMWAY7yBzSgwieVpB6vS2x5BwdHotFQX29gMqOY21Y2LQ3OrzIYjsOQrLj9326qiSB1BlgGHEncwpiIkUazL27RCC8E6vIdUhAA0o3DwK7RtHYeiSs6btUbwbJCWAKAOMetjAcAOHlryBfq346niZH+la4NEXZ2HPFe+rLcWAsfvfwWIfrz27yXxefCPCpmADP7ee7ZRhBHucT6uVnb+2BVjfeWBL/k0ZWHhZYezdu9fubSWclRiYsz/6+m9yJ1GuhmFJOzlLEVn+ZkRZ4Rkc3r8LO9LSsGPX5zh+qdhroJC+RzlgeCeolRedxhe70rAtLQNZp66i1It1CylQKgkM+Xf4+2OlgFHv8668jUvHDmLX9u3I2J+DCze8DwrpN8pjgddTUq6O7m3fl/F3sMUXwT46BpZ4DWyzl7cBsf0+LwMjIyODgCEF3IZ+9HdgSB1Z6aNSCkPp3+3N/++3wKhnXcIdG/klMOwFdKVfq29K6rnpZlVEwKhnGsifIEPAEJUQAUOlrUFUDP7ugEJ6LwHDVD+pDzDe3QamtaRh+eQed7NIlJLyU8gQMAgYUrAkhaHwDZSUVgXe/P+eAsMGFrz2kp+fT8DwJ5VQn99CwCBgEDAs9TZSGPVQGDJY6HQWhUHA8FO14Ak4CBgEDAIGAYPZqhN3FYYMFmFhYZg4caK5hkHAIGA4WDNg6XhSEGooR6phUA2D+yopDA8Uhg0skpOTsWrVKgKGJyN4f/8MKQxSGBLUqYZBwDArDVcVhh1YfPXVVwQMfw/8nv4+AgYBg4BhUcakMNxQGA5gQcAIoBSULVgIGAQMAgYBw6wspFpGXQrDCSwIGASMgKtZSEFSOlINg2oY3BdIYbigMOqABQGDgEHA8PMFZxL46nOkGgYBw6w0HCkMF2BBwCBgEDAIGAHvA6QwTOqCp6XsAcNFWBAwCBgBHywoJUUpKQKGE2C4AQsCBgGDgEEKI+B9gIDhABhuwiLggXH48GHzIhP/2d7c3e3QPXs/zZKiWVJS3YNqGFTDqFXD4PfhMG0kyFdw80V5HAh1NUUX7v3yyy/gN9lYuHAhFixYoHqTOgrfKIuAYZliKAWSYDhSSopSUqQw7CgM042b3IGF4grj/PnziI+P91kbOHCgWWFwaISHhwdNa9KkSdCeu/w6y+9oJn89mB6TDcKt+oJgj0ZNwYKxye7w5y4sFAdGQUGBz2DBQWULDHnHoceyW0PKnIjsQnYhHwgOH3A1DSVPUymakvrb3/6G06dPY8uWLdi8ebPq7Z133jGPLN5++20kJCQETZswYYL53Dt27IjHHnsMb731FqZNmxZULTRUvG90mzZtguq85de5efPmgi9wVfXxxx8HpR1iY2PN/WHkyJFBaQPuEzExMYIduE/IQeDqY0WB4e7dmLz9fvnqTqphBGcNIzo6WuggI0aMCIrZQPbqUkOGDBFs0Ldv36C1wcGDB83A2LdvX9DaYdy4cYIdWrduTcCwBQ4BQ5TWKSkpQdtBCBhGEDCMIGCIA0YCxu+/O7xNIAGDgEHAIGBw1UXAIGA4BIWkNAgYBAwCBgGDgGFJR5PCIIUB263N+XNauCd2EgIGAYOAQcCoU11wlUEKgxQGAYOAQcAgYBAw6tgHixQGKQweKHmjojfVMCRfoJQUpaQoJeVkA0FSGAQMUhikMEhhkMJwaaowAYOAQcAgYBAwCBgEDCfKSkpB8COlpCglJfkDpaQoJUUpKSeBkxQGAYMUBikMUhikMEhhOAGlNKIkhSEGS1q4J9qBFIaPFYah+Awyt6zFskWLsSJlJ45cKUdNHcH8wYMq3Dq9G5+sXIyFS5KRdvgKvq/zM+7dSEmVWVL668jdswmrlyQhaek6pB3Kxz2DZTQjD1q1Hlfextc56dh5pAgGFwNfrf/hwueUVxh6XM/dg02rlyApaSnWpR1C/j1DnTDTX8/Fnk2rsSQpCUvXpeFQ/j3F7KB8SsoTGxhQWnAUGRtXY/GC+UhaloIdR66gzIVr6okfqAKM+vQHft5lN3CloAB8l+8rN8rq9CFP7EDA8BUwqvKR9sFTiA4T1zqYt4TWtcRjE9OQX+UgwFflYePo7mhitaV4KNrHrsBX3zv4jAcwURYYFcjbOgmDosWdYM3nznSIGjABW/Mq7Di7HtfP7ENq0lSM/kM/dGiqA2Mh6P7xcegVChK8QykJjIq8rZg0KBqhVteSQRc1ABO25qHC3nlV5GHrpEGIDrX1mygMmLAVeRUuAtfe/3bwmpLA8MQGhpuHsfi1XogMsbEBC0WbwfHYV1Rlx3/qZxdlgeFJf7A5H0MRNo9sCY3Jl5q8tBXlDq6nJ6CQPkPA8AUwam5j99hO0JkubliLLojp1xvdWoaZLrgOXcdn4k6NLQC+x+G4RxEmfE6HyI4x6N2tpfl5lwkHUOIBHNRd6W3AjYx30Eln6uyhLdA5pi9iukYhTCO+pusyDntuyUfZBhRtiEUz098tgGm4wDDcyMA7nTj0+DmHokXnGPSN6YqoMI34mq4Lxu25Za0aDDeQ8Y7Fb0JbdEZM3xh0jbL4TZdxe3DLVZXmYkBRChie2aAQKS80M/UTDRq17IY+AwYgpnMLE3g1iBi0COcqbQKqi+cqBUbbo3LA8KQ/1D63O/vGoZMMoAQMJ4Fd2vvJ20elVnobT89CjBAwI9A/bj+KJDVhuIYDHw1AUx4YQx/Hwq+rrQrS1d8swaDGPMCEY0DCYRNQ9Li48g+IEj7TB7PPGKw+Yw8GrrymmMKoPIUZMWKgjOj3IfZ+qzeNBvUozIxD/wgeMEPx2IKLqDJ3cgNubX8T0SFaNG7TE0NeGYNnOoU0YIVRiVMzYsQBQ0Q/fLj3W7NK0hdmIq5/hBAQQx9bgItVluBQeWqG2W/6fbgX3+pNf9MXIjOuPyIEH3gMCy56d4StDDA8s4HRcBUpzzeDRtcWLyzKwXUzGCqQ/+kbYtDUdsKkLyW/stjPFgLuPFcMGB71B5tzKj+K+F7Wap2AEUDAuL9rNJprGEK6fYgj921UhH4P3m7Fg2ZjvPxZhSz4G3EusbcQZEIe+QjHJchwRWHMw4IB3GG06DjpEKq8oDIUA0b5TrzRXAMW0hUfHCq3SR2UIWOMKKsbj9yCUjMweAcxoPxeiRhYDUVYPYyfb0NVGOXY+UZzaFgIun5wqFbqoCxjDFry4N94JLaUWoJD+c43RL/p+gEOlVteFwJfWQbGtBT9ZuSWUhu72rzXyq51/00ZYHhmA+Fc9bdQeL3UWn3xc9JnYUI7rTDgGL7hjldtoBgwPO4P0nWrxIVFgxDOlaquE/rGiOqLgBFAwHhQXYyT2zdhz4WyWgXu6sI1eLoJVxGRGLVDbwFGzU2sfSZMCJLd4o7BYAUFI/Lm9Rdgous/F3lGGwhZvde1vykGDGMVrh/bhtSMs7hrmzqpKsCqYeK9xJu+ts1xAbPBA8OIquvHsC01A2fvylNvPAhUoWDVMLFG1fQ1bCuTAoMRxqrrOLYtFRln79YKllUFqzBM8JumeG2bdwueygDDQxs4hF0Vina+ZVIYbfHewQaiMOrZHwzfbsCIKD5Q0KLtmG349N02gjolYAQSMBwF8PJcLBzaQrjgmsgR2HizxgIM4xnMElI5oRi84rtaoPl+8wihlqFtPxHZcvXh6LvqeF05YMgCoFXnv4cTC4agBR9ZayIRu8HJ7KcAAIajdMi9EwswpAUPABpExm5AkS1UrWxmsuW9E1gwRPKbWGwosoWQI5u79rpSwKi3DQw3kJX0NkYOH46nB3RCU1MOP3zAXORK6Tp79vLgNcUUhsPf4kJ/MBQj4+120DIGTYsXkHKlDJljCRgurZnwdv1C7d1qa+4dwdwhUcLFZ9rWeGH9NzDKg7ohFwk9eN4+FMPW3KgFjPvbXkZjxqBtOx6fNzRgGIpxaPZgRGm5stKi9fBk5Jlz03aCWkACw4DiQ7MxOIqnVBi0rYcjOa+yzrSKofgQZg+2+M3w5DxUOgxCdmzpwnvVA4abNijZjJFCTY/7janpeuCjHNtUp2fnLQeaqsBwsT+U5cShh1ALDcfApPOoNFYQMJQAgav/U6mit23R2VCYjvd7i4VOpm2JYUknUCaHBX8cqMDQF2D7ezFiwZZpETV0Po7eraODBxww9CjY/h5ihII/gzZqKOYfvVsnLPQF2/FejOQ3URg6/yjuugAAeSB05bE6wPDEBvdwevMsTHz7VTzXvx2acHXKGEI7jUGal1WWasBwtT/oz2LB42L6NrTnNBwValoEDJ+pC7UURtlXKzGivWl6pa49Rqw6bX8RnvEcEnvz9+nw1LKrqLYBSvmmWDEl1XEyDjUUhXH3JJbFtjNNL9ahXewKnCqpAxY8IAYUMO7i5LJYtDNNM9a1i8WKUyV1wuLuyWWIbSf5TTvErjiFEgVgwYGiPDA8s4E17PQoSJ+I3uGiSu00Mcv+OhYPbaQKMFzuD1UoWDdcmADBWCP0fncpUlJSkJKyFlMHR4oz7AZMQcbZ4lq1LmubudDXbOxF6zCc1EaUVRgGXM2YhH6RPF/NoImIwYSdV22K2bICdc1tbBjeSEjZtJuQZTMTyojTM8VpmronF6OgWvY5G7DYqhtHz5WuYegLdmBi36aCczNNBGLGp6HA1bxzoABDX4AdE/uK06iZBhEx45FWUFexVo+CHRPRt6nFb8anFZin5dY3INj7vKLA8MgGjgKdHjlx3RDCGHS9ZiDXWVrTJhDaO2/5a0oDw73+UI4tI/kEGFkqzs5jTfM3sFM+acLNc5afv/SYgOELYNTcw/HFw9FWGlW2/QMWHb9Xqy5hHcyrkb/4CWFxkrbdWOwrlUHh/nF83IOPNkPQI+GUY+i4AQ/lgGFAcU4SnouWRsfReDYpB8WuFHclhw8AYBiKc5D0XLRZXUU/m4Sc4jqK1YZi5CQ9h2jJb6KfRVKO90eRUnCQjkoBwyMbSD5g91iFvAUDxKnnPeJxwtUBiN3/ZQ0l5YDhSX+oQPrYrmjXti3a2rSocF7nZNCER6PfmFRckq3jka5nfY4EDLWBUXMb+z/oJc6b5he22QBM2XgA2dnZ5nZwx0rMmvMpztls9VFzYxNGCjNoQtHtnTRc1j/Ag6qr2DUpRih4syaDsMRmsZ81dGSQqQMeygDDgJt7J6GnkDbgs6GaYcDkDcjMykKW1PZvw/IZidh82jYtU4bC0zn4gr/v4HZ82I8DR4sOr6/BfuGz2TiRf0e22M+6w3vaSZTYGsRwcy8m9Qw3jRA1aDZgMjZkymyQtR/bls9A4ubTljST4Sb2Tupp5TeTN2Ra7JaVhf3blmNG4macdiWt50KQlGymBDA8soHRCP25VLz/2hjEpxzCVdk2KIayQpz8LB5DW/FJA1pEv7PHZh1P/fxBGWDUpz9Yn0/V7a9xPDsTC58XZ8uFDZ2P3Ot1qVXr/yFdb2dHAobawDDmYW5/0+jajoy0yMxwvLS13DKtVgjw1bi8+hlEmop72rCmiGwkjij4Qr8+M46hog4QuAoQZYBRiXOz+5lG1c7ldPjIzbhnDmoGFKU8bz5vi41s/kdoHyTm1j2zyFmHsP2bEsCoPDcb/UwqweG5cN8IH4nN90yduvIcZguQtDnnWj4UjpGb79VZA7E9T2fPlQCGRzYwVuKMafGqYDddY0S2iEJUswiECjPsRNtoWw5H8iXv+oEywPC0P9gEev1RTOteO6Zoo8chUwZVZ9fY1b8RMPwWGKF4Ovlm7TRVzW1kzx6GNvKAo2uFgR9m4KrBdQVRFzh8DYzQYaut1iDcyZyCmMjancIScEMQ3uk1pBZ4d1sMnwIjdBhWS7N9XAZGKIatdrKGxQxhm6Dj5HWfAkNuA6MRhmtZmPdyDKLk/i9BUxuBTsMmY9NZW3Xq+rk6Cpy+BoZtf7D6nVV5WPtiezSWQZNpwtBm6EKv1nH4dxIw1AaGlxTA/Rtn8OWuHUjfm41zN6pslEj9waEMMOrfca06ipMg5633KQEMb/02tf6PEsCo72+vvFOA3Ox9SE/7DFs/S0PG/iO4cM376y+k36kMMBpefyBgNFBg1KUQ6vt3AobYmQkYakyr9f/AScAQr1F9gTF37lzz7K78/Hy3l00wVxfR+eJ9yk6rrb8KqC8UnH2egEHAkEbX/qgwpN+m1pGAUX9gZGZmonXr1mZgXLlyhYDhLAg3pL8RMAgYUjAmYBhBwKgfMDgs+BRgqeY4e/Zst2HBRQMpDC/VNLwNIwIGAYOAIfoAtwMBw3NgeAsWBAw/hQWHDwGDgEHAIGBIPiAd3a1heBMWBAwChlfXC0hO7c0jFb2p6M39iRSG+wrD27AgYBAwCBgqTA2uL0CphkHAkHzIVYWhBCwIGAQMAgYBw+99gBSGJTXnCjCUggUBg4Dh98GCUlKUkiJguA4MJWFBwCBgEDBIYfi9DxAwXAOG0rAgYBAw/D5YkMIghUHAqBsYasCCgEHAIGCQwvB7HyBgOAeGWrAgYBAw/D5YkMIghUHAcAwMNWFBwCBgEDBIYfi9DxAw7ANDbVgQMAgYfh8sSGGQwiBg1AaGRqPxyt5QHALuNNpLyk+hQVuDiJ2EgEHAIGDUBoa0iSA/erqRoDugkN7bYIAxYMAAvP/++0HT3nrrLfPOknw08d577wVlk3eMYLVBZGSk2ReC1QbSanfuD3zX1WC1g7w/qA0LDo0GAwxbQ9Hzuu4tTX8nHyEfCGQfUFNZNAiF8dVXX6Fdu3ZB2XgqRqvVWjU+0gw2ezRq1EiwQZMmTYLu3KVrzc+d+0JoaCi4X0ivB9OxVatWgg10Oh3atGkTlDaQX29+5zwpiKt59GuFoaYh6LvcK36Rvche5APB5wMEDDdnCVAnCb5OQtecrjn5gOgDBAwChk+kLXVACsLkAw3PBwgYBAwCBvkA+QD5gEs+QMAgR3HJUWg02PBGg3TN6Jp52wcIGAQMAgb5APkA+YBLPkDAIEdxyVG8PVKh/0ejX/KBhucDBAwCBgGDfIB8gHzAJR8gYJCjuOQoNBpseKNBumZ0zbztAwQMAgYBg3yAfIB8wCUfIGCQo7jkKN4eqdD/o9Ev+UDD84H/H0kI6mgYawi6AAAAAElFTkSuQmCC)"
      ]
    },
    {
      "cell_type": "code",
      "metadata": {
        "id": "Qmcqppi8aCG7",
        "colab_type": "code",
        "colab": {
          "base_uri": "https://localhost:8080/",
          "height": 34
        },
        "outputId": "0b6a8e57-7f99-4da2-8eab-fd77c995fb27"
      },
      "source": [
        "blue = a[[0, 1, 2, 3],\n",
        "         [1, 2, 3, 4]]\n",
        "\n",
        "print(blue)"
      ],
      "execution_count": 28,
      "outputs": [
        {
          "output_type": "stream",
          "text": [
            "[ 1  7 13 19]\n"
          ],
          "name": "stdout"
        }
      ]
    },
    {
      "cell_type": "code",
      "metadata": {
        "id": "u8ihkZjhdiKK",
        "colab_type": "code",
        "colab": {
          "base_uri": "https://localhost:8080/",
          "height": 34
        },
        "outputId": "3074a55e-fb90-45f1-910f-33fbf1012495"
      },
      "source": [
        "div3 = a % 3 == 0\n",
        "print(a[div3])"
      ],
      "execution_count": 30,
      "outputs": [
        {
          "output_type": "stream",
          "text": [
            "[ 0  3  6  9 12 15 18 21 24]\n"
          ],
          "name": "stdout"
        }
      ]
    },
    {
      "cell_type": "markdown",
      "metadata": {
        "id": "iHJjDNmjtP94",
        "colab_type": "text"
      },
      "source": [
        "## Array Broadcasting"
      ]
    },
    {
      "cell_type": "code",
      "metadata": {
        "id": "pYiC-lMitUrV",
        "colab_type": "code",
        "colab": {
          "base_uri": "https://localhost:8080/",
          "height": 255
        },
        "outputId": "9bd87b1b-6063-4ffc-d566-b61a2a698b7c"
      },
      "source": [
        "# Rule 1\n",
        "a = np.ones((3,5))\n",
        "b = np.ones((5,))\n",
        "\n",
        "print(f\"a:\\n{a}\\n\")\n",
        "print(f\"b:\\n{b}\\n\")\n",
        "\n",
        "b.reshape(1,5)\n",
        "\n",
        "print(\"b new axis:\")\n",
        "print(b[np.newaxis, :])\n",
        "\n",
        "print(f\"\\nb:\\n{b}\\n\")"
      ],
      "execution_count": 7,
      "outputs": [
        {
          "output_type": "stream",
          "text": [
            "a:\n",
            "[[1. 1. 1. 1. 1.]\n",
            " [1. 1. 1. 1. 1.]\n",
            " [1. 1. 1. 1. 1.]]\n",
            "\n",
            "b:\n",
            "[1. 1. 1. 1. 1.]\n",
            "\n",
            "b new axis:\n",
            "[[1. 1. 1. 1. 1.]]\n",
            "\n",
            "b:\n",
            "[1. 1. 1. 1. 1.]\n",
            "\n"
          ],
          "name": "stdout"
        }
      ]
    },
    {
      "cell_type": "code",
      "metadata": {
        "id": "ylk9Nb2ut-Sv",
        "colab_type": "code",
        "colab": {
          "base_uri": "https://localhost:8080/",
          "height": 323
        },
        "outputId": "52da2696-18e5-4c6f-defc-1b66bbb01db9"
      },
      "source": [
        "# Rule 2:\n",
        "c = a + b\n",
        "tmp_b = b.reshape(1,5)\n",
        "tmp_b_repeat = tmp_b.repeat(3, axis=0)\n",
        "c = a + tmp_b_repeat\n",
        "\n",
        "print(f\"c:\\n{c}\\n\")\n",
        "print(f\"tmp_b:\\n{tmp_b}\\n\")\n",
        "print(f\"tmp_b_repeat:\\n{tmp_b_repeat}\\n\")\n",
        "print(f\"c:\\n{c}\\n\")"
      ],
      "execution_count": 8,
      "outputs": [
        {
          "output_type": "stream",
          "text": [
            "c:\n",
            "[[2. 2. 2. 2. 2.]\n",
            " [2. 2. 2. 2. 2.]\n",
            " [2. 2. 2. 2. 2.]]\n",
            "\n",
            "tmp_b:\n",
            "[[1. 1. 1. 1. 1.]]\n",
            "\n",
            "tmp_b_repeat:\n",
            "[[1. 1. 1. 1. 1.]\n",
            " [1. 1. 1. 1. 1.]\n",
            " [1. 1. 1. 1. 1.]]\n",
            "\n",
            "c:\n",
            "[[2. 2. 2. 2. 2.]\n",
            " [2. 2. 2. 2. 2.]\n",
            " [2. 2. 2. 2. 2.]]\n",
            "\n"
          ],
          "name": "stdout"
        }
      ]
    },
    {
      "cell_type": "code",
      "metadata": {
        "id": "EcGNjXUduSsO",
        "colab_type": "code",
        "colab": {
          "base_uri": "https://localhost:8080/",
          "height": 221
        },
        "outputId": "a2be6a9c-979c-4c13-8289-f5e813bc3156"
      },
      "source": [
        "# Broadcasting in action\n",
        "a = np.array([0, 10, 20, 30])\n",
        "b = np.array([0, 1, 2])\n",
        "y = a[:, np.newaxis] + b\n",
        "\n",
        "print(f\"a:\\n{a}\\n\")\n",
        "print(f\"b:\\n{b}\\n\")\n",
        "print(f\"y:\\n{y}\\n\")"
      ],
      "execution_count": 10,
      "outputs": [
        {
          "output_type": "stream",
          "text": [
            "a:\n",
            "[ 0 10 20 30]\n",
            "\n",
            "b:\n",
            "[0 1 2]\n",
            "\n",
            "y:\n",
            "[[ 0  1  2]\n",
            " [10 11 12]\n",
            " [20 21 22]\n",
            " [30 31 32]]\n",
            "\n"
          ],
          "name": "stdout"
        }
      ]
    },
    {
      "cell_type": "markdown",
      "metadata": {
        "id": "j9cFjKLhyTFQ",
        "colab_type": "text"
      },
      "source": [
        "Array Calculations"
      ]
    },
    {
      "cell_type": "code",
      "metadata": {
        "id": "hbbz7eolySjf",
        "colab_type": "code",
        "colab": {}
      },
      "source": [
        "a = np.array([1,2,3],[4,5,6])\n",
        "print(a.sum())"
      ],
      "execution_count": 0,
      "outputs": []
    },
    {
      "cell_type": "code",
      "metadata": {
        "id": "NdJGcyPnynsr",
        "colab_type": "code",
        "colab": {}
      },
      "source": [
        "print(a.sum(axis=0))"
      ],
      "execution_count": 0,
      "outputs": []
    },
    {
      "cell_type": "code",
      "metadata": {
        "id": "h3zpVmeUyuKD",
        "colab_type": "code",
        "colab": {}
      },
      "source": [
        "print(a.sum(axis=1))"
      ],
      "execution_count": 0,
      "outputs": []
    },
    {
      "cell_type": "code",
      "metadata": {
        "id": "LJ5FwyPp0SXU",
        "colab_type": "code",
        "colab": {
          "base_uri": "https://localhost:8080/",
          "height": 102
        },
        "outputId": "f789d1f1-c223-4fd3-9cf3-051ca7bd879e"
      },
      "source": [
        "a = np.array([[2,3], [0,1]])\n",
        "print(\"a:\")\n",
        "print(f\"{a}\\n\")\n",
        "np.min(a)"
      ],
      "execution_count": 14,
      "outputs": [
        {
          "output_type": "stream",
          "text": [
            "a:\n",
            "[[2 3]\n",
            " [0 1]]\n",
            "\n"
          ],
          "name": "stdout"
        },
        {
          "output_type": "execute_result",
          "data": {
            "text/plain": [
              "0"
            ]
          },
          "metadata": {
            "tags": []
          },
          "execution_count": 14
        }
      ]
    },
    {
      "cell_type": "code",
      "metadata": {
        "id": "MaBdmPnW0kcI",
        "colab_type": "code",
        "colab": {
          "base_uri": "https://localhost:8080/",
          "height": 34
        },
        "outputId": "410bf4df-50a8-41b5-9bb6-2662a3d149e7"
      },
      "source": [
        "a.min()"
      ],
      "execution_count": 12,
      "outputs": [
        {
          "output_type": "execute_result",
          "data": {
            "text/plain": [
              "0"
            ]
          },
          "metadata": {
            "tags": []
          },
          "execution_count": 12
        }
      ]
    },
    {
      "cell_type": "code",
      "metadata": {
        "id": "qHlUxFX_0nvs",
        "colab_type": "code",
        "colab": {}
      },
      "source": [
        "a.max(axis=0)"
      ],
      "execution_count": 0,
      "outputs": []
    },
    {
      "cell_type": "code",
      "metadata": {
        "id": "y61H2thC0sea",
        "colab_type": "code",
        "colab": {}
      },
      "source": [
        "np.max(a, axis=1)"
      ],
      "execution_count": 0,
      "outputs": []
    },
    {
      "cell_type": "code",
      "metadata": {
        "id": "26uS9gKl0w_v",
        "colab_type": "code",
        "colab": {}
      },
      "source": [
        "a.argmax()"
      ],
      "execution_count": 0,
      "outputs": []
    },
    {
      "cell_type": "code",
      "metadata": {
        "id": "xlfWWwXU0zFF",
        "colab_type": "code",
        "colab": {}
      },
      "source": [
        "np.argmin(a)"
      ],
      "execution_count": 0,
      "outputs": []
    },
    {
      "cell_type": "code",
      "metadata": {
        "id": "VjpD5EzO00um",
        "colab_type": "code",
        "colab": {}
      },
      "source": [
        "# Unravel to unflatten, to know the exact coords of the argmax in n-d array\n",
        "np.unravel_index(a.argmax(), a.shape)"
      ],
      "execution_count": 0,
      "outputs": []
    },
    {
      "cell_type": "code",
      "metadata": {
        "id": "K49KGmm71lQB",
        "colab_type": "code",
        "colab": {
          "base_uri": "https://localhost:8080/",
          "height": 102
        },
        "outputId": "5d74e1d1-746a-4e45-c3d6-25b2d6b39315"
      },
      "source": [
        "# Where\n",
        "a = np.arange(-2, 2) ** 2\n",
        "print(f\"{a}\\n\")\n",
        "\n",
        "mask = a%2==0\n",
        "print(f\"mask is {mask}\\n\")\n",
        "\n",
        "print(np.where(mask))"
      ],
      "execution_count": 15,
      "outputs": [
        {
          "output_type": "stream",
          "text": [
            "[4 1 0 1]\n",
            "\n",
            "mask is [ True False  True False]\n",
            "\n",
            "(array([0, 2]),)\n"
          ],
          "name": "stdout"
        }
      ]
    },
    {
      "cell_type": "markdown",
      "metadata": {
        "id": "JiAcNfdn2lUp",
        "colab_type": "text"
      },
      "source": [
        "## Exercise: Wind Statistics"
      ]
    },
    {
      "cell_type": "markdown",
      "metadata": {
        "id": "YWrlk4RE2psC",
        "colab_type": "text"
      },
      "source": [
        "Exercise Starting Code"
      ]
    },
    {
      "cell_type": "code",
      "metadata": {
        "id": "6rudGnyY2s-Z",
        "colab_type": "code",
        "colab": {}
      },
      "source": [
        "\"\"\"\n",
        "Wind Statistics\n",
        "----------------\n",
        "\n",
        "Topics: Using array methods over different axes, fancy indexing.\n",
        "\n",
        "1. The data in 'wind.data' has the following format::\n",
        "\n",
        "        61  1  1 15.04 14.96 13.17  9.29 13.96  9.87 13.67 10.25 10.83 12.58 18.50 15.04\n",
        "        61  1  2 14.71 16.88 10.83  6.50 12.62  7.67 11.50 10.04  9.79  9.67 17.54 13.83\n",
        "        61  1  3 18.50 16.88 12.33 10.13 11.17  6.17 11.25  8.04  8.50  7.67 12.75 12.71\n",
        "\n",
        "   The first three columns are year, month and day.  The\n",
        "   remaining 12 columns are average windspeeds in knots at 12\n",
        "   locations in Ireland on that day.\n",
        "\n",
        "   Use the 'loadtxt' function from numpy to read the data into\n",
        "   an array.\n",
        "\n",
        "2. Calculate the min, max and mean windspeeds and standard deviation of the\n",
        "   windspeeds over all the locations and all the times (a single set of numbers\n",
        "   for the entire dataset).\n",
        "\n",
        "3. Calculate the min, max and mean windspeeds and standard deviations of the\n",
        "   windspeeds at each location over all the days (a different set of numbers\n",
        "   for each location)\n",
        "\n",
        "4. Calculate the min, max and mean windspeed and standard deviations of the\n",
        "   windspeeds across all the locations at each day (a different set of numbers\n",
        "   for each day)\n",
        "\n",
        "5. Find the location which has the greatest windspeed on each day (an integer\n",
        "   column number for each day).\n",
        "\n",
        "6. Find the year, month and day on which the greatest windspeed was recorded.\n",
        "\n",
        "7. Find the average windspeed in January for each location.\n",
        "\n",
        "You should be able to perform all of these operations without using a for\n",
        "loop or other looping construct.\n",
        "\n",
        "Bonus\n",
        "~~~~~\n",
        "\n",
        "1. Calculate the mean windspeed for each month in the dataset.  Treat\n",
        "   January 1961 and January 1962 as *different* months. (hint: first find a\n",
        "   way to create an identifier unique for each month. The second step might\n",
        "   require a for loop.)\n",
        "\n",
        "2. Calculate the min, max and mean windspeeds and standard deviations of the\n",
        "   windspeeds across all locations for each week (assume that the first week\n",
        "   starts on January 1 1961) for the first 52 weeks. This can be done without\n",
        "   any for loop.\n",
        "\n",
        "Bonus Bonus\n",
        "~~~~~~~~~~~\n",
        "\n",
        "Calculate the mean windspeed for each month without using a for loop.\n",
        "(Hint: look at `searchsorted` and `add.reduceat`.)\n",
        "\n",
        "Notes\n",
        "~~~~~\n",
        "\n",
        "These data were analyzed in detail in the following article:\n",
        "\n",
        "   Haslett, J. and Raftery, A. E. (1989). Space-time Modelling with\n",
        "   Long-memory Dependence: Assessing Ireland's Wind Power Resource\n",
        "   (with Discussion). Applied Statistics 38, 1-50.\n",
        "\n",
        "\n",
        "See :ref:`wind-statistics-solution`.\n",
        "\"\"\"\n",
        "\n",
        "from numpy import loadtxt\n",
        "\n"
      ],
      "execution_count": 0,
      "outputs": []
    },
    {
      "cell_type": "code",
      "metadata": {
        "id": "Iox3NuRw7Pr7",
        "colab_type": "code",
        "colab": {
          "base_uri": "https://localhost:8080/",
          "height": 136
        },
        "outputId": "b503c1dd-bf87-46fc-ddf6-38d0cf02a1b7"
      },
      "source": [
        "# 1. The data in 'wind.data' has the following format::\n",
        "#\n",
        "#        61  1  1 15.04 14.96 13.17  9.29 13.96  9.87 13.67 10.25 10.83 12.58 18.50 15.04\n",
        "#        61  1  2 14.71 16.88 10.83  6.50 12.62  7.67 11.50 10.04  9.79  9.67 17.54 13.83\n",
        "#        61  1  3 18.50 16.88 12.33 10.13 11.17  6.17 11.25  8.04  8.50  7.67 12.75 12.71\n",
        "#\n",
        "#   The first three columns are year, month and day.  The\n",
        "#   remaining 12 columns are average windspeeds in knots at 12\n",
        "#   locations in Ireland on that day.\n",
        "\n",
        "#   Use the 'loadtxt' function from numpy to read the data into\n",
        "#   an array.\n",
        "\n",
        "wind_data = loadtxt(tut_path + '/exercises/wind_statistics/wind.data')\n",
        "\n",
        "data = wind_data[:, 3:]\n",
        "print(data)"
      ],
      "execution_count": 26,
      "outputs": [
        {
          "output_type": "stream",
          "text": [
            "[[15.04 14.96 13.17 ... 12.58 18.5  15.04]\n",
            " [14.71 16.88 10.83 ...  9.67 17.54 13.83]\n",
            " [18.5  16.88 12.33 ...  7.67 12.75 12.71]\n",
            " ...\n",
            " [14.   10.29 14.42 ... 16.42 18.88 29.58]\n",
            " [18.5  14.04 21.29 ... 12.12 14.67 28.79]\n",
            " [20.33 17.41 27.29 ... 11.38 12.08 22.08]]\n"
          ],
          "name": "stdout"
        }
      ]
    },
    {
      "cell_type": "code",
      "metadata": {
        "id": "FERRPbj37ss-",
        "colab_type": "code",
        "colab": {
          "base_uri": "https://localhost:8080/",
          "height": 204
        },
        "outputId": "7e32027f-adcf-4af1-a99a-f4ac7e34b6c9"
      },
      "source": [
        "#2. Calculate the min, max and mean windspeeds and standard deviation of the\n",
        "#   windspeeds over all the locations and all the times (a single set of numbers\n",
        "#   for the entire dataset).\n",
        "\n",
        "print(\"min:\")\n",
        "print(data.min())\n",
        "\n",
        "print(\"\\nmax:\")\n",
        "print(data.max())\n",
        "\n",
        "print(\"\\nmean:\")\n",
        "print(data.mean())\n",
        "\n",
        "print(\"\\nstd:\")\n",
        "print(data.std())"
      ],
      "execution_count": 25,
      "outputs": [
        {
          "output_type": "stream",
          "text": [
            "min:\n",
            "1.0\n",
            "\n",
            "max:\n",
            "61.0\n",
            "\n",
            "mean:\n",
            "13.929777777777776\n",
            "\n",
            "std:\n",
            "13.39782278977345\n"
          ],
          "name": "stdout"
        }
      ]
    },
    {
      "cell_type": "code",
      "metadata": {
        "id": "GDLPkfT-9CX5",
        "colab_type": "code",
        "colab": {}
      },
      "source": [
        "# 3.\n",
        "\n",
        "# Collapse rows, so axis=0, also column 3:\n",
        "\n",
        "data.mean(axis=0)"
      ],
      "execution_count": 0,
      "outputs": []
    },
    {
      "cell_type": "code",
      "metadata": {
        "id": "Irsdq8wW9aCw",
        "colab_type": "code",
        "colab": {
          "base_uri": "https://localhost:8080/",
          "height": 34
        },
        "outputId": "36207e50-e296-409a-bc0a-446b83aa2dbc"
      },
      "source": [
        "# 6.\n",
        "\n",
        "windy_day = np.where(data == data.max())  # not where(data.max())\n",
        "print(windy_day)\n",
        "\n",
        "## Also try with unravel_index"
      ],
      "execution_count": 29,
      "outputs": [
        {
          "output_type": "stream",
          "text": [
            "(array([2161]), array([11]))\n"
          ],
          "name": "stdout"
        }
      ]
    },
    {
      "cell_type": "markdown",
      "metadata": {
        "id": "xqlyE-cF2tpz",
        "colab_type": "text"
      },
      "source": [
        "Exercise Solution"
      ]
    },
    {
      "cell_type": "code",
      "metadata": {
        "id": "raY7jMMm2uB1",
        "colab_type": "code",
        "colab": {}
      },
      "source": [
        "\"\"\"\n",
        "Wind Statistics\n",
        "----------------\n",
        "\n",
        "Topics: Using array methods over different axes, fancy indexing.\n",
        "\n",
        "1. The data in 'wind.data' has the following format::\n",
        "\n",
        "        61  1  1 15.04 14.96 13.17  9.29 13.96  9.87 13.67 10.25 10.83 12.58 18.50 15.04\n",
        "        61  1  2 14.71 16.88 10.83  6.50 12.62  7.67 11.50 10.04  9.79  9.67 17.54 13.83\n",
        "        61  1  3 18.50 16.88 12.33 10.13 11.17  6.17 11.25  8.04  8.50  7.67 12.75 12.71\n",
        "\n",
        "   The first three columns are year, month and day.  The\n",
        "   remaining 12 columns are average windspeeds in knots at 12\n",
        "   locations in Ireland on that day.\n",
        "\n",
        "   Use the 'loadtxt' function from numpy to read the data into\n",
        "   an array.\n",
        "\n",
        "2. Calculate the min, max and mean windspeeds and standard deviation of the\n",
        "   windspeeds over all the locations and all the times (a single set of numbers\n",
        "   for the entire dataset).\n",
        "\n",
        "3. Calculate the min, max and mean windspeeds and standard deviations of the\n",
        "   windspeeds at each location over all the days (a different set of numbers\n",
        "   for each location)\n",
        "\n",
        "4. Calculate the min, max and mean windspeed and standard deviations of the\n",
        "   windspeeds across all the locations at each day (a different set of numbers\n",
        "   for each day)\n",
        "\n",
        "5. Find the location which has the greatest windspeed on each day (an integer\n",
        "   column number for each day).\n",
        "\n",
        "6. Find the year, month and day on which the greatest windspeed was recorded.\n",
        "\n",
        "7. Find the average windspeed in January for each location.\n",
        "\n",
        "You should be able to perform all of these operations without using a for\n",
        "loop or other looping construct.\n",
        "\n",
        "Bonus\n",
        "~~~~~\n",
        "\n",
        "1. Calculate the mean windspeed for each month in the dataset.  Treat\n",
        "   January 1961 and January 1962 as *different* months.\n",
        "\n",
        "2. Calculate the min, max and mean windspeeds and standard deviations of the\n",
        "   windspeeds across all locations for each week (assume that the first week\n",
        "   starts on January 1 1961) for the first 52 weeks.\n",
        "\n",
        "Bonus Bonus\n",
        "~~~~~~~~~~~\n",
        "\n",
        "Calculate the mean windspeed for each month without using a for loop.\n",
        "(Hint: look at `searchsorted` and `add.reduceat`.)\n",
        "\n",
        "Notes\n",
        "~~~~~\n",
        "\n",
        "These data were analyzed in detail in the following article:\n",
        "\n",
        "   Haslett, J. and Raftery, A. E. (1989). Space-time Modelling with\n",
        "   Long-memory Dependence: Assessing Ireland's Wind Power Resource\n",
        "   (with Discussion). Applied Statistics 38, 1-50.\n",
        "\n",
        "\"\"\"\n",
        "from __future__ import print_function\n",
        "from numpy import (loadtxt, arange, searchsorted, add, zeros, unravel_index,\n",
        "                   where)\n",
        "\n",
        "wind_data = loadtxt('tut_path' + '/exercises/wind_statistics/wind.data')\n",
        "\n",
        "data = wind_data[:, 3:]\n",
        "\n",
        "print('2. Statistics over all values')\n",
        "print('  min:', data.min())\n",
        "print('  max:', data.max())\n",
        "print('  mean:', data.mean())\n",
        "print('  standard deviation:', data.std())\n",
        "print()\n",
        "\n",
        "print('3. Statistics over all days at each location')\n",
        "print('  min:', data.min(axis=0))\n",
        "print('  max:', data.max(axis=0))\n",
        "print('  mean:', data.mean(axis=0))\n",
        "print('  standard deviation:', data.std(axis=0))\n",
        "print()\n",
        "\n",
        "print('4. Statistics over all locations for each day')\n",
        "print('  min:', data.min(axis=1))\n",
        "print('  max:', data.max(axis=1))\n",
        "print('  mean:', data.mean(axis=1))\n",
        "print('  standard deviation:', data.std(axis=1))\n",
        "print()\n",
        "\n",
        "print('5. Location of daily maximum')\n",
        "print('  daily max location:', data.argmax(axis=1))\n",
        "print()\n",
        "\n",
        "daily_max = data.max(axis=1)\n",
        "max_row = daily_max.argmax()\n",
        "# Note: Another way to do this would be to use the unravel_index function\n",
        "# which takes a linear index and convert it to a location given the shape\n",
        "# of the array:\n",
        "max_row, max_col = unravel_index(data.argmax(), data.shape)\n",
        "# Or you could use \"where\", which identifies *all* the places where the max\n",
        "# occurs, rather than just the first. Note that \"where\" returns two arrays in\n",
        "# this case, instead of two integers.\n",
        "max_row, max_col = where(data == data.max())\n",
        "\n",
        "\n",
        "print('6. Day of maximum reading')\n",
        "print('  Year:', int(wind_data[max_row, 0]))\n",
        "print('  Month:', int(wind_data[max_row, 1]))\n",
        "print('  Day:', int(wind_data[max_row, 2]))\n",
        "print()\n",
        "\n",
        "january_indices = wind_data[:, 1] == 1\n",
        "january_data = data[january_indices]\n",
        "\n",
        "print('7. Statistics for January')\n",
        "print('  mean:', january_data.mean(axis=0))\n",
        "print()\n",
        "\n",
        "# Bonus\n",
        "\n",
        "# compute the month number for each day in the dataset\n",
        "months = (wind_data[:, 0] - 61) * 12 + wind_data[:, 1] - 1\n",
        "\n",
        "# we're going to use the month values as indices, so we need\n",
        "# them to be integers\n",
        "months = months.astype(int)\n",
        "\n",
        "# get set of unique months\n",
        "month_values = set(months)\n",
        "\n",
        "# initialize an array to hold the result\n",
        "monthly_means = zeros(len(month_values))\n",
        "\n",
        "for month in month_values:\n",
        "    # find the rows that correspond to the current month\n",
        "    day_indices = (months == month)\n",
        "\n",
        "    # extract the data for the current month using fancy indexing\n",
        "    month_data = data[day_indices]\n",
        "\n",
        "    # find the mean\n",
        "    monthly_means[month] = month_data.mean()\n",
        "\n",
        "    # Note: experts might do this all-in one\n",
        "    # monthly_means[month] = data[months==month].mean()\n",
        "\n",
        "# In fact the whole for loop could reduce to the following one-liner\n",
        "# monthly_means = array([data[months==month].mean() for month in month_values])\n",
        "\n",
        "\n",
        "print(\"Bonus 1.\")\n",
        "print(\"  mean:\", monthly_means)\n",
        "print()\n",
        "\n",
        "# Bonus 2.\n",
        "# Extract the data for the first 52 weeks. Then reshape the array to put\n",
        "# on the same line 7 days worth of data for all locations. Let Numpy\n",
        "# figure out the number of lines needed to do so\n",
        "weekly_data = data[:52 * 7].reshape(-1, 7 * 12)\n",
        "\n",
        "print('Bonus 2. Weekly statistics over all locations')\n",
        "print('  min:', weekly_data.min(axis=1))\n",
        "print('  max:', weekly_data.max(axis=1))\n",
        "print('  mean:', weekly_data.mean(axis=1))\n",
        "print('  standard deviation:', weekly_data.std(axis=1))\n",
        "print()\n",
        "\n",
        "# Bonus Bonus : this is really tricky...\n",
        "\n",
        "# compute the month number for each day in the dataset\n",
        "months = (wind_data[:, 0] - 61) * 12 + wind_data[:, 1] - 1\n",
        "\n",
        "# find the indices for the start of each month\n",
        "# this is a useful trick - we use range from 0 to the\n",
        "# number of months + 1 and searchsorted to find the insertion\n",
        "# points for each.\n",
        "month_indices = searchsorted(months, arange(months[-1] + 2))\n",
        "\n",
        "# now use add.reduceat to get the sum at each location\n",
        "monthly_loc_totals = add.reduceat(data, month_indices[:-1])\n",
        "\n",
        "# now use add to find the sum across all locations for each month\n",
        "monthly_totals = monthly_loc_totals.sum(axis=1)\n",
        "\n",
        "# now find total number of measurements for each month\n",
        "month_days = month_indices[1:] - month_indices[:-1]\n",
        "measurement_count = month_days * 12\n",
        "\n",
        "# compute the mean\n",
        "monthly_means = monthly_totals / measurement_count\n",
        "\n",
        "print(\"Bonus Bonus\")\n",
        "print(\"  mean:\", monthly_means)\n",
        "\n",
        "# Notes: this method relies on the fact that the months are contiguous in the\n",
        "# data set - the method used in the bonus section works for non-contiguous\n",
        "# days.\n"
      ],
      "execution_count": 0,
      "outputs": []
    },
    {
      "cell_type": "markdown",
      "metadata": {
        "id": "p38vaJfBxx6e",
        "colab_type": "text"
      },
      "source": [
        "## NumPy Operations (Material outside of the Enthought Tutorial)"
      ]
    },
    {
      "cell_type": "code",
      "metadata": {
        "id": "skRFGz9zI3TJ",
        "colab_type": "code",
        "outputId": "181627dc-3182-4d37-cff0-88113a6b99d0",
        "colab": {
          "base_uri": "https://localhost:8080/",
          "height": 272
        }
      },
      "source": [
        "# Concatenation\n",
        "array_1 = np.array([[1,2,3],[0,0,0]])\n",
        "array_2 = np.array([[0,0,0],[7,8,9]])\n",
        "\n",
        "print(array_1)\n",
        "print()\n",
        "print(array_2)\n",
        "print()\n",
        "print(\"Axis 0 Concat:\")\n",
        "print (np.concatenate((array_1, array_2), axis = 0)) \n",
        "print()\n",
        "print(\"Axis 1 Concat\")\n",
        "print (np.concatenate((array_1, array_2), axis = 1)) "
      ],
      "execution_count": 0,
      "outputs": [
        {
          "output_type": "stream",
          "text": [
            "[[1 2 3]\n",
            " [0 0 0]]\n",
            "\n",
            "[[0 0 0]\n",
            " [7 8 9]]\n",
            "\n",
            "Axis 0 Concat:\n",
            "[[1 2 3]\n",
            " [0 0 0]\n",
            " [0 0 0]\n",
            " [7 8 9]]\n",
            "\n",
            "Axis 1 Concat\n",
            "[[1 2 3 0 0 0]\n",
            " [0 0 0 7 8 9]]\n"
          ],
          "name": "stdout"
        }
      ]
    },
    {
      "cell_type": "code",
      "metadata": {
        "id": "vwcJp5VPzr78",
        "colab_type": "code",
        "colab": {}
      },
      "source": [
        ""
      ],
      "execution_count": 0,
      "outputs": []
    }
  ]
}